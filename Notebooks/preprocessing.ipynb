{
  "nbformat": 4,
  "nbformat_minor": 0,
  "metadata": {
    "colab": {
      "provenance": [],
      "authorship_tag": "ABX9TyPkqtnzxXzw3nYuRlDnOmpY",
      "include_colab_link": true
    },
    "kernelspec": {
      "name": "python3",
      "display_name": "Python 3"
    },
    "language_info": {
      "name": "python"
    }
  },
  "cells": [
    {
      "cell_type": "markdown",
      "metadata": {
        "id": "view-in-github",
        "colab_type": "text"
      },
      "source": [
        "<a href=\"https://colab.research.google.com/github/saiabhiteja/Plant-Disease-Detection/blob/main/Notebooks/preprocessing.ipynb\" target=\"_parent\"><img src=\"https://colab.research.google.com/assets/colab-badge.svg\" alt=\"Open In Colab\"/></a>"
      ]
    },
    {
      "cell_type": "markdown",
      "source": [
        "# Preprocessing \n",
        "\n",
        "---\n",
        "\n"
      ],
      "metadata": {
        "id": "e6K5fo5bH0Fm"
      }
    },
    {
      "cell_type": "code",
      "execution_count": 10,
      "metadata": {
        "colab": {
          "base_uri": "https://localhost:8080/"
        },
        "id": "HqCr1XZ5HVwl",
        "outputId": "62497ab0-c0cc-4d2b-d076-6394c90b846c"
      },
      "outputs": [
        {
          "output_type": "stream",
          "name": "stdout",
          "text": [
            "Ready,set,go....\n"
          ]
        }
      ],
      "source": [
        "#importing useful libraries\n",
        "import pandas as pd\n",
        "import numpy as np\n",
        "import seaborn as sns\n",
        "import matplotlib.pyplot as plt\n",
        "from matplotlib.gridspec import GridSpec\n",
        "from matplotlib import cm\n",
        "%matplotlib inline\n",
        "import matplotlib.pyplot as plt\n",
        "import matplotlib.image as mpimg\n",
        "import seaborn as sns\n",
        "sns.set(style='darkgrid',rc = {'figure.figsize':(15,8)})\n",
        "import os\n",
        "from random import randint\n",
        "import PIL\n",
        "plt.rcParams['figure.figsize'] = [10, 8]\n",
        "import skimage\n",
        "from skimage.filters import gaussian,median\n",
        "from skimage import data, img_as_float\n",
        "from skimage import exposure\n",
        "import cv2\n",
        "import warnings\n",
        "warnings.filterwarnings(\"ignore\")\n",
        "from tqdm import tqdm\n",
        "from skimage import io\n",
        "import skimage\n",
        "from skimage.filters import gaussian\n",
        "from skimage import data, img_as_float\n",
        "from skimage import exposure\n",
        "import imageio\n",
        "print(\"Ready,set,go....\")"
      ]
    },
    {
      "cell_type": "code",
      "source": [
        "#method for comparing two graphs at the same time\n",
        "def compare(original,filtered,title_filtered=\"Filtered\",cmap_type=\"gray\",axis=False,title_original=\"Original\",):\n",
        "    fig, (ax1, ax2) = plt.subplots(ncols=2, figsize=(10, 8), sharex=True, sharey=True)\n",
        "\n",
        "    ax1.imshow(original, cmap=cmap_type)\n",
        "    ax1.set_title(title_original)\n",
        "\n",
        "    ax2.imshow(filtered, cmap=cmap_type)\n",
        "    ax2.set_title(title_filtered)\n",
        "\n",
        "    if not axis:\n",
        "        ax1.axis(\"off\")\n",
        "        ax2.axis(\"off\")\n",
        "    plt.subplots_adjust(top=1, bottom=0, right=1, left=0, hspace=0, wspace=0.01)\n",
        "    plt.margins(0, 0)\n",
        "    plt.show();"
      ],
      "metadata": {
        "id": "vcx5_ksDIBw2"
      },
      "execution_count": 4,
      "outputs": []
    },
    {
      "cell_type": "code",
      "source": [
        "#empty lists for further usage \n",
        "flist_train = []\n",
        "flist_test = []\n",
        "test_paths = []\n",
        "train_paths = []"
      ],
      "metadata": {
        "id": "KUF5lEU6JTW6"
      },
      "execution_count": 7,
      "outputs": []
    },
    {
      "cell_type": "code",
      "source": [
        "#unzipping the data\n",
        "#!unzip '/content/data.zip'"
      ],
      "metadata": {
        "id": "sL3EHYFbJGhS"
      },
      "execution_count": null,
      "outputs": []
    },
    {
      "cell_type": "code",
      "source": [
        "#making different folders\n",
        "os.makedirs('/content/drive/MyDrive/Final_year_project')\n",
        "os.makedirs('/content/drive/MyDrive/Final_year_project/train_images')\n",
        "os.makedirs('/content/drive/MyDrive/Final_year_project/test_images')"
      ],
      "metadata": {
        "id": "SGVpUa45IVWT"
      },
      "execution_count": 5,
      "outputs": []
    },
    {
      "cell_type": "code",
      "source": [
        "#final path variables\n",
        "final_train_path = '/content/drive/MyDrive/Final_year_project/train_images'\n",
        "final_test_path = '/content/drive/MyDrive/Final_year_project/test_images'\n",
        "test_path = '/content/dataset_itr2/test'\n",
        "train_path = '/content/dataset_itr2/train'"
      ],
      "metadata": {
        "id": "951GUHj5JGMu"
      },
      "execution_count": null,
      "outputs": []
    },
    {
      "cell_type": "code",
      "source": [
        "#creating empty folders\n",
        "for fldr in os.listdir(train_path):\n",
        "  os.makedirs(os.path.join(final_train_path,fldr))\n",
        "\n",
        "for fldr in os.listdir(test_path):\n",
        "  os.makedirs(os.path.join(final_test_path,fldr))"
      ],
      "metadata": {
        "id": "7TYIbkPDIrnh"
      },
      "execution_count": 6,
      "outputs": []
    },
    {
      "cell_type": "code",
      "source": [
        "#appending lists according to the path\n",
        "for fldr in os.listdir(final_train_path):\n",
        "  flist_train.append(os.path.join(final_train_path,fldr))\n",
        "\n",
        "\n",
        "for fldr in os.listdir(final_test_path):\n",
        "  flist_test.append(os.path.join(final_test_path,fldr))\n",
        "\n",
        "\n",
        "for fldr in os.listdir(test_path):\n",
        "  test_paths.append(os.path.join(test_path,fldr))\n",
        "\n",
        "  \n",
        "for fldr in os.listdir(train_path):\n",
        "  train_paths.append(os.path.join(train_path,fldr))"
      ],
      "metadata": {
        "id": "u0FKDhDNI1DM"
      },
      "execution_count": null,
      "outputs": []
    },
    {
      "cell_type": "code",
      "source": [
        "import warnings\n",
        "warnings.filterwarnings(\"ignore\")\n",
        "\n",
        "for i in tqdm(range(len(flist_train))):\n",
        "  final_fldr = flist_train[i]\n",
        "  orginal_fldr = train_paths[i]\n",
        "\n",
        "  for img in (os.listdir(orginal_fldr)):\n",
        "    try:\n",
        "      image_path = os.path.join(orginal_fldr,img)\n",
        "      image = cv2.imread(image_path)\n",
        "      image = cv2.cvtColor(image, cv2.COLOR_BGR2HSV)\n",
        "      image = exposure.equalize_hist(image)\n",
        "      new_path = os.path.join(final_fldr,image_path)\n",
        "      imageio.imwrite(new_path,image)\n",
        "    except:\n",
        "      print(\"File Skipped\")"
      ],
      "metadata": {
        "id": "_An3CpcRJq11"
      },
      "execution_count": null,
      "outputs": []
    },
    {
      "cell_type": "code",
      "source": [
        "for i in tqdm(range(len(flist_test))):\n",
        "  final_fldr = flist_test[i]\n",
        "  orginal_fldr = test_paths[i]\n",
        "  \n",
        "  for img in tqdm(os.listdir(orginal_fldr)):\n",
        "    try:\n",
        "      image_path = os.path.join(orginal_fldr,img)\n",
        "      image = cv2.imread(image_path)\n",
        "      image = cv2.cvtColor(image, cv2.COLOR_BGR2HSV)\n",
        "      image = exposure.equalize_hist(image)\n",
        "      new_path = os.path.join(final_fldr,image_path)\n",
        "      imageio.imwrite(new_path,image)\n",
        "    except:\n",
        "      print(\"File Skipped\")"
      ],
      "metadata": {
        "id": "5H5zeuMnKD0U"
      },
      "execution_count": null,
      "outputs": []
    },
    {
      "cell_type": "markdown",
      "source": [
        "## Done \n",
        "\n",
        "---\n",
        "\n"
      ],
      "metadata": {
        "id": "ZTE_B-_pKTuF"
      }
    },
    {
      "cell_type": "code",
      "source": [],
      "metadata": {
        "id": "gj_1OfGiKXW4"
      },
      "execution_count": null,
      "outputs": []
    }
  ]
}