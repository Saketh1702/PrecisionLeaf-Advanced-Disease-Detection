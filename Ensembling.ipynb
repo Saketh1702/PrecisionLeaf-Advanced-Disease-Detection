{
  "nbformat": 4,
  "nbformat_minor": 0,
  "metadata": {
    "colab": {
      "provenance": []
    },
    "kernelspec": {
      "name": "python3",
      "display_name": "Python 3"
    },
    "language_info": {
      "name": "python"
    }
  },
  "cells": [
    {
      "cell_type": "code",
      "source": [
        "import numpy as np\n",
        "import tensorflow as tf\n",
        "from tensorflow.keras.models import load_model\n",
        "from sklearn.ensemble import VotingClassifier"
      ],
      "metadata": {
        "id": "u9aadSNQyvYz"
      },
      "execution_count": null,
      "outputs": []
    },
    {
      "cell_type": "code",
      "source": [
        "# Create an ensemble of the first 4 models for leaf health detection\n",
        "ensemble1 = VotingClassifier(estimators=[('xgb', xgb_model),\n",
        "                                         ('rf', rf_model),\n",
        "                                         ('resnet50', resnet50_model),\n",
        "                                         ('inceptionv3', inceptionv3_model)],\n",
        "                             voting='hard')\n",
        "\n",
        "# Create an ensemble of the next 5 models for disease classification\n",
        "ensemble2 = VotingClassifier(estimators=[('vgg16', vgg16_model),\n",
        "                                         ('vgg19', vgg19_model),\n",
        "                                         ('cnn', cnn_model),\n",
        "                                         ('cnn_lstm', cnn_lstm_model),\n",
        "                                         ('inceptionv3_2', inceptionv3_model2)],\n",
        "                             voting='hard')"
      ],
      "metadata": {
        "id": "TXv1kgF5yymU"
      },
      "execution_count": null,
      "outputs": []
    },
    {
      "cell_type": "code",
      "source": [
        "# Make predictions using the first ensemble to classify the leaf health\n",
        "leaf_health_predictions = ensemble1.predict(images)\n",
        "\n",
        "# Determine which leaves are unhealthy and need to be classified for disease\n",
        "unhealthy_leaves = np.where(leaf_health_predictions == 0)[0]\n",
        "\n",
        "# Use the second ensemble to classify the disease for each unhealthy leaf\n",
        "disease_predictions = ensemble2.predict(images[unhealthy_leaves])\n",
        "\n",
        "# Combine the predictions for each image into a single array\n",
        "predictions = np.zeros_like(leaf_health_predictions)\n",
        "predictions[unhealthy_leaves] = disease_predictions"
      ],
      "metadata": {
        "id": "_w_6WHdbzmw4"
      },
      "execution_count": null,
      "outputs": []
    }
  ]
}