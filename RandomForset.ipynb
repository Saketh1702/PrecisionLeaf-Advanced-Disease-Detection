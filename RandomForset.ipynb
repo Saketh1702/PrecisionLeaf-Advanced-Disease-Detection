{
 "cells": [
  {
   "cell_type": "code",
   "execution_count": 1,
   "id": "4c8eb156",
   "metadata": {
    "_cell_guid": "b1076dfc-b9ad-4769-8c92-a6c4dae69d19",
    "_uuid": "8f2839f25d086af736a60e9eeb907d3b93b6e0e5",
    "execution": {
     "iopub.execute_input": "2022-12-04T08:37:52.756607Z",
     "iopub.status.busy": "2022-12-04T08:37:52.756113Z",
     "iopub.status.idle": "2022-12-04T08:37:58.089213Z",
     "shell.execute_reply": "2022-12-04T08:37:58.088199Z"
    },
    "papermill": {
     "duration": 5.345345,
     "end_time": "2022-12-04T08:37:58.091713",
     "exception": false,
     "start_time": "2022-12-04T08:37:52.746368",
     "status": "completed"
    },
    "tags": []
   },
   "outputs": [],
   "source": [
    "import numpy as np\n",
    "from glob import glob\n",
    "from PIL import Image\n",
    "import matplotlib.pyplot as plt\n",
    "from tensorflow.keras.models import Model\n",
    "from tensorflow.keras.models import Sequential\n",
    "from tensorflow.keras.models import load_model\n",
    "from tensorflow.keras.layers import MaxPooling2D\n",
    "from tensorflow.keras.preprocessing import image\n",
    "from tensorflow.keras.applications.vgg19 import VGG19\n",
    "from tensorflow.keras.applications.resnet50 import preprocess_input\n",
    "from tensorflow.keras.layers import Input, Lambda, Dense, Flatten,Conv2D\n",
    "from tensorflow.keras.preprocessing.image import ImageDataGenerator,load_img\n",
    "import warnings\n",
    "warnings.filterwarnings(\"ignore\")"
   ]
  },
  {
   "cell_type": "code",
   "execution_count": 2,
   "id": "8465291e",
   "metadata": {
    "execution": {
     "iopub.execute_input": "2022-12-04T08:37:58.102492Z",
     "iopub.status.busy": "2022-12-04T08:37:58.101961Z",
     "iopub.status.idle": "2022-12-04T08:37:58.106549Z",
     "shell.execute_reply": "2022-12-04T08:37:58.105543Z"
    },
    "papermill": {
     "duration": 0.012083,
     "end_time": "2022-12-04T08:37:58.108591",
     "exception": false,
     "start_time": "2022-12-04T08:37:58.096508",
     "status": "completed"
    },
    "tags": []
   },
   "outputs": [],
   "source": [
    "# re-size all the images to this\n",
    "IMAGE_SIZE = [256, 256]\n",
    "\n",
    "train_path = '/kaggle/input/final-year-2/Data/train_f_images'\n",
    "valid_path = '/kaggle/input/final-year-2/Data/train_images'"
   ]
  },
  {
   "cell_type": "code",
   "execution_count": 3,
   "id": "39050896",
   "metadata": {
    "execution": {
     "iopub.execute_input": "2022-12-04T08:37:58.119833Z",
     "iopub.status.busy": "2022-12-04T08:37:58.118367Z",
     "iopub.status.idle": "2022-12-04T08:38:05.343750Z",
     "shell.execute_reply": "2022-12-04T08:38:05.342698Z"
    },
    "papermill": {
     "duration": 7.233361,
     "end_time": "2022-12-04T08:38:05.346360",
     "exception": false,
     "start_time": "2022-12-04T08:37:58.112999",
     "status": "completed"
    },
    "tags": []
   },
   "outputs": [
    {
     "name": "stderr",
     "output_type": "stream",
     "text": [
      "2022-12-04 08:37:58.221841: I tensorflow/stream_executor/cuda/cuda_gpu_executor.cc:937] successful NUMA node read from SysFS had negative value (-1), but there must be at least one NUMA node, so returning NUMA node zero\n",
      "2022-12-04 08:37:58.384523: I tensorflow/stream_executor/cuda/cuda_gpu_executor.cc:937] successful NUMA node read from SysFS had negative value (-1), but there must be at least one NUMA node, so returning NUMA node zero\n",
      "2022-12-04 08:37:58.385558: I tensorflow/stream_executor/cuda/cuda_gpu_executor.cc:937] successful NUMA node read from SysFS had negative value (-1), but there must be at least one NUMA node, so returning NUMA node zero\n",
      "2022-12-04 08:37:58.387952: I tensorflow/core/platform/cpu_feature_guard.cc:142] This TensorFlow binary is optimized with oneAPI Deep Neural Network Library (oneDNN) to use the following CPU instructions in performance-critical operations:  AVX2 AVX512F FMA\n",
      "To enable them in other operations, rebuild TensorFlow with the appropriate compiler flags.\n"
     ]
    },
    {
     "name": "stdout",
     "output_type": "stream",
     "text": [
      "Downloading data from https://storage.googleapis.com/tensorflow/keras-applications/vgg16/vgg16_weights_tf_dim_ordering_tf_kernels_notop.h5\n",
      "   16384/58889256 [..............................] - ETA: 0s"
     ]
    },
    {
     "name": "stderr",
     "output_type": "stream",
     "text": [
      "2022-12-04 08:37:58.394087: I tensorflow/stream_executor/cuda/cuda_gpu_executor.cc:937] successful NUMA node read from SysFS had negative value (-1), but there must be at least one NUMA node, so returning NUMA node zero\n",
      "2022-12-04 08:37:58.394841: I tensorflow/stream_executor/cuda/cuda_gpu_executor.cc:937] successful NUMA node read from SysFS had negative value (-1), but there must be at least one NUMA node, so returning NUMA node zero\n",
      "2022-12-04 08:37:58.395560: I tensorflow/stream_executor/cuda/cuda_gpu_executor.cc:937] successful NUMA node read from SysFS had negative value (-1), but there must be at least one NUMA node, so returning NUMA node zero\n",
      "2022-12-04 08:38:00.663313: I tensorflow/stream_executor/cuda/cuda_gpu_executor.cc:937] successful NUMA node read from SysFS had negative value (-1), but there must be at least one NUMA node, so returning NUMA node zero\n",
      "2022-12-04 08:38:00.664161: I tensorflow/stream_executor/cuda/cuda_gpu_executor.cc:937] successful NUMA node read from SysFS had negative value (-1), but there must be at least one NUMA node, so returning NUMA node zero\n",
      "2022-12-04 08:38:00.664821: I tensorflow/stream_executor/cuda/cuda_gpu_executor.cc:937] successful NUMA node read from SysFS had negative value (-1), but there must be at least one NUMA node, so returning NUMA node zero\n",
      "2022-12-04 08:38:00.665430: I tensorflow/core/common_runtime/gpu/gpu_device.cc:1510] Created device /job:localhost/replica:0/task:0/device:GPU:0 with 15401 MB memory:  -> device: 0, name: Tesla P100-PCIE-16GB, pci bus id: 0000:00:04.0, compute capability: 6.0\n"
     ]
    },
    {
     "name": "stdout",
     "output_type": "stream",
     "text": [
      "58892288/58889256 [==============================] - 0s 0us/step\n",
      "58900480/58889256 [==============================] - 0s 0us/step\n",
      "Downloading data from https://storage.googleapis.com/tensorflow/keras-applications/vgg16/vgg16_weights_tf_dim_ordering_tf_kernels.h5\n",
      "553467904/553467096 [==============================] - 2s 0us/step\n",
      "553476096/553467096 [==============================] - 2s 0us/step\n"
     ]
    }
   ],
   "source": [
    "from keras.applications.vgg16 import VGG16\n",
    "SIZE = 224\n",
    "\n",
    "VGG = VGG16(weights='imagenet', include_top=False, input_shape=(SIZE, SIZE, 3))\n",
    "VGG_fc = VGG16(weights='imagenet', include_top=True, input_shape=(SIZE, SIZE, 3))\n",
    "\n",
    "VGG_model = Sequential()\n",
    "VGG_model_fc = Sequential()\n",
    "\n",
    "for layer in VGG.layers:\n",
    "    VGG_model.add(layer) \n",
    "    \n",
    "for layer in VGG_fc.layers[:-1]:\n",
    "    VGG_model_fc.add(layer) \n",
    "    \n",
    "# Freeze the layers    \n",
    "for layer in VGG_model.layers:\n",
    "    layer.trainable=False\n",
    "    \n",
    "for layer in VGG_model_fc.layers:\n",
    "    layer.trainable=False"
   ]
  },
  {
   "cell_type": "code",
   "execution_count": 4,
   "id": "2febaf5b",
   "metadata": {
    "execution": {
     "iopub.execute_input": "2022-12-04T08:38:05.365085Z",
     "iopub.status.busy": "2022-12-04T08:38:05.364240Z",
     "iopub.status.idle": "2022-12-04T08:38:05.381486Z",
     "shell.execute_reply": "2022-12-04T08:38:05.380202Z"
    },
    "papermill": {
     "duration": 0.03079,
     "end_time": "2022-12-04T08:38:05.385791",
     "exception": false,
     "start_time": "2022-12-04T08:38:05.355001",
     "status": "completed"
    },
    "tags": []
   },
   "outputs": [
    {
     "name": "stdout",
     "output_type": "stream",
     "text": [
      "Model: \"sequential_1\"\n",
      "_________________________________________________________________\n",
      "Layer (type)                 Output Shape              Param #   \n",
      "=================================================================\n",
      "block1_conv1 (Conv2D)        (None, 224, 224, 64)      1792      \n",
      "_________________________________________________________________\n",
      "block1_conv2 (Conv2D)        (None, 224, 224, 64)      36928     \n",
      "_________________________________________________________________\n",
      "block1_pool (MaxPooling2D)   (None, 112, 112, 64)      0         \n",
      "_________________________________________________________________\n",
      "block2_conv1 (Conv2D)        (None, 112, 112, 128)     73856     \n",
      "_________________________________________________________________\n",
      "block2_conv2 (Conv2D)        (None, 112, 112, 128)     147584    \n",
      "_________________________________________________________________\n",
      "block2_pool (MaxPooling2D)   (None, 56, 56, 128)       0         \n",
      "_________________________________________________________________\n",
      "block3_conv1 (Conv2D)        (None, 56, 56, 256)       295168    \n",
      "_________________________________________________________________\n",
      "block3_conv2 (Conv2D)        (None, 56, 56, 256)       590080    \n",
      "_________________________________________________________________\n",
      "block3_conv3 (Conv2D)        (None, 56, 56, 256)       590080    \n",
      "_________________________________________________________________\n",
      "block3_pool (MaxPooling2D)   (None, 28, 28, 256)       0         \n",
      "_________________________________________________________________\n",
      "block4_conv1 (Conv2D)        (None, 28, 28, 512)       1180160   \n",
      "_________________________________________________________________\n",
      "block4_conv2 (Conv2D)        (None, 28, 28, 512)       2359808   \n",
      "_________________________________________________________________\n",
      "block4_conv3 (Conv2D)        (None, 28, 28, 512)       2359808   \n",
      "_________________________________________________________________\n",
      "block4_pool (MaxPooling2D)   (None, 14, 14, 512)       0         \n",
      "_________________________________________________________________\n",
      "block5_conv1 (Conv2D)        (None, 14, 14, 512)       2359808   \n",
      "_________________________________________________________________\n",
      "block5_conv2 (Conv2D)        (None, 14, 14, 512)       2359808   \n",
      "_________________________________________________________________\n",
      "block5_conv3 (Conv2D)        (None, 14, 14, 512)       2359808   \n",
      "_________________________________________________________________\n",
      "block5_pool (MaxPooling2D)   (None, 7, 7, 512)         0         \n",
      "_________________________________________________________________\n",
      "flatten (Flatten)            (None, 25088)             0         \n",
      "_________________________________________________________________\n",
      "fc1 (Dense)                  (None, 4096)              102764544 \n",
      "_________________________________________________________________\n",
      "fc2 (Dense)                  (None, 4096)              16781312  \n",
      "=================================================================\n",
      "Total params: 134,260,544\n",
      "Trainable params: 0\n",
      "Non-trainable params: 134,260,544\n",
      "_________________________________________________________________\n"
     ]
    }
   ],
   "source": [
    "VGG_model_fc.summary()"
   ]
  },
  {
   "cell_type": "code",
   "execution_count": 5,
   "id": "402c3718",
   "metadata": {
    "execution": {
     "iopub.execute_input": "2022-12-04T08:38:05.429804Z",
     "iopub.status.busy": "2022-12-04T08:38:05.427641Z",
     "iopub.status.idle": "2022-12-04T08:38:10.358047Z",
     "shell.execute_reply": "2022-12-04T08:38:10.357052Z"
    },
    "papermill": {
     "duration": 4.956187,
     "end_time": "2022-12-04T08:38:10.360578",
     "exception": false,
     "start_time": "2022-12-04T08:38:05.404391",
     "status": "completed"
    },
    "tags": []
   },
   "outputs": [],
   "source": [
    "import os\n",
    "import cv2\n",
    "import glob\n",
    "#training and labes numpy array conversion\n",
    "train_images=[]\n",
    "train_labels=[]\n",
    "\n",
    "for file in os.listdir('/kaggle/input/final-year-2/Data/train_f_images/diseased'):\n",
    "    if file[0] == 'd':\n",
    "        train_labels.append('diseased')\n",
    "    else:\n",
    "        train_labels.append('healthy')\n",
    "    img=cv2.imread(os.path.join('/kaggle/input/final-year-2/Data/train_f_images/diseased',file))\n",
    "    img=cv2.resize(img, (SIZE,SIZE))\n",
    "    train_images.append(img)\n",
    "    \n",
    "for file in os.listdir('/kaggle/input/final-year-2/Data/train_f_images/healthy'):\n",
    "    if file[0] == 'd':\n",
    "        train_labels.append('diseased')\n",
    "    else:\n",
    "        train_labels.append('healthy')\n",
    "    img=cv2.imread(os.path.join('/kaggle/input/final-year-2/Data/train_f_images/healthy',file))\n",
    "    img=cv2.resize(img, (SIZE,SIZE))\n",
    "    train_images.append(img)\n",
    "\n",
    "    \n",
    "train_images=np.array(train_images)\n",
    "train_labels=np.array(train_labels)"
   ]
  },
  {
   "cell_type": "code",
   "execution_count": 6,
   "id": "45fef6a4",
   "metadata": {
    "execution": {
     "iopub.execute_input": "2022-12-04T08:38:10.378807Z",
     "iopub.status.busy": "2022-12-04T08:38:10.378499Z",
     "iopub.status.idle": "2022-12-04T08:38:12.691063Z",
     "shell.execute_reply": "2022-12-04T08:38:12.690070Z"
    },
    "papermill": {
     "duration": 2.32489,
     "end_time": "2022-12-04T08:38:12.693613",
     "exception": false,
     "start_time": "2022-12-04T08:38:10.368723",
     "status": "completed"
    },
    "tags": []
   },
   "outputs": [],
   "source": [
    "#training and labes numpy array conversion\n",
    "test_images=[]\n",
    "test_labels=[]\n",
    "\n",
    "for file in os.listdir('/kaggle/input/final-year-2/Data/test_images/diseased'):\n",
    "    if file[0] == 'd':\n",
    "        test_labels.append('diseased')\n",
    "    else:\n",
    "        test_labels.append('healthy')\n",
    "    img=cv2.imread(os.path.join('/kaggle/input/final-year-2/Data/test_images/diseased',file))\n",
    "    img=cv2.resize(img, (SIZE,SIZE))\n",
    "    test_images.append(img)\n",
    "    \n",
    "for file in os.listdir('/kaggle/input/final-year-2/Data/test_images/healthy'):\n",
    "    if file[0] == 'd':\n",
    "        test_labels.append('diseased')\n",
    "    else:\n",
    "        test_labels.append('healthy')\n",
    "    img=cv2.imread(os.path.join('/kaggle/input/final-year-2/Data/test_images/healthy',file))\n",
    "    img=cv2.resize(img, (SIZE,SIZE))\n",
    "    test_images.append(img)\n",
    "\n",
    "    \n",
    "test_images=np.array(test_images)\n",
    "test_labels=np.array(test_labels)"
   ]
  },
  {
   "cell_type": "code",
   "execution_count": 7,
   "id": "e1face93",
   "metadata": {
    "execution": {
     "iopub.execute_input": "2022-12-04T08:38:12.711009Z",
     "iopub.status.busy": "2022-12-04T08:38:12.710711Z",
     "iopub.status.idle": "2022-12-04T08:38:33.742417Z",
     "shell.execute_reply": "2022-12-04T08:38:33.741397Z"
    },
    "papermill": {
     "duration": 21.043146,
     "end_time": "2022-12-04T08:38:33.744965",
     "exception": false,
     "start_time": "2022-12-04T08:38:12.701819",
     "status": "completed"
    },
    "tags": []
   },
   "outputs": [
    {
     "name": "stderr",
     "output_type": "stream",
     "text": [
      "2022-12-04 08:38:13.082505: I tensorflow/compiler/mlir/mlir_graph_optimization_pass.cc:185] None of the MLIR Optimization Passes are enabled (registered 2)\n",
      "2022-12-04 08:38:14.538379: I tensorflow/stream_executor/cuda/cuda_dnn.cc:369] Loaded cuDNN version 8005\n"
     ]
    }
   ],
   "source": [
    "frature_extractor=VGG_model_fc.predict(train_images)"
   ]
  },
  {
   "cell_type": "code",
   "execution_count": 8,
   "id": "1e1f236d",
   "metadata": {
    "execution": {
     "iopub.execute_input": "2022-12-04T08:38:33.762517Z",
     "iopub.status.busy": "2022-12-04T08:38:33.762188Z",
     "iopub.status.idle": "2022-12-04T08:38:34.310704Z",
     "shell.execute_reply": "2022-12-04T08:38:34.309741Z"
    },
    "papermill": {
     "duration": 0.559855,
     "end_time": "2022-12-04T08:38:34.313216",
     "exception": false,
     "start_time": "2022-12-04T08:38:33.753361",
     "status": "completed"
    },
    "tags": []
   },
   "outputs": [],
   "source": [
    "from sklearn.metrics import precision_score,recall_score,f1_score"
   ]
  },
  {
   "cell_type": "code",
   "execution_count": 9,
   "id": "d135a8ac",
   "metadata": {
    "execution": {
     "iopub.execute_input": "2022-12-04T08:38:34.332658Z",
     "iopub.status.busy": "2022-12-04T08:38:34.331157Z",
     "iopub.status.idle": "2022-12-04T08:38:37.069825Z",
     "shell.execute_reply": "2022-12-04T08:38:37.068801Z"
    },
    "papermill": {
     "duration": 2.750556,
     "end_time": "2022-12-04T08:38:37.072894",
     "exception": false,
     "start_time": "2022-12-04T08:38:34.322338",
     "status": "completed"
    },
    "tags": []
   },
   "outputs": [],
   "source": [
    "from sklearn import preprocessing\n",
    "from sklearn.metrics import confusion_matrix, accuracy_score,classification_report,plot_confusion_matrix\n",
    "import keras.utils\n",
    "from tensorflow.keras.utils import to_categorical\n",
    "label_encoder = preprocessing.LabelEncoder()\n",
    "label_encoder.fit(train_labels)\n",
    "train_labels=label_encoder.transform(train_labels)\n",
    "frature_extractor_test=VGG_model_fc.predict(test_images)\n",
    "test_labels=label_encoder.transform(test_labels)"
   ]
  },
  {
   "cell_type": "code",
   "execution_count": 10,
   "id": "c205ce28",
   "metadata": {
    "execution": {
     "iopub.execute_input": "2022-12-04T08:38:37.099486Z",
     "iopub.status.busy": "2022-12-04T08:38:37.099057Z",
     "iopub.status.idle": "2022-12-04T08:38:37.255508Z",
     "shell.execute_reply": "2022-12-04T08:38:37.253982Z"
    },
    "papermill": {
     "duration": 0.172509,
     "end_time": "2022-12-04T08:38:37.258296",
     "exception": false,
     "start_time": "2022-12-04T08:38:37.085787",
     "status": "completed"
    },
    "tags": []
   },
   "outputs": [
    {
     "name": "stdout",
     "output_type": "stream",
     "text": [
      "train accuracy:0.8506912442396314\n",
      "accuracy:0.7276190476190476\n",
      "Precision:0.688034188034188\n",
      "Recall:0.696969696969697\n",
      "F1 Score:0.6924731182795699\n"
     ]
    }
   ],
   "source": [
    "from sklearn.naive_bayes import GaussianNB\n",
    "gb = GaussianNB()\n",
    "gb.fit(frature_extractor,train_labels)\n",
    "y_pred = gb.predict(frature_extractor)\n",
    "print(\"train accuracy:{}\".format(accuracy_score(train_labels,y_pred)))\n",
    "y_pred = gb.predict(frature_extractor_test)\n",
    "print(\"accuracy:{}\".format(accuracy_score(test_labels,y_pred)))\n",
    "print(\"Precision:{}\".format(precision_score(test_labels,y_pred)))\n",
    "print(\"Recall:{}\".format(recall_score(test_labels,y_pred)))\n",
    "print(\"F1 Score:{}\".format(f1_score(test_labels,y_pred)))"
   ]
  },
  {
   "cell_type": "code",
   "execution_count": 11,
   "id": "518def94",
   "metadata": {
    "execution": {
     "iopub.execute_input": "2022-12-04T08:38:37.286906Z",
     "iopub.status.busy": "2022-12-04T08:38:37.286544Z",
     "iopub.status.idle": "2022-12-04T08:38:39.613806Z",
     "shell.execute_reply": "2022-12-04T08:38:39.612536Z"
    },
    "papermill": {
     "duration": 2.342688,
     "end_time": "2022-12-04T08:38:39.616273",
     "exception": false,
     "start_time": "2022-12-04T08:38:37.273585",
     "status": "completed"
    },
    "tags": []
   },
   "outputs": [
    {
     "name": "stdout",
     "output_type": "stream",
     "text": [
      "train accuracy:1.0\n",
      "accuracy:0.539047619047619\n",
      "Precision:0.43956043956043955\n",
      "Recall:0.17316017316017315\n",
      "F1 Score:0.2484472049689441\n"
     ]
    }
   ],
   "source": [
    "from sklearn.tree import DecisionTreeClassifier\n",
    "dc = DecisionTreeClassifier()\n",
    "dc.fit(frature_extractor,train_labels)\n",
    "y_pred = dc.predict(frature_extractor)\n",
    "print(\"train accuracy:{}\".format(accuracy_score(train_labels,y_pred)))\n",
    "y_pred = dc.predict(frature_extractor_test)\n",
    "print(\"accuracy:{}\".format(accuracy_score(test_labels,y_pred)))\n",
    "print(\"Precision:{}\".format(precision_score(test_labels,y_pred)))\n",
    "print(\"Recall:{}\".format(recall_score(test_labels,y_pred)))\n",
    "print(\"F1 Score:{}\".format(f1_score(test_labels,y_pred)))"
   ]
  },
  {
   "cell_type": "code",
   "execution_count": 12,
   "id": "70f62820",
   "metadata": {
    "execution": {
     "iopub.execute_input": "2022-12-04T08:38:39.634300Z",
     "iopub.status.busy": "2022-12-04T08:38:39.633990Z",
     "iopub.status.idle": "2022-12-04T08:38:40.437135Z",
     "shell.execute_reply": "2022-12-04T08:38:40.436097Z"
    },
    "papermill": {
     "duration": 0.815255,
     "end_time": "2022-12-04T08:38:40.440250",
     "exception": false,
     "start_time": "2022-12-04T08:38:39.624995",
     "status": "completed"
    },
    "tags": []
   },
   "outputs": [
    {
     "name": "stdout",
     "output_type": "stream",
     "text": [
      "train accuracy:1.0\n",
      "accuracy:0.7485714285714286\n",
      "Precision:0.9380530973451328\n",
      "Recall:0.4588744588744589\n",
      "F1 Score:0.6162790697674418\n"
     ]
    }
   ],
   "source": [
    "from sklearn.ensemble import RandomForestClassifier\n",
    "rc = RandomForestClassifier(n_estimators = 50)\n",
    "rc.fit(frature_extractor,train_labels)\n",
    "y_pred = rc.predict(frature_extractor)\n",
    "print(\"train accuracy:{}\".format(accuracy_score(train_labels,y_pred)))\n",
    "y_pred = rc.predict(frature_extractor_test)\n",
    "print(\"accuracy:{}\".format(accuracy_score(test_labels,y_pred)))\n",
    "print(\"Precision:{}\".format(precision_score(test_labels,y_pred)))\n",
    "print(\"Recall:{}\".format(recall_score(test_labels,y_pred)))\n",
    "print(\"F1 Score:{}\".format(f1_score(test_labels,y_pred)))"
   ]
  },
  {
   "cell_type": "code",
   "execution_count": 13,
   "id": "48188a78",
   "metadata": {
    "execution": {
     "iopub.execute_input": "2022-12-04T08:38:40.460219Z",
     "iopub.status.busy": "2022-12-04T08:38:40.458712Z",
     "iopub.status.idle": "2022-12-04T08:38:41.010410Z",
     "shell.execute_reply": "2022-12-04T08:38:41.006515Z"
    },
    "papermill": {
     "duration": 0.564506,
     "end_time": "2022-12-04T08:38:41.013918",
     "exception": false,
     "start_time": "2022-12-04T08:38:40.449412",
     "status": "completed"
    },
    "tags": []
   },
   "outputs": [
    {
     "name": "stdout",
     "output_type": "stream",
     "text": [
      "train accuracy:1.0\n",
      "accuracy:0.6704761904761904\n",
      "Precision:0.9027777777777778\n",
      "Recall:0.2813852813852814\n",
      "F1 Score:0.4290429042904291\n"
     ]
    }
   ],
   "source": [
    "from sklearn.linear_model import LogisticRegression\n",
    "lc = LogisticRegression()\n",
    "lc.fit(frature_extractor,train_labels)\n",
    "y_pred = lc.predict(frature_extractor)\n",
    "print(\"train accuracy:{}\".format(accuracy_score(train_labels,y_pred)))\n",
    "y_pred = lc.predict(frature_extractor_test)\n",
    "print(\"accuracy:{}\".format(accuracy_score(test_labels,y_pred)))\n",
    "print(\"Precision:{}\".format(precision_score(test_labels,y_pred)))\n",
    "print(\"Recall:{}\".format(recall_score(test_labels,y_pred)))\n",
    "print(\"F1 Score:{}\".format(f1_score(test_labels,y_pred)))"
   ]
  },
  {
   "cell_type": "code",
   "execution_count": 14,
   "id": "abec38cc",
   "metadata": {
    "execution": {
     "iopub.execute_input": "2022-12-04T08:38:41.058267Z",
     "iopub.status.busy": "2022-12-04T08:38:41.057572Z",
     "iopub.status.idle": "2022-12-04T08:39:06.354268Z",
     "shell.execute_reply": "2022-12-04T08:39:06.352661Z"
    },
    "papermill": {
     "duration": 25.321991,
     "end_time": "2022-12-04T08:39:06.357295",
     "exception": false,
     "start_time": "2022-12-04T08:38:41.035304",
     "status": "completed"
    },
    "tags": []
   },
   "outputs": [
    {
     "name": "stdout",
     "output_type": "stream",
     "text": [
      "train accuracy:0.9917050691244239\n",
      "test accuracy:0.8342857142857143\n",
      "Precision:0.8913043478260869\n",
      "Recall:0.70995670995671\n",
      "F1 Score:0.7903614457831326\n"
     ]
    }
   ],
   "source": [
    "import xgboost\n",
    "xgb = xgboost.XGBRFClassifier()\n",
    "xgb.fit(frature_extractor,train_labels)\n",
    "y_pred = xgb.predict(frature_extractor)\n",
    "print(\"train accuracy:{}\".format(accuracy_score(train_labels,y_pred)))\n",
    "y_pred = xgb.predict(frature_extractor_test)\n",
    "print(\"test accuracy:{}\".format(accuracy_score(test_labels,y_pred)))\n",
    "print(\"Precision:{}\".format(precision_score(test_labels,y_pred)))\n",
    "print(\"Recall:{}\".format(recall_score(test_labels,y_pred)))\n",
    "print(\"F1 Score:{}\".format(f1_score(test_labels,y_pred)))"
   ]
  },
  {
   "cell_type": "code",
   "execution_count": 15,
   "id": "6ace5848",
   "metadata": {
    "execution": {
     "iopub.execute_input": "2022-12-04T08:39:06.377151Z",
     "iopub.status.busy": "2022-12-04T08:39:06.376852Z",
     "iopub.status.idle": "2022-12-04T08:39:06.381520Z",
     "shell.execute_reply": "2022-12-04T08:39:06.380508Z"
    },
    "papermill": {
     "duration": 0.015923,
     "end_time": "2022-12-04T08:39:06.383714",
     "exception": false,
     "start_time": "2022-12-04T08:39:06.367791",
     "status": "completed"
    },
    "tags": []
   },
   "outputs": [],
   "source": [
    "from sklearn.model_selection import KFold,StratifiedKFold\n",
    "kf = KFold(n_splits = 5, random_state = 1, shuffle = True)"
   ]
  },
  {
   "cell_type": "code",
   "execution_count": 16,
   "id": "23354ca3",
   "metadata": {
    "execution": {
     "iopub.execute_input": "2022-12-04T08:39:06.401271Z",
     "iopub.status.busy": "2022-12-04T08:39:06.400728Z",
     "iopub.status.idle": "2022-12-04T08:39:12.814480Z",
     "shell.execute_reply": "2022-12-04T08:39:12.813157Z"
    },
    "papermill": {
     "duration": 6.42551,
     "end_time": "2022-12-04T08:39:12.817121",
     "exception": false,
     "start_time": "2022-12-04T08:39:06.391611",
     "status": "completed"
    },
    "tags": []
   },
   "outputs": [
    {
     "name": "stdout",
     "output_type": "stream",
     "text": [
      "For Split 1\n",
      "train accuracy:1.0\n",
      "test accuracy:0.8940092165898618\n",
      "For Split 2\n",
      "train accuracy:1.0\n",
      "test accuracy:0.9354838709677419\n",
      "For Split 3\n",
      "train accuracy:1.0\n",
      "test accuracy:0.8617511520737328\n",
      "For Split 4\n",
      "train accuracy:1.0\n",
      "test accuracy:0.9170506912442397\n",
      "For Split 5\n",
      "train accuracy:1.0\n",
      "test accuracy:0.9262672811059908\n",
      "Total Test Accuracy:0.7657142857142857\n",
      "Precision:0.4805194805194805\n",
      "Recall:0.9736842105263158\n",
      "F1 Score:0.6434782608695653\n"
     ]
    }
   ],
   "source": [
    "preds = []\n",
    "fold = StratifiedKFold(n_splits=5,shuffle=True,random_state=42)\n",
    "i = 1\n",
    "for train_id,test_id in fold.split(frature_extractor,train_labels):\n",
    "        #training and testing data\n",
    "        print(\"For Split {}\".format(i))\n",
    "        xtrain ,xtest = frature_extractor[train_id],frature_extractor[test_id]\n",
    "        ytrain,ytest = train_labels[train_id],train_labels[test_id]\n",
    "        rc = RandomForestClassifier()\n",
    "        rc.fit(xtrain,ytrain)\n",
    "        y_pred = rc.predict(xtrain)\n",
    "        print(\"train accuracy:{}\".format(accuracy_score(ytrain,y_pred)))\n",
    "        y_pred = rc.predict(xtest)\n",
    "        print(\"test accuracy:{}\".format(accuracy_score(ytest,y_pred)))\n",
    "        y_pred = rc.predict(frature_extractor_test)\n",
    "        preds.append(y_pred)\n",
    "        i+=1\n",
    "preds = np.mean(np.column_stack(preds), axis=1)\n",
    "new_preds = []\n",
    "for x in preds:\n",
    "    if x>=0.5:\n",
    "        new_preds.append(1)\n",
    "    else:\n",
    "        new_preds.append(0)\n",
    "print(\"Total Test Accuracy:{}\".format(accuracy_score(new_preds,test_labels)))\n",
    "print(\"Precision:{}\".format(precision_score(new_preds,test_labels)))\n",
    "print(\"Recall:{}\".format(recall_score(new_preds,test_labels)))\n",
    "print(\"F1 Score:{}\".format(f1_score(new_preds,test_labels)))"
   ]
  },
  {
   "cell_type": "code",
   "execution_count": 17,
   "id": "2f2a1643",
   "metadata": {
    "execution": {
     "iopub.execute_input": "2022-12-04T08:39:12.838195Z",
     "iopub.status.busy": "2022-12-04T08:39:12.837886Z",
     "iopub.status.idle": "2022-12-04T08:39:12.916964Z",
     "shell.execute_reply": "2022-12-04T08:39:12.916066Z"
    },
    "papermill": {
     "duration": 0.091901,
     "end_time": "2022-12-04T08:39:12.919004",
     "exception": false,
     "start_time": "2022-12-04T08:39:12.827103",
     "status": "completed"
    },
    "tags": []
   },
   "outputs": [],
   "source": [
    "models = 1\n",
    "import numpy as np\n",
    "import pandas as pd \n",
    "import optuna \n",
    "import sklearn\n",
    "from xgboost import XGBClassifier\n",
    "from sklearn.impute import SimpleImputer\n",
    "from sklearn.preprocessing import StandardScaler\n",
    "from sklearn.metrics import roc_auc_score\n",
    "from sklearn.model_selection import StratifiedKFold\n",
    "from optuna.samplers import TPESampler\n",
    "from optuna.visualization import plot_optimization_history,plot_param_importances"
   ]
  },
  {
   "cell_type": "code",
   "execution_count": 18,
   "id": "da5d9b62",
   "metadata": {
    "execution": {
     "iopub.execute_input": "2022-12-04T08:39:12.938993Z",
     "iopub.status.busy": "2022-12-04T08:39:12.938152Z",
     "iopub.status.idle": "2022-12-04T08:39:12.948628Z",
     "shell.execute_reply": "2022-12-04T08:39:12.947688Z"
    },
    "papermill": {
     "duration": 0.022641,
     "end_time": "2022-12-04T08:39:12.950859",
     "exception": false,
     "start_time": "2022-12-04T08:39:12.928218",
     "status": "completed"
    },
    "tags": []
   },
   "outputs": [],
   "source": [
    "\n",
    "def objective(trial):\n",
    "    #empty list for training and testing roc_scores\n",
    "#     print(\"model number : {}\".format(models))\n",
    "#     models+=1\n",
    "    test_score = []\n",
    "    \n",
    "    #optunas parameters suggestion\n",
    "\n",
    "    param_grid = {\n",
    "              'n_estimators': trial.suggest_int('n_estimators', 1,101),\n",
    "                'max_depth': trial.suggest_int('max_depth',1,6),\n",
    "              'random_state': 42,\n",
    "                'criterion':trial.suggest_categorical('criterion', ['gini','entropy'])\n",
    "                 }\n",
    "    #cross validation using StratifiedKfold\n",
    "    \n",
    "    fold = StratifiedKFold(n_splits=5,shuffle=True,random_state=69)\n",
    "    i = 0\n",
    "    for train_id,test_id in fold.split(frature_extractor,train_labels):\n",
    "        #training and testing data\n",
    "        print(\"For Split {}\".format(i))\n",
    "        xtrain ,xtest = frature_extractor[train_id],frature_extractor[test_id]\n",
    "        ytrain,ytest = train_labels[train_id],train_labels[test_id]\n",
    "        \n",
    "        rc = RandomForestClassifier(**param_grid)\n",
    "        \n",
    "        rc.fit(xtrain,ytrain)\n",
    "        \n",
    "        y_pred = rc.predict(xtrain)\n",
    "        print(\"train accuracy:{}\".format(accuracy_score(ytrain,y_pred)))\n",
    "        \n",
    "        y_pred = rc.predict(xtest)\n",
    "        print(\"test accuracy:{}\".format(accuracy_score(ytest,y_pred)))\n",
    "        \n",
    "        y_pred = rc.predict(frature_extractor_test)\n",
    "        i+=1\n",
    "        \n",
    "        test_score.append(precision_score(y_pred,test_labels))\n",
    "        \n",
    "        #returning mean score\n",
    "    return np.mean(test_score)"
   ]
  },
  {
   "cell_type": "code",
   "execution_count": 19,
   "id": "8609a76d",
   "metadata": {
    "execution": {
     "iopub.execute_input": "2022-12-04T08:39:12.970797Z",
     "iopub.status.busy": "2022-12-04T08:39:12.970071Z",
     "iopub.status.idle": "2022-12-04T08:44:11.881874Z",
     "shell.execute_reply": "2022-12-04T08:44:11.879216Z"
    },
    "papermill": {
     "duration": 298.924995,
     "end_time": "2022-12-04T08:44:11.884755",
     "exception": false,
     "start_time": "2022-12-04T08:39:12.959760",
     "status": "completed"
    },
    "tags": []
   },
   "outputs": [
    {
     "name": "stderr",
     "output_type": "stream",
     "text": [
      "\u001b[32m[I 2022-12-04 08:39:12,972]\u001b[0m A new study created in memory with name: Random_forset_optuna\u001b[0m\n"
     ]
    },
    {
     "name": "stdout",
     "output_type": "stream",
     "text": [
      "For Split 0\n",
      "train accuracy:0.8490783410138248\n",
      "test accuracy:0.8709677419354839\n",
      "For Split 1\n",
      "train accuracy:0.8513824884792627\n",
      "test accuracy:0.8387096774193549\n",
      "For Split 2\n",
      "train accuracy:0.8490783410138248\n",
      "test accuracy:0.8248847926267281\n",
      "For Split 3\n",
      "train accuracy:0.8548387096774194\n",
      "test accuracy:0.7695852534562212\n",
      "For Split 4\n"
     ]
    },
    {
     "name": "stderr",
     "output_type": "stream",
     "text": [
      "\u001b[32m[I 2022-12-04 08:39:14,654]\u001b[0m Trial 0 finished with value: 0.19480519480519481 and parameters: {'n_estimators': 84, 'max_depth': 1, 'criterion': 'entropy'}. Best is trial 0 with value: 0.19480519480519481.\u001b[0m\n"
     ]
    },
    {
     "name": "stdout",
     "output_type": "stream",
     "text": [
      "train accuracy:0.8582949308755761\n",
      "test accuracy:0.8433179723502304\n",
      "For Split 0\n",
      "train accuracy:0.9861751152073732\n",
      "test accuracy:0.9308755760368663\n",
      "For Split 1\n",
      "train accuracy:0.9919354838709677\n",
      "test accuracy:0.8847926267281107\n",
      "For Split 2\n",
      "train accuracy:0.9838709677419355\n",
      "test accuracy:0.8709677419354839\n",
      "For Split 3\n",
      "train accuracy:0.988479262672811\n",
      "test accuracy:0.8617511520737328\n",
      "For Split 4\n"
     ]
    },
    {
     "name": "stderr",
     "output_type": "stream",
     "text": [
      "\u001b[32m[I 2022-12-04 08:39:19,414]\u001b[0m Trial 1 finished with value: 0.5982683982683983 and parameters: {'n_estimators': 92, 'max_depth': 6, 'criterion': 'entropy'}. Best is trial 1 with value: 0.5982683982683983.\u001b[0m\n",
      "\u001b[32m[I 2022-12-04 08:39:19,538]\u001b[0m Trial 2 finished with value: 0.16017316017316016 and parameters: {'n_estimators': 3, 'max_depth': 1, 'criterion': 'gini'}. Best is trial 1 with value: 0.5982683982683983.\u001b[0m\n"
     ]
    },
    {
     "name": "stdout",
     "output_type": "stream",
     "text": [
      "train accuracy:0.9873271889400922\n",
      "test accuracy:0.9032258064516129\n",
      "For Split 0\n",
      "train accuracy:0.7638248847926268\n",
      "test accuracy:0.7603686635944701\n",
      "For Split 1\n",
      "train accuracy:0.738479262672811\n",
      "test accuracy:0.6728110599078341\n",
      "For Split 2\n",
      "train accuracy:0.7523041474654378\n",
      "test accuracy:0.7235023041474654\n",
      "For Split 3\n",
      "train accuracy:0.7661290322580645\n",
      "test accuracy:0.7096774193548387\n",
      "For Split 4\n",
      "train accuracy:0.7569124423963134\n",
      "test accuracy:0.8018433179723502\n",
      "For Split 0\n",
      "train accuracy:0.8928571428571429\n",
      "test accuracy:0.8847926267281107\n",
      "For Split 1\n",
      "train accuracy:0.8997695852534562\n",
      "test accuracy:0.847926267281106\n",
      "For Split 2\n",
      "train accuracy:0.8986175115207373\n",
      "test accuracy:0.8525345622119815\n",
      "For Split 3\n",
      "train accuracy:0.8986175115207373\n",
      "test accuracy:0.847926267281106\n",
      "For Split 4\n"
     ]
    },
    {
     "name": "stderr",
     "output_type": "stream",
     "text": [
      "\u001b[32m[I 2022-12-04 08:39:21,607]\u001b[0m Trial 3 finished with value: 0.5316017316017316 and parameters: {'n_estimators': 92, 'max_depth': 2, 'criterion': 'gini'}. Best is trial 1 with value: 0.5982683982683983.\u001b[0m\n"
     ]
    },
    {
     "name": "stdout",
     "output_type": "stream",
     "text": [
      "train accuracy:0.8951612903225806\n",
      "test accuracy:0.8940092165898618\n",
      "For Split 0\n",
      "train accuracy:0.8894009216589862\n",
      "test accuracy:0.8894009216589862\n",
      "For Split 1\n",
      "train accuracy:0.8963133640552995\n",
      "test accuracy:0.8571428571428571\n",
      "For Split 2\n",
      "train accuracy:0.8963133640552995\n",
      "test accuracy:0.8571428571428571\n",
      "For Split 3\n",
      "train accuracy:0.8974654377880185\n",
      "test accuracy:0.8525345622119815\n",
      "For Split 4\n"
     ]
    },
    {
     "name": "stderr",
     "output_type": "stream",
     "text": [
      "\u001b[32m[I 2022-12-04 08:39:23,274]\u001b[0m Trial 4 finished with value: 0.44848484848484843 and parameters: {'n_estimators': 65, 'max_depth': 2, 'criterion': 'gini'}. Best is trial 1 with value: 0.5982683982683983.\u001b[0m\n"
     ]
    },
    {
     "name": "stdout",
     "output_type": "stream",
     "text": [
      "train accuracy:0.8940092165898618\n",
      "test accuracy:0.8894009216589862\n",
      "For Split 0\n",
      "train accuracy:0.9447004608294931\n",
      "test accuracy:0.9124423963133641\n",
      "For Split 1\n",
      "train accuracy:0.945852534562212\n",
      "test accuracy:0.8571428571428571\n",
      "For Split 2\n",
      "train accuracy:0.9435483870967742\n",
      "test accuracy:0.8663594470046083\n",
      "For Split 3\n",
      "train accuracy:0.9389400921658986\n",
      "test accuracy:0.8755760368663594\n",
      "For Split 4\n"
     ]
    },
    {
     "name": "stderr",
     "output_type": "stream",
     "text": [
      "\u001b[32m[I 2022-12-04 08:39:25,853]\u001b[0m Trial 5 finished with value: 0.587012987012987 and parameters: {'n_estimators': 63, 'max_depth': 4, 'criterion': 'entropy'}. Best is trial 1 with value: 0.5982683982683983.\u001b[0m\n"
     ]
    },
    {
     "name": "stdout",
     "output_type": "stream",
     "text": [
      "train accuracy:0.9400921658986175\n",
      "test accuracy:0.9078341013824884\n",
      "For Split 0\n",
      "train accuracy:0.9861751152073732\n",
      "test accuracy:0.9124423963133641\n",
      "For Split 1\n",
      "train accuracy:0.9838709677419355\n",
      "test accuracy:0.8709677419354839\n",
      "For Split 2\n",
      "train accuracy:0.9873271889400922\n",
      "test accuracy:0.8755760368663594\n",
      "For Split 3\n",
      "train accuracy:0.9873271889400922\n",
      "test accuracy:0.847926267281106\n",
      "For Split 4\n"
     ]
    },
    {
     "name": "stderr",
     "output_type": "stream",
     "text": [
      "\u001b[32m[I 2022-12-04 08:39:27,505]\u001b[0m Trial 6 finished with value: 0.5740259740259741 and parameters: {'n_estimators': 32, 'max_depth': 6, 'criterion': 'entropy'}. Best is trial 1 with value: 0.5982683982683983.\u001b[0m\n"
     ]
    },
    {
     "name": "stdout",
     "output_type": "stream",
     "text": [
      "train accuracy:0.9792626728110599\n",
      "test accuracy:0.8940092165898618\n",
      "For Split 0\n",
      "train accuracy:0.8882488479262672\n",
      "test accuracy:0.8940092165898618\n",
      "For Split 1\n",
      "train accuracy:0.8963133640552995\n",
      "test accuracy:0.8525345622119815\n",
      "For Split 2\n",
      "train accuracy:0.8963133640552995\n",
      "test accuracy:0.8571428571428571\n",
      "For Split 3\n",
      "train accuracy:0.9055299539170507\n",
      "test accuracy:0.8341013824884793\n",
      "For Split 4\n"
     ]
    },
    {
     "name": "stderr",
     "output_type": "stream",
     "text": [
      "\u001b[32m[I 2022-12-04 08:39:29,571]\u001b[0m Trial 7 finished with value: 0.4675324675324675 and parameters: {'n_estimators': 79, 'max_depth': 2, 'criterion': 'entropy'}. Best is trial 1 with value: 0.5982683982683983.\u001b[0m\n"
     ]
    },
    {
     "name": "stdout",
     "output_type": "stream",
     "text": [
      "train accuracy:0.8905529953917051\n",
      "test accuracy:0.8986175115207373\n",
      "For Split 0\n",
      "train accuracy:0.9435483870967742\n",
      "test accuracy:0.9078341013824884\n",
      "For Split 1\n",
      "train accuracy:0.9493087557603687\n",
      "test accuracy:0.8709677419354839\n",
      "For Split 2\n",
      "train accuracy:0.9516129032258065\n",
      "test accuracy:0.8986175115207373\n",
      "For Split 3\n",
      "train accuracy:0.9481566820276498\n",
      "test accuracy:0.847926267281106\n",
      "For Split 4\n"
     ]
    },
    {
     "name": "stderr",
     "output_type": "stream",
     "text": [
      "\u001b[32m[I 2022-12-04 08:39:31,524]\u001b[0m Trial 8 finished with value: 0.6320346320346321 and parameters: {'n_estimators': 56, 'max_depth': 4, 'criterion': 'gini'}. Best is trial 8 with value: 0.6320346320346321.\u001b[0m\n"
     ]
    },
    {
     "name": "stdout",
     "output_type": "stream",
     "text": [
      "train accuracy:0.9481566820276498\n",
      "test accuracy:0.9170506912442397\n",
      "For Split 0\n",
      "train accuracy:0.8306451612903226\n",
      "test accuracy:0.8294930875576036\n",
      "For Split 1\n",
      "train accuracy:0.8375576036866359\n",
      "test accuracy:0.783410138248848\n",
      "For Split 2\n",
      "train accuracy:0.8294930875576036\n",
      "test accuracy:0.8248847926267281\n",
      "For Split 3\n"
     ]
    },
    {
     "name": "stderr",
     "output_type": "stream",
     "text": [
      "\u001b[32m[I 2022-12-04 08:39:32,059]\u001b[0m Trial 9 finished with value: 0.2623376623376623 and parameters: {'n_estimators': 30, 'max_depth': 1, 'criterion': 'gini'}. Best is trial 8 with value: 0.6320346320346321.\u001b[0m\n"
     ]
    },
    {
     "name": "stdout",
     "output_type": "stream",
     "text": [
      "train accuracy:0.8271889400921659\n",
      "test accuracy:0.7235023041474654\n",
      "For Split 4\n",
      "train accuracy:0.8341013824884793\n",
      "test accuracy:0.8433179723502304\n",
      "For Split 0\n",
      "train accuracy:0.9435483870967742\n",
      "test accuracy:0.9216589861751152\n",
      "For Split 1\n",
      "train accuracy:0.9481566820276498\n",
      "test accuracy:0.8617511520737328\n",
      "For Split 2\n",
      "train accuracy:0.9504608294930875\n",
      "test accuracy:0.8940092165898618\n",
      "For Split 3\n",
      "train accuracy:0.945852534562212\n",
      "test accuracy:0.8433179723502304\n",
      "For Split 4\n"
     ]
    },
    {
     "name": "stderr",
     "output_type": "stream",
     "text": [
      "\u001b[32m[I 2022-12-04 08:39:33,343]\u001b[0m Trial 10 finished with value: 0.5974025974025974 and parameters: {'n_estimators': 36, 'max_depth': 4, 'criterion': 'gini'}. Best is trial 8 with value: 0.6320346320346321.\u001b[0m\n"
     ]
    },
    {
     "name": "stdout",
     "output_type": "stream",
     "text": [
      "train accuracy:0.9470046082949308\n",
      "test accuracy:0.9216589861751152\n",
      "For Split 0\n",
      "train accuracy:0.988479262672811\n",
      "test accuracy:0.9308755760368663\n",
      "For Split 1\n",
      "train accuracy:0.9907834101382489\n",
      "test accuracy:0.8847926267281107\n",
      "For Split 2\n",
      "train accuracy:0.9850230414746544\n",
      "test accuracy:0.880184331797235\n",
      "For Split 3\n",
      "train accuracy:0.988479262672811\n",
      "test accuracy:0.8617511520737328\n",
      "For Split 4\n"
     ]
    },
    {
     "name": "stderr",
     "output_type": "stream",
     "text": [
      "\u001b[32m[I 2022-12-04 08:39:38,671]\u001b[0m Trial 11 finished with value: 0.6138528138528139 and parameters: {'n_estimators': 101, 'max_depth': 6, 'criterion': 'entropy'}. Best is trial 8 with value: 0.6320346320346321.\u001b[0m\n"
     ]
    },
    {
     "name": "stdout",
     "output_type": "stream",
     "text": [
      "train accuracy:0.988479262672811\n",
      "test accuracy:0.8940092165898618\n",
      "For Split 0\n",
      "train accuracy:0.9688940092165899\n",
      "test accuracy:0.9170506912442397\n",
      "For Split 1\n",
      "train accuracy:0.9746543778801844\n",
      "test accuracy:0.8755760368663594\n",
      "For Split 2\n",
      "train accuracy:0.9746543778801844\n",
      "test accuracy:0.8755760368663594\n",
      "For Split 3\n",
      "train accuracy:0.966589861751152\n",
      "test accuracy:0.8617511520737328\n",
      "For Split 4\n"
     ]
    },
    {
     "name": "stderr",
     "output_type": "stream",
     "text": [
      "\u001b[32m[I 2022-12-04 08:39:41,526]\u001b[0m Trial 12 finished with value: 0.5852813852813853 and parameters: {'n_estimators': 50, 'max_depth': 5, 'criterion': 'entropy'}. Best is trial 8 with value: 0.6320346320346321.\u001b[0m\n"
     ]
    },
    {
     "name": "stdout",
     "output_type": "stream",
     "text": [
      "train accuracy:0.966589861751152\n",
      "test accuracy:0.8986175115207373\n",
      "For Split 0\n",
      "train accuracy:0.9389400921658986\n",
      "test accuracy:0.9078341013824884\n",
      "For Split 1\n",
      "train accuracy:0.9481566820276498\n",
      "test accuracy:0.8525345622119815\n",
      "For Split 2\n"
     ]
    },
    {
     "name": "stderr",
     "output_type": "stream",
     "text": [
      "\u001b[32m[I 2022-12-04 08:39:41,877]\u001b[0m Trial 13 finished with value: 0.5567099567099567 and parameters: {'n_estimators': 7, 'max_depth': 5, 'criterion': 'gini'}. Best is trial 8 with value: 0.6320346320346321.\u001b[0m\n"
     ]
    },
    {
     "name": "stdout",
     "output_type": "stream",
     "text": [
      "train accuracy:0.9470046082949308\n",
      "test accuracy:0.8709677419354839\n",
      "For Split 3\n",
      "train accuracy:0.9412442396313364\n",
      "test accuracy:0.8110599078341014\n",
      "For Split 4\n",
      "train accuracy:0.9493087557603687\n",
      "test accuracy:0.8755760368663594\n",
      "For Split 0\n",
      "train accuracy:0.978110599078341\n",
      "test accuracy:0.9078341013824884\n",
      "For Split 1\n",
      "train accuracy:0.9758064516129032\n",
      "test accuracy:0.8663594470046083\n",
      "For Split 2\n",
      "train accuracy:0.9769585253456221\n",
      "test accuracy:0.880184331797235\n",
      "For Split 3\n",
      "train accuracy:0.978110599078341\n",
      "test accuracy:0.8663594470046083\n",
      "For Split 4\n"
     ]
    },
    {
     "name": "stderr",
     "output_type": "stream",
     "text": [
      "\u001b[32m[I 2022-12-04 08:39:46,017]\u001b[0m Trial 14 finished with value: 0.7402597402597403 and parameters: {'n_estimators': 101, 'max_depth': 5, 'criterion': 'gini'}. Best is trial 14 with value: 0.7402597402597403.\u001b[0m\n"
     ]
    },
    {
     "name": "stdout",
     "output_type": "stream",
     "text": [
      "train accuracy:0.9758064516129032\n",
      "test accuracy:0.9078341013824884\n",
      "For Split 0\n",
      "train accuracy:0.9170506912442397\n",
      "test accuracy:0.9078341013824884\n",
      "For Split 1\n",
      "train accuracy:0.9274193548387096\n",
      "test accuracy:0.8571428571428571\n",
      "For Split 2\n",
      "train accuracy:0.9158986175115207\n",
      "test accuracy:0.8525345622119815\n",
      "For Split 3\n",
      "train accuracy:0.9182027649769585\n",
      "test accuracy:0.8387096774193549\n",
      "For Split 4\n"
     ]
    },
    {
     "name": "stderr",
     "output_type": "stream",
     "text": [
      "\u001b[32m[I 2022-12-04 08:39:47,987]\u001b[0m Trial 15 finished with value: 0.6000000000000001 and parameters: {'n_estimators': 69, 'max_depth': 3, 'criterion': 'gini'}. Best is trial 14 with value: 0.7402597402597403.\u001b[0m\n"
     ]
    },
    {
     "name": "stdout",
     "output_type": "stream",
     "text": [
      "train accuracy:0.913594470046083\n",
      "test accuracy:0.880184331797235\n",
      "For Split 0\n",
      "train accuracy:0.9746543778801844\n",
      "test accuracy:0.9124423963133641\n",
      "For Split 1\n",
      "train accuracy:0.967741935483871\n",
      "test accuracy:0.8663594470046083\n",
      "For Split 2\n",
      "train accuracy:0.9746543778801844\n",
      "test accuracy:0.8847926267281107\n",
      "For Split 3\n",
      "train accuracy:0.9723502304147466\n",
      "test accuracy:0.8571428571428571\n",
      "For Split 4\n"
     ]
    },
    {
     "name": "stderr",
     "output_type": "stream",
     "text": [
      "\u001b[32m[I 2022-12-04 08:39:49,954]\u001b[0m Trial 16 finished with value: 0.6813852813852814 and parameters: {'n_estimators': 49, 'max_depth': 5, 'criterion': 'gini'}. Best is trial 14 with value: 0.7402597402597403.\u001b[0m\n"
     ]
    },
    {
     "name": "stdout",
     "output_type": "stream",
     "text": [
      "train accuracy:0.966589861751152\n",
      "test accuracy:0.9262672811059908\n",
      "For Split 0\n",
      "train accuracy:0.9746543778801844\n",
      "test accuracy:0.9170506912442397\n",
      "For Split 1\n",
      "train accuracy:0.9700460829493087\n",
      "test accuracy:0.8663594470046083\n",
      "For Split 2\n",
      "train accuracy:0.9711981566820277\n",
      "test accuracy:0.8847926267281107\n",
      "For Split 3\n",
      "train accuracy:0.9723502304147466\n",
      "test accuracy:0.8663594470046083\n",
      "For Split 4\n"
     ]
    },
    {
     "name": "stderr",
     "output_type": "stream",
     "text": [
      "\u001b[32m[I 2022-12-04 08:39:51,850]\u001b[0m Trial 17 finished with value: 0.6787878787878788 and parameters: {'n_estimators': 47, 'max_depth': 5, 'criterion': 'gini'}. Best is trial 14 with value: 0.7402597402597403.\u001b[0m\n"
     ]
    },
    {
     "name": "stdout",
     "output_type": "stream",
     "text": [
      "train accuracy:0.9723502304147466\n",
      "test accuracy:0.9262672811059908\n",
      "For Split 0\n",
      "train accuracy:0.9723502304147466\n",
      "test accuracy:0.9216589861751152\n",
      "For Split 1\n",
      "train accuracy:0.967741935483871\n",
      "test accuracy:0.8709677419354839\n",
      "For Split 2\n",
      "train accuracy:0.9723502304147466\n",
      "test accuracy:0.8847926267281107\n",
      "For Split 3\n",
      "train accuracy:0.9700460829493087\n",
      "test accuracy:0.8663594470046083\n",
      "For Split 4\n"
     ]
    },
    {
     "name": "stderr",
     "output_type": "stream",
     "text": [
      "\u001b[32m[I 2022-12-04 08:39:53,614]\u001b[0m Trial 18 finished with value: 0.6909090909090909 and parameters: {'n_estimators': 43, 'max_depth': 5, 'criterion': 'gini'}. Best is trial 14 with value: 0.7402597402597403.\u001b[0m\n"
     ]
    },
    {
     "name": "stdout",
     "output_type": "stream",
     "text": [
      "train accuracy:0.9711981566820277\n",
      "test accuracy:0.9262672811059908\n",
      "For Split 0\n",
      "train accuracy:0.9089861751152074\n",
      "test accuracy:0.8940092165898618\n",
      "For Split 1\n",
      "train accuracy:0.9182027649769585\n",
      "test accuracy:0.8663594470046083\n",
      "For Split 2\n",
      "train accuracy:0.913594470046083\n",
      "test accuracy:0.8755760368663594\n",
      "For Split 3\n"
     ]
    },
    {
     "name": "stderr",
     "output_type": "stream",
     "text": [
      "\u001b[32m[I 2022-12-04 08:39:54,297]\u001b[0m Trial 19 finished with value: 0.5125541125541125 and parameters: {'n_estimators': 21, 'max_depth': 3, 'criterion': 'gini'}. Best is trial 14 with value: 0.7402597402597403.\u001b[0m\n"
     ]
    },
    {
     "name": "stdout",
     "output_type": "stream",
     "text": [
      "train accuracy:0.9066820276497696\n",
      "test accuracy:0.8341013824884793\n",
      "For Split 4\n",
      "train accuracy:0.913594470046083\n",
      "test accuracy:0.8709677419354839\n",
      "For Split 0\n",
      "train accuracy:0.967741935483871\n",
      "test accuracy:0.9170506912442397\n",
      "For Split 1\n",
      "train accuracy:0.9735023041474654\n",
      "test accuracy:0.8847926267281107\n",
      "For Split 2\n",
      "train accuracy:0.966589861751152\n",
      "test accuracy:0.880184331797235\n",
      "For Split 3\n",
      "train accuracy:0.9642857142857143\n",
      "test accuracy:0.8709677419354839\n",
      "For Split 4\n"
     ]
    },
    {
     "name": "stderr",
     "output_type": "stream",
     "text": [
      "\u001b[32m[I 2022-12-04 08:39:55,153]\u001b[0m Trial 20 finished with value: 0.522077922077922 and parameters: {'n_estimators': 19, 'max_depth': 5, 'criterion': 'gini'}. Best is trial 14 with value: 0.7402597402597403.\u001b[0m\n"
     ]
    },
    {
     "name": "stdout",
     "output_type": "stream",
     "text": [
      "train accuracy:0.9619815668202765\n",
      "test accuracy:0.9170506912442397\n",
      "For Split 0\n",
      "train accuracy:0.9735023041474654\n",
      "test accuracy:0.9262672811059908\n",
      "For Split 1\n",
      "train accuracy:0.967741935483871\n",
      "test accuracy:0.8709677419354839\n",
      "For Split 2\n",
      "train accuracy:0.9723502304147466\n",
      "test accuracy:0.8847926267281107\n",
      "For Split 3\n",
      "train accuracy:0.9700460829493087\n",
      "test accuracy:0.8709677419354839\n",
      "For Split 4\n"
     ]
    },
    {
     "name": "stderr",
     "output_type": "stream",
     "text": [
      "\u001b[32m[I 2022-12-04 08:39:57,039]\u001b[0m Trial 21 finished with value: 0.6761904761904762 and parameters: {'n_estimators': 42, 'max_depth': 5, 'criterion': 'gini'}. Best is trial 14 with value: 0.7402597402597403.\u001b[0m\n"
     ]
    },
    {
     "name": "stdout",
     "output_type": "stream",
     "text": [
      "train accuracy:0.9735023041474654\n",
      "test accuracy:0.9262672811059908\n",
      "For Split 0\n",
      "train accuracy:0.988479262672811\n",
      "test accuracy:0.9262672811059908\n",
      "For Split 1\n",
      "train accuracy:0.9930875576036866\n",
      "test accuracy:0.8755760368663594\n",
      "For Split 2\n",
      "train accuracy:0.9873271889400922\n",
      "test accuracy:0.8847926267281107\n",
      "For Split 3\n",
      "train accuracy:0.988479262672811\n",
      "test accuracy:0.8755760368663594\n",
      "For Split 4\n"
     ]
    },
    {
     "name": "stderr",
     "output_type": "stream",
     "text": [
      "\u001b[32m[I 2022-12-04 08:39:59,635]\u001b[0m Trial 22 finished with value: 0.6623376623376623 and parameters: {'n_estimators': 59, 'max_depth': 6, 'criterion': 'gini'}. Best is trial 14 with value: 0.7402597402597403.\u001b[0m\n"
     ]
    },
    {
     "name": "stdout",
     "output_type": "stream",
     "text": [
      "train accuracy:0.9850230414746544\n",
      "test accuracy:0.9170506912442397\n",
      "For Split 0\n",
      "train accuracy:0.945852534562212\n",
      "test accuracy:0.9262672811059908\n",
      "For Split 1\n",
      "train accuracy:0.9493087557603687\n",
      "test accuracy:0.8617511520737328\n",
      "For Split 2\n",
      "train accuracy:0.9481566820276498\n",
      "test accuracy:0.8894009216589862\n",
      "For Split 3\n",
      "train accuracy:0.9504608294930875\n",
      "test accuracy:0.8571428571428571\n",
      "For Split 4\n"
     ]
    },
    {
     "name": "stderr",
     "output_type": "stream",
     "text": [
      "\u001b[32m[I 2022-12-04 08:40:01,186]\u001b[0m Trial 23 finished with value: 0.6207792207792208 and parameters: {'n_estimators': 42, 'max_depth': 4, 'criterion': 'gini'}. Best is trial 14 with value: 0.7402597402597403.\u001b[0m\n"
     ]
    },
    {
     "name": "stdout",
     "output_type": "stream",
     "text": [
      "train accuracy:0.9447004608294931\n",
      "test accuracy:0.9216589861751152\n",
      "For Split 0\n",
      "train accuracy:0.9746543778801844\n",
      "test accuracy:0.9170506912442397\n",
      "For Split 1\n",
      "train accuracy:0.978110599078341\n",
      "test accuracy:0.8663594470046083\n",
      "For Split 2\n",
      "train accuracy:0.9758064516129032\n",
      "test accuracy:0.880184331797235\n",
      "For Split 3\n",
      "train accuracy:0.9769585253456221\n",
      "test accuracy:0.8617511520737328\n",
      "For Split 4\n"
     ]
    },
    {
     "name": "stderr",
     "output_type": "stream",
     "text": [
      "\u001b[32m[I 2022-12-04 08:40:04,251]\u001b[0m Trial 24 finished with value: 0.7445887445887446 and parameters: {'n_estimators': 78, 'max_depth': 5, 'criterion': 'gini'}. Best is trial 24 with value: 0.7445887445887446.\u001b[0m\n"
     ]
    },
    {
     "name": "stdout",
     "output_type": "stream",
     "text": [
      "train accuracy:0.9735023041474654\n",
      "test accuracy:0.9170506912442397\n",
      "For Split 0\n",
      "train accuracy:0.9896313364055299\n",
      "test accuracy:0.9308755760368663\n",
      "For Split 1\n",
      "train accuracy:0.9907834101382489\n",
      "test accuracy:0.8571428571428571\n",
      "For Split 2\n",
      "train accuracy:0.9896313364055299\n",
      "test accuracy:0.8847926267281107\n",
      "For Split 3\n",
      "train accuracy:0.9896313364055299\n",
      "test accuracy:0.880184331797235\n",
      "For Split 4\n"
     ]
    },
    {
     "name": "stderr",
     "output_type": "stream",
     "text": [
      "\u001b[32m[I 2022-12-04 08:40:07,764]\u001b[0m Trial 25 finished with value: 0.6545454545454545 and parameters: {'n_estimators': 75, 'max_depth': 6, 'criterion': 'gini'}. Best is trial 24 with value: 0.7445887445887446.\u001b[0m\n"
     ]
    },
    {
     "name": "stdout",
     "output_type": "stream",
     "text": [
      "train accuracy:0.9838709677419355\n",
      "test accuracy:0.9032258064516129\n",
      "For Split 0\n",
      "train accuracy:0.9470046082949308\n",
      "test accuracy:0.9216589861751152\n",
      "For Split 1\n",
      "train accuracy:0.9527649769585254\n",
      "test accuracy:0.8709677419354839\n",
      "For Split 2\n",
      "train accuracy:0.9527649769585254\n",
      "test accuracy:0.8940092165898618\n",
      "For Split 3\n",
      "train accuracy:0.9516129032258065\n",
      "test accuracy:0.8617511520737328\n",
      "For Split 4\n"
     ]
    },
    {
     "name": "stderr",
     "output_type": "stream",
     "text": [
      "\u001b[32m[I 2022-12-04 08:40:11,047]\u001b[0m Trial 26 finished with value: 0.6658008658008658 and parameters: {'n_estimators': 96, 'max_depth': 4, 'criterion': 'gini'}. Best is trial 24 with value: 0.7445887445887446.\u001b[0m\n"
     ]
    },
    {
     "name": "stdout",
     "output_type": "stream",
     "text": [
      "train accuracy:0.9585253456221198\n",
      "test accuracy:0.9170506912442397\n",
      "For Split 0\n",
      "train accuracy:0.9735023041474654\n",
      "test accuracy:0.9124423963133641\n",
      "For Split 1\n",
      "train accuracy:0.9758064516129032\n",
      "test accuracy:0.8709677419354839\n",
      "For Split 2\n",
      "train accuracy:0.978110599078341\n",
      "test accuracy:0.880184331797235\n",
      "For Split 3\n",
      "train accuracy:0.9769585253456221\n",
      "test accuracy:0.8617511520737328\n",
      "For Split 4\n"
     ]
    },
    {
     "name": "stderr",
     "output_type": "stream",
     "text": [
      "\u001b[32m[I 2022-12-04 08:40:14,965]\u001b[0m Trial 27 finished with value: 0.7541125541125541 and parameters: {'n_estimators': 87, 'max_depth': 5, 'criterion': 'gini'}. Best is trial 27 with value: 0.7541125541125541.\u001b[0m\n"
     ]
    },
    {
     "name": "stdout",
     "output_type": "stream",
     "text": [
      "train accuracy:0.9723502304147466\n",
      "test accuracy:0.9170506912442397\n",
      "For Split 0\n",
      "train accuracy:0.9228110599078341\n",
      "test accuracy:0.9078341013824884\n",
      "For Split 1\n",
      "train accuracy:0.9297235023041475\n",
      "test accuracy:0.8663594470046083\n",
      "For Split 2\n",
      "train accuracy:0.9182027649769585\n",
      "test accuracy:0.8571428571428571\n",
      "For Split 3\n",
      "train accuracy:0.9170506912442397\n",
      "test accuracy:0.8433179723502304\n",
      "For Split 4\n"
     ]
    },
    {
     "name": "stderr",
     "output_type": "stream",
     "text": [
      "\u001b[32m[I 2022-12-04 08:40:17,451]\u001b[0m Trial 28 finished with value: 0.6060606060606061 and parameters: {'n_estimators': 85, 'max_depth': 3, 'criterion': 'gini'}. Best is trial 27 with value: 0.7541125541125541.\u001b[0m\n"
     ]
    },
    {
     "name": "stdout",
     "output_type": "stream",
     "text": [
      "train accuracy:0.9158986175115207\n",
      "test accuracy:0.8986175115207373\n",
      "For Split 0\n",
      "train accuracy:0.9735023041474654\n",
      "test accuracy:0.9124423963133641\n",
      "For Split 1\n",
      "train accuracy:0.9758064516129032\n",
      "test accuracy:0.8709677419354839\n",
      "For Split 2\n",
      "train accuracy:0.9769585253456221\n",
      "test accuracy:0.880184331797235\n",
      "For Split 3\n",
      "train accuracy:0.9758064516129032\n",
      "test accuracy:0.8617511520737328\n",
      "For Split 4\n"
     ]
    },
    {
     "name": "stderr",
     "output_type": "stream",
     "text": [
      "\u001b[32m[I 2022-12-04 08:40:20,906]\u001b[0m Trial 29 finished with value: 0.7445887445887447 and parameters: {'n_estimators': 83, 'max_depth': 5, 'criterion': 'gini'}. Best is trial 27 with value: 0.7541125541125541.\u001b[0m\n"
     ]
    },
    {
     "name": "stdout",
     "output_type": "stream",
     "text": [
      "train accuracy:0.9735023041474654\n",
      "test accuracy:0.9170506912442397\n",
      "For Split 0\n",
      "train accuracy:0.9481566820276498\n",
      "test accuracy:0.9170506912442397\n",
      "For Split 1\n",
      "train accuracy:0.9527649769585254\n",
      "test accuracy:0.8617511520737328\n",
      "For Split 2\n",
      "train accuracy:0.9516129032258065\n",
      "test accuracy:0.880184331797235\n",
      "For Split 3\n",
      "train accuracy:0.9423963133640553\n",
      "test accuracy:0.8663594470046083\n",
      "For Split 4\n"
     ]
    },
    {
     "name": "stderr",
     "output_type": "stream",
     "text": [
      "\u001b[32m[I 2022-12-04 08:40:23,674]\u001b[0m Trial 30 finished with value: 0.6735930735930736 and parameters: {'n_estimators': 80, 'max_depth': 4, 'criterion': 'gini'}. Best is trial 27 with value: 0.7541125541125541.\u001b[0m\n"
     ]
    },
    {
     "name": "stdout",
     "output_type": "stream",
     "text": [
      "train accuracy:0.9504608294930875\n",
      "test accuracy:0.9170506912442397\n",
      "For Split 0\n",
      "train accuracy:0.9746543778801844\n",
      "test accuracy:0.9078341013824884\n",
      "For Split 1\n",
      "train accuracy:0.9735023041474654\n",
      "test accuracy:0.8663594470046083\n",
      "For Split 2\n",
      "train accuracy:0.978110599078341\n",
      "test accuracy:0.880184331797235\n",
      "For Split 3\n",
      "train accuracy:0.9758064516129032\n",
      "test accuracy:0.8525345622119815\n",
      "For Split 4\n"
     ]
    },
    {
     "name": "stderr",
     "output_type": "stream",
     "text": [
      "\u001b[32m[I 2022-12-04 08:40:27,069]\u001b[0m Trial 31 finished with value: 0.7428571428571429 and parameters: {'n_estimators': 86, 'max_depth': 5, 'criterion': 'gini'}. Best is trial 27 with value: 0.7541125541125541.\u001b[0m\n"
     ]
    },
    {
     "name": "stdout",
     "output_type": "stream",
     "text": [
      "train accuracy:0.9711981566820277\n",
      "test accuracy:0.9170506912442397\n",
      "For Split 0\n",
      "train accuracy:0.9919354838709677\n",
      "test accuracy:0.9354838709677419\n",
      "For Split 1\n",
      "train accuracy:0.9919354838709677\n",
      "test accuracy:0.880184331797235\n",
      "For Split 2\n",
      "train accuracy:0.988479262672811\n",
      "test accuracy:0.8663594470046083\n",
      "For Split 3\n",
      "train accuracy:0.9873271889400922\n",
      "test accuracy:0.880184331797235\n",
      "For Split 4\n"
     ]
    },
    {
     "name": "stderr",
     "output_type": "stream",
     "text": [
      "\u001b[32m[I 2022-12-04 08:40:31,170]\u001b[0m Trial 32 finished with value: 0.6926406926406926 and parameters: {'n_estimators': 87, 'max_depth': 6, 'criterion': 'gini'}. Best is trial 27 with value: 0.7541125541125541.\u001b[0m\n"
     ]
    },
    {
     "name": "stdout",
     "output_type": "stream",
     "text": [
      "train accuracy:0.988479262672811\n",
      "test accuracy:0.9124423963133641\n",
      "For Split 0\n",
      "train accuracy:0.9735023041474654\n",
      "test accuracy:0.9170506912442397\n",
      "For Split 1\n",
      "train accuracy:0.9769585253456221\n",
      "test accuracy:0.8617511520737328\n",
      "For Split 2\n",
      "train accuracy:0.9769585253456221\n",
      "test accuracy:0.880184331797235\n",
      "For Split 3\n",
      "train accuracy:0.978110599078341\n",
      "test accuracy:0.8525345622119815\n",
      "For Split 4\n"
     ]
    },
    {
     "name": "stderr",
     "output_type": "stream",
     "text": [
      "\u001b[32m[I 2022-12-04 08:40:34,076]\u001b[0m Trial 33 finished with value: 0.7445887445887446 and parameters: {'n_estimators': 72, 'max_depth': 5, 'criterion': 'gini'}. Best is trial 27 with value: 0.7541125541125541.\u001b[0m\n"
     ]
    },
    {
     "name": "stdout",
     "output_type": "stream",
     "text": [
      "train accuracy:0.9723502304147466\n",
      "test accuracy:0.9124423963133641\n",
      "For Split 0\n",
      "train accuracy:0.9896313364055299\n",
      "test accuracy:0.9262672811059908\n",
      "For Split 1\n",
      "train accuracy:0.9919354838709677\n",
      "test accuracy:0.8571428571428571\n",
      "For Split 2\n",
      "train accuracy:0.9907834101382489\n",
      "test accuracy:0.8847926267281107\n",
      "For Split 3\n",
      "train accuracy:0.9896313364055299\n",
      "test accuracy:0.8755760368663594\n",
      "For Split 4\n"
     ]
    },
    {
     "name": "stderr",
     "output_type": "stream",
     "text": [
      "\u001b[32m[I 2022-12-04 08:40:37,266]\u001b[0m Trial 34 finished with value: 0.6623376623376623 and parameters: {'n_estimators': 73, 'max_depth': 6, 'criterion': 'gini'}. Best is trial 27 with value: 0.7541125541125541.\u001b[0m\n"
     ]
    },
    {
     "name": "stdout",
     "output_type": "stream",
     "text": [
      "train accuracy:0.9850230414746544\n",
      "test accuracy:0.9032258064516129\n",
      "For Split 0\n",
      "train accuracy:0.9758064516129032\n",
      "test accuracy:0.9032258064516129\n",
      "For Split 1\n",
      "train accuracy:0.978110599078341\n",
      "test accuracy:0.880184331797235\n",
      "For Split 2\n",
      "train accuracy:0.9758064516129032\n",
      "test accuracy:0.8755760368663594\n",
      "For Split 3\n",
      "train accuracy:0.9758064516129032\n",
      "test accuracy:0.8571428571428571\n",
      "For Split 4\n"
     ]
    },
    {
     "name": "stderr",
     "output_type": "stream",
     "text": [
      "\u001b[32m[I 2022-12-04 08:40:41,053]\u001b[0m Trial 35 finished with value: 0.754978354978355 and parameters: {'n_estimators': 92, 'max_depth': 5, 'criterion': 'gini'}. Best is trial 35 with value: 0.754978354978355.\u001b[0m\n"
     ]
    },
    {
     "name": "stdout",
     "output_type": "stream",
     "text": [
      "train accuracy:0.9746543778801844\n",
      "test accuracy:0.9124423963133641\n",
      "For Split 0\n",
      "train accuracy:0.9516129032258065\n",
      "test accuracy:0.9124423963133641\n",
      "For Split 1\n",
      "train accuracy:0.9527649769585254\n",
      "test accuracy:0.8525345622119815\n",
      "For Split 2\n",
      "train accuracy:0.9516129032258065\n",
      "test accuracy:0.8663594470046083\n",
      "For Split 3\n",
      "train accuracy:0.9412442396313364\n",
      "test accuracy:0.8709677419354839\n",
      "For Split 4\n"
     ]
    },
    {
     "name": "stderr",
     "output_type": "stream",
     "text": [
      "\u001b[32m[I 2022-12-04 08:40:45,320]\u001b[0m Trial 36 finished with value: 0.645021645021645 and parameters: {'n_estimators': 92, 'max_depth': 4, 'criterion': 'entropy'}. Best is trial 35 with value: 0.754978354978355.\u001b[0m\n"
     ]
    },
    {
     "name": "stdout",
     "output_type": "stream",
     "text": [
      "train accuracy:0.9447004608294931\n",
      "test accuracy:0.9032258064516129\n",
      "For Split 0\n",
      "train accuracy:0.9896313364055299\n",
      "test accuracy:0.9262672811059908\n",
      "For Split 1\n",
      "train accuracy:0.9919354838709677\n",
      "test accuracy:0.880184331797235\n",
      "For Split 2\n",
      "train accuracy:0.9873271889400922\n",
      "test accuracy:0.8617511520737328\n",
      "For Split 3\n",
      "train accuracy:0.9896313364055299\n",
      "test accuracy:0.880184331797235\n",
      "For Split 4\n"
     ]
    },
    {
     "name": "stderr",
     "output_type": "stream",
     "text": [
      "\u001b[32m[I 2022-12-04 08:40:49,347]\u001b[0m Trial 37 finished with value: 0.677056277056277 and parameters: {'n_estimators': 92, 'max_depth': 6, 'criterion': 'gini'}. Best is trial 35 with value: 0.754978354978355.\u001b[0m\n"
     ]
    },
    {
     "name": "stdout",
     "output_type": "stream",
     "text": [
      "train accuracy:0.9861751152073732\n",
      "test accuracy:0.9078341013824884\n",
      "For Split 0\n",
      "train accuracy:0.9700460829493087\n",
      "test accuracy:0.9308755760368663\n",
      "For Split 1\n",
      "train accuracy:0.978110599078341\n",
      "test accuracy:0.8755760368663594\n",
      "For Split 2\n",
      "train accuracy:0.9758064516129032\n",
      "test accuracy:0.8709677419354839\n",
      "For Split 3\n",
      "train accuracy:0.9688940092165899\n",
      "test accuracy:0.8709677419354839\n",
      "For Split 4\n"
     ]
    },
    {
     "name": "stderr",
     "output_type": "stream",
     "text": [
      "\u001b[32m[I 2022-12-04 08:40:52,927]\u001b[0m Trial 38 finished with value: 0.6346320346320347 and parameters: {'n_estimators': 72, 'max_depth': 5, 'criterion': 'entropy'}. Best is trial 35 with value: 0.754978354978355.\u001b[0m\n"
     ]
    },
    {
     "name": "stdout",
     "output_type": "stream",
     "text": [
      "train accuracy:0.9723502304147466\n",
      "test accuracy:0.8986175115207373\n",
      "For Split 0\n",
      "train accuracy:0.9481566820276498\n",
      "test accuracy:0.9170506912442397\n",
      "For Split 1\n",
      "train accuracy:0.9550691244239631\n",
      "test accuracy:0.8663594470046083\n",
      "For Split 2\n",
      "train accuracy:0.9504608294930875\n",
      "test accuracy:0.8847926267281107\n",
      "For Split 3\n",
      "train accuracy:0.945852534562212\n",
      "test accuracy:0.8663594470046083\n",
      "For Split 4\n"
     ]
    },
    {
     "name": "stderr",
     "output_type": "stream",
     "text": [
      "\u001b[32m[I 2022-12-04 08:40:55,627]\u001b[0m Trial 39 finished with value: 0.6787878787878788 and parameters: {'n_estimators': 79, 'max_depth': 4, 'criterion': 'gini'}. Best is trial 35 with value: 0.754978354978355.\u001b[0m\n"
     ]
    },
    {
     "name": "stdout",
     "output_type": "stream",
     "text": [
      "train accuracy:0.9493087557603687\n",
      "test accuracy:0.9170506912442397\n",
      "For Split 0\n",
      "train accuracy:0.9907834101382489\n",
      "test accuracy:0.9262672811059908\n",
      "For Split 1\n",
      "train accuracy:0.9930875576036866\n",
      "test accuracy:0.8663594470046083\n",
      "For Split 2\n",
      "train accuracy:0.9896313364055299\n",
      "test accuracy:0.8847926267281107\n",
      "For Split 3\n",
      "train accuracy:0.9896313364055299\n",
      "test accuracy:0.8709677419354839\n",
      "For Split 4\n"
     ]
    },
    {
     "name": "stderr",
     "output_type": "stream",
     "text": [
      "\u001b[32m[I 2022-12-04 08:40:58,325]\u001b[0m Trial 40 finished with value: 0.658008658008658 and parameters: {'n_estimators': 62, 'max_depth': 6, 'criterion': 'gini'}. Best is trial 35 with value: 0.754978354978355.\u001b[0m\n"
     ]
    },
    {
     "name": "stdout",
     "output_type": "stream",
     "text": [
      "train accuracy:0.9838709677419355\n",
      "test accuracy:0.9078341013824884\n",
      "For Split 0\n",
      "train accuracy:0.9735023041474654\n",
      "test accuracy:0.9216589861751152\n",
      "For Split 1\n",
      "train accuracy:0.9769585253456221\n",
      "test accuracy:0.8709677419354839\n",
      "For Split 2\n",
      "train accuracy:0.9769585253456221\n",
      "test accuracy:0.880184331797235\n",
      "For Split 3\n",
      "train accuracy:0.9792626728110599\n",
      "test accuracy:0.8525345622119815\n",
      "For Split 4\n"
     ]
    },
    {
     "name": "stderr",
     "output_type": "stream",
     "text": [
      "\u001b[32m[I 2022-12-04 08:41:00,950]\u001b[0m Trial 41 finished with value: 0.7116883116883118 and parameters: {'n_estimators': 67, 'max_depth': 5, 'criterion': 'gini'}. Best is trial 35 with value: 0.754978354978355.\u001b[0m\n"
     ]
    },
    {
     "name": "stdout",
     "output_type": "stream",
     "text": [
      "train accuracy:0.9711981566820277\n",
      "test accuracy:0.9124423963133641\n",
      "For Split 0\n",
      "train accuracy:0.9735023041474654\n",
      "test accuracy:0.9124423963133641\n",
      "For Split 1\n",
      "train accuracy:0.978110599078341\n",
      "test accuracy:0.8617511520737328\n",
      "For Split 2\n",
      "train accuracy:0.9758064516129032\n",
      "test accuracy:0.880184331797235\n",
      "For Split 3\n",
      "train accuracy:0.9769585253456221\n",
      "test accuracy:0.8571428571428571\n",
      "For Split 4\n"
     ]
    },
    {
     "name": "stderr",
     "output_type": "stream",
     "text": [
      "\u001b[32m[I 2022-12-04 08:41:04,311]\u001b[0m Trial 42 finished with value: 0.7454545454545455 and parameters: {'n_estimators': 79, 'max_depth': 5, 'criterion': 'gini'}. Best is trial 35 with value: 0.754978354978355.\u001b[0m\n"
     ]
    },
    {
     "name": "stdout",
     "output_type": "stream",
     "text": [
      "train accuracy:0.9735023041474654\n",
      "test accuracy:0.9170506912442397\n",
      "For Split 0\n",
      "train accuracy:0.9735023041474654\n",
      "test accuracy:0.9124423963133641\n",
      "For Split 1\n",
      "train accuracy:0.9758064516129032\n",
      "test accuracy:0.8709677419354839\n",
      "For Split 2\n",
      "train accuracy:0.978110599078341\n",
      "test accuracy:0.880184331797235\n",
      "For Split 3\n",
      "train accuracy:0.9769585253456221\n",
      "test accuracy:0.8525345622119815\n",
      "For Split 4\n"
     ]
    },
    {
     "name": "stderr",
     "output_type": "stream",
     "text": [
      "\u001b[32m[I 2022-12-04 08:41:07,781]\u001b[0m Trial 43 finished with value: 0.7454545454545455 and parameters: {'n_estimators': 89, 'max_depth': 5, 'criterion': 'gini'}. Best is trial 35 with value: 0.754978354978355.\u001b[0m\n"
     ]
    },
    {
     "name": "stdout",
     "output_type": "stream",
     "text": [
      "train accuracy:0.9723502304147466\n",
      "test accuracy:0.9124423963133641\n",
      "For Split 0\n",
      "train accuracy:0.9470046082949308\n",
      "test accuracy:0.9216589861751152\n",
      "For Split 1\n",
      "train accuracy:0.9527649769585254\n",
      "test accuracy:0.8709677419354839\n",
      "For Split 2\n",
      "train accuracy:0.9527649769585254\n",
      "test accuracy:0.8940092165898618\n",
      "For Split 3\n",
      "train accuracy:0.9516129032258065\n",
      "test accuracy:0.8617511520737328\n",
      "For Split 4\n"
     ]
    },
    {
     "name": "stderr",
     "output_type": "stream",
     "text": [
      "\u001b[32m[I 2022-12-04 08:41:11,049]\u001b[0m Trial 44 finished with value: 0.6658008658008658 and parameters: {'n_estimators': 96, 'max_depth': 4, 'criterion': 'gini'}. Best is trial 35 with value: 0.754978354978355.\u001b[0m\n"
     ]
    },
    {
     "name": "stdout",
     "output_type": "stream",
     "text": [
      "train accuracy:0.9585253456221198\n",
      "test accuracy:0.9170506912442397\n",
      "For Split 0\n",
      "train accuracy:0.9723502304147466\n",
      "test accuracy:0.9216589861751152\n",
      "For Split 1\n",
      "train accuracy:0.978110599078341\n",
      "test accuracy:0.8663594470046083\n",
      "For Split 2\n",
      "train accuracy:0.978110599078341\n",
      "test accuracy:0.8755760368663594\n",
      "For Split 3\n",
      "train accuracy:0.966589861751152\n",
      "test accuracy:0.8709677419354839\n",
      "For Split 4\n"
     ]
    },
    {
     "name": "stderr",
     "output_type": "stream",
     "text": [
      "\u001b[32m[I 2022-12-04 08:41:15,749]\u001b[0m Trial 45 finished with value: 0.6675324675324676 and parameters: {'n_estimators': 90, 'max_depth': 5, 'criterion': 'entropy'}. Best is trial 35 with value: 0.754978354978355.\u001b[0m\n"
     ]
    },
    {
     "name": "stdout",
     "output_type": "stream",
     "text": [
      "train accuracy:0.9700460829493087\n",
      "test accuracy:0.9032258064516129\n",
      "For Split 0\n",
      "train accuracy:0.9896313364055299\n",
      "test accuracy:0.9262672811059908\n",
      "For Split 1\n",
      "train accuracy:0.9919354838709677\n",
      "test accuracy:0.8847926267281107\n",
      "For Split 2\n",
      "train accuracy:0.9873271889400922\n",
      "test accuracy:0.8663594470046083\n",
      "For Split 3\n",
      "train accuracy:0.9942396313364056\n",
      "test accuracy:0.880184331797235\n",
      "For Split 4\n"
     ]
    },
    {
     "name": "stderr",
     "output_type": "stream",
     "text": [
      "\u001b[32m[I 2022-12-04 08:41:20,057]\u001b[0m Trial 46 finished with value: 0.6744588744588744 and parameters: {'n_estimators': 96, 'max_depth': 6, 'criterion': 'gini'}. Best is trial 35 with value: 0.754978354978355.\u001b[0m\n"
     ]
    },
    {
     "name": "stdout",
     "output_type": "stream",
     "text": [
      "train accuracy:0.988479262672811\n",
      "test accuracy:0.9032258064516129\n",
      "For Split 0\n",
      "train accuracy:0.9493087557603687\n",
      "test accuracy:0.9170506912442397\n",
      "For Split 1\n",
      "train accuracy:0.9539170506912442\n",
      "test accuracy:0.8709677419354839\n",
      "For Split 2\n",
      "train accuracy:0.9516129032258065\n",
      "test accuracy:0.8847926267281107\n",
      "For Split 3\n",
      "train accuracy:0.9481566820276498\n",
      "test accuracy:0.8663594470046083\n",
      "For Split 4\n"
     ]
    },
    {
     "name": "stderr",
     "output_type": "stream",
     "text": [
      "\u001b[32m[I 2022-12-04 08:41:22,875]\u001b[0m Trial 47 finished with value: 0.6692640692640692 and parameters: {'n_estimators': 83, 'max_depth': 4, 'criterion': 'gini'}. Best is trial 35 with value: 0.754978354978355.\u001b[0m\n"
     ]
    },
    {
     "name": "stdout",
     "output_type": "stream",
     "text": [
      "train accuracy:0.9493087557603687\n",
      "test accuracy:0.9170506912442397\n",
      "For Split 0\n",
      "train accuracy:0.9723502304147466\n",
      "test accuracy:0.9262672811059908\n",
      "For Split 1\n",
      "train accuracy:0.978110599078341\n",
      "test accuracy:0.8709677419354839\n",
      "For Split 2\n",
      "train accuracy:0.978110599078341\n",
      "test accuracy:0.8755760368663594\n",
      "For Split 3\n",
      "train accuracy:0.966589861751152\n",
      "test accuracy:0.8709677419354839\n",
      "For Split 4\n"
     ]
    },
    {
     "name": "stderr",
     "output_type": "stream",
     "text": [
      "\u001b[32m[I 2022-12-04 08:41:26,856]\u001b[0m Trial 48 finished with value: 0.6597402597402597 and parameters: {'n_estimators': 82, 'max_depth': 5, 'criterion': 'entropy'}. Best is trial 35 with value: 0.754978354978355.\u001b[0m\n"
     ]
    },
    {
     "name": "stdout",
     "output_type": "stream",
     "text": [
      "train accuracy:0.9723502304147466\n",
      "test accuracy:0.9078341013824884\n",
      "For Split 0\n",
      "train accuracy:0.9896313364055299\n",
      "test accuracy:0.9308755760368663\n",
      "For Split 1\n",
      "train accuracy:0.9930875576036866\n",
      "test accuracy:0.880184331797235\n",
      "For Split 2\n",
      "train accuracy:0.9873271889400922\n",
      "test accuracy:0.8663594470046083\n",
      "For Split 3\n",
      "train accuracy:0.988479262672811\n",
      "test accuracy:0.8709677419354839\n",
      "For Split 4\n"
     ]
    },
    {
     "name": "stderr",
     "output_type": "stream",
     "text": [
      "\u001b[32m[I 2022-12-04 08:41:30,776]\u001b[0m Trial 49 finished with value: 0.6770562770562771 and parameters: {'n_estimators': 90, 'max_depth': 6, 'criterion': 'gini'}. Best is trial 35 with value: 0.754978354978355.\u001b[0m\n"
     ]
    },
    {
     "name": "stdout",
     "output_type": "stream",
     "text": [
      "train accuracy:0.988479262672811\n",
      "test accuracy:0.9124423963133641\n",
      "For Split 0\n",
      "train accuracy:0.8410138248847926\n",
      "test accuracy:0.8571428571428571\n",
      "For Split 1\n",
      "train accuracy:0.8444700460829493\n",
      "test accuracy:0.815668202764977\n",
      "For Split 2\n",
      "train accuracy:0.847926267281106\n",
      "test accuracy:0.815668202764977\n",
      "For Split 3\n",
      "train accuracy:0.8536866359447005\n",
      "test accuracy:0.783410138248848\n",
      "For Split 4\n"
     ]
    },
    {
     "name": "stderr",
     "output_type": "stream",
     "text": [
      "\u001b[32m[I 2022-12-04 08:41:32,395]\u001b[0m Trial 50 finished with value: 0.27705627705627706 and parameters: {'n_estimators': 98, 'max_depth': 1, 'criterion': 'gini'}. Best is trial 35 with value: 0.754978354978355.\u001b[0m\n"
     ]
    },
    {
     "name": "stdout",
     "output_type": "stream",
     "text": [
      "train accuracy:0.8548387096774194\n",
      "test accuracy:0.8387096774193549\n",
      "For Split 0\n",
      "train accuracy:0.9735023041474654\n",
      "test accuracy:0.9170506912442397\n",
      "For Split 1\n",
      "train accuracy:0.9758064516129032\n",
      "test accuracy:0.8617511520737328\n",
      "For Split 2\n",
      "train accuracy:0.9758064516129032\n",
      "test accuracy:0.8755760368663594\n",
      "For Split 3\n",
      "train accuracy:0.978110599078341\n",
      "test accuracy:0.8525345622119815\n",
      "For Split 4\n"
     ]
    },
    {
     "name": "stderr",
     "output_type": "stream",
     "text": [
      "\u001b[32m[I 2022-12-04 08:41:35,568]\u001b[0m Trial 51 finished with value: 0.7402597402597403 and parameters: {'n_estimators': 75, 'max_depth': 5, 'criterion': 'gini'}. Best is trial 35 with value: 0.754978354978355.\u001b[0m\n"
     ]
    },
    {
     "name": "stdout",
     "output_type": "stream",
     "text": [
      "train accuracy:0.9735023041474654\n",
      "test accuracy:0.9124423963133641\n",
      "For Split 0\n",
      "train accuracy:0.9735023041474654\n",
      "test accuracy:0.9216589861751152\n",
      "For Split 1\n",
      "train accuracy:0.9769585253456221\n",
      "test accuracy:0.8617511520737328\n",
      "For Split 2\n",
      "train accuracy:0.9769585253456221\n",
      "test accuracy:0.880184331797235\n",
      "For Split 3\n",
      "train accuracy:0.978110599078341\n",
      "test accuracy:0.8617511520737328\n",
      "For Split 4\n"
     ]
    },
    {
     "name": "stderr",
     "output_type": "stream",
     "text": [
      "\u001b[32m[I 2022-12-04 08:41:38,614]\u001b[0m Trial 52 finished with value: 0.7454545454545454 and parameters: {'n_estimators': 77, 'max_depth': 5, 'criterion': 'gini'}. Best is trial 35 with value: 0.754978354978355.\u001b[0m\n"
     ]
    },
    {
     "name": "stdout",
     "output_type": "stream",
     "text": [
      "train accuracy:0.9723502304147466\n",
      "test accuracy:0.9170506912442397\n",
      "For Split 0\n",
      "train accuracy:0.9735023041474654\n",
      "test accuracy:0.9078341013824884\n",
      "For Split 1\n",
      "train accuracy:0.9746543778801844\n",
      "test accuracy:0.8755760368663594\n",
      "For Split 2\n",
      "train accuracy:0.978110599078341\n",
      "test accuracy:0.880184331797235\n",
      "For Split 3\n",
      "train accuracy:0.9758064516129032\n",
      "test accuracy:0.847926267281106\n",
      "For Split 4\n"
     ]
    },
    {
     "name": "stderr",
     "output_type": "stream",
     "text": [
      "\u001b[32m[I 2022-12-04 08:41:42,035]\u001b[0m Trial 53 finished with value: 0.7428571428571429 and parameters: {'n_estimators': 88, 'max_depth': 5, 'criterion': 'gini'}. Best is trial 35 with value: 0.754978354978355.\u001b[0m\n"
     ]
    },
    {
     "name": "stdout",
     "output_type": "stream",
     "text": [
      "train accuracy:0.9711981566820277\n",
      "test accuracy:0.9170506912442397\n",
      "For Split 0\n",
      "train accuracy:0.9735023041474654\n",
      "test accuracy:0.9124423963133641\n",
      "For Split 1\n",
      "train accuracy:0.9758064516129032\n",
      "test accuracy:0.8709677419354839\n",
      "For Split 2\n",
      "train accuracy:0.9769585253456221\n",
      "test accuracy:0.880184331797235\n",
      "For Split 3\n",
      "train accuracy:0.9758064516129032\n",
      "test accuracy:0.8617511520737328\n",
      "For Split 4\n"
     ]
    },
    {
     "name": "stderr",
     "output_type": "stream",
     "text": [
      "\u001b[32m[I 2022-12-04 08:41:45,327]\u001b[0m Trial 54 finished with value: 0.7445887445887447 and parameters: {'n_estimators': 83, 'max_depth': 5, 'criterion': 'gini'}. Best is trial 35 with value: 0.754978354978355.\u001b[0m\n"
     ]
    },
    {
     "name": "stdout",
     "output_type": "stream",
     "text": [
      "train accuracy:0.9735023041474654\n",
      "test accuracy:0.9170506912442397\n",
      "For Split 0\n",
      "train accuracy:0.978110599078341\n",
      "test accuracy:0.9078341013824884\n",
      "For Split 1\n",
      "train accuracy:0.9758064516129032\n",
      "test accuracy:0.8663594470046083\n",
      "For Split 2\n",
      "train accuracy:0.9769585253456221\n",
      "test accuracy:0.880184331797235\n",
      "For Split 3\n",
      "train accuracy:0.978110599078341\n",
      "test accuracy:0.8663594470046083\n",
      "For Split 4\n"
     ]
    },
    {
     "name": "stderr",
     "output_type": "stream",
     "text": [
      "\u001b[32m[I 2022-12-04 08:41:49,838]\u001b[0m Trial 55 finished with value: 0.7402597402597403 and parameters: {'n_estimators': 101, 'max_depth': 5, 'criterion': 'gini'}. Best is trial 35 with value: 0.754978354978355.\u001b[0m\n"
     ]
    },
    {
     "name": "stdout",
     "output_type": "stream",
     "text": [
      "train accuracy:0.9758064516129032\n",
      "test accuracy:0.9078341013824884\n",
      "For Split 0\n",
      "train accuracy:0.9758064516129032\n",
      "test accuracy:0.9216589861751152\n",
      "For Split 1\n",
      "train accuracy:0.9758064516129032\n",
      "test accuracy:0.8709677419354839\n",
      "For Split 2\n",
      "train accuracy:0.9769585253456221\n",
      "test accuracy:0.880184331797235\n",
      "For Split 3\n",
      "train accuracy:0.9792626728110599\n",
      "test accuracy:0.8525345622119815\n",
      "For Split 4\n"
     ]
    },
    {
     "name": "stderr",
     "output_type": "stream",
     "text": [
      "\u001b[32m[I 2022-12-04 08:41:52,508]\u001b[0m Trial 56 finished with value: 0.7177489177489178 and parameters: {'n_estimators': 68, 'max_depth': 5, 'criterion': 'gini'}. Best is trial 35 with value: 0.754978354978355.\u001b[0m\n"
     ]
    },
    {
     "name": "stdout",
     "output_type": "stream",
     "text": [
      "train accuracy:0.9700460829493087\n",
      "test accuracy:0.9124423963133641\n",
      "For Split 0\n",
      "train accuracy:0.9205069124423964\n",
      "test accuracy:0.9078341013824884\n",
      "For Split 1\n",
      "train accuracy:0.9331797235023042\n",
      "test accuracy:0.8663594470046083\n",
      "For Split 2\n",
      "train accuracy:0.9205069124423964\n",
      "test accuracy:0.8617511520737328\n",
      "For Split 3\n",
      "train accuracy:0.923963133640553\n",
      "test accuracy:0.8387096774193549\n",
      "For Split 4\n"
     ]
    },
    {
     "name": "stderr",
     "output_type": "stream",
     "text": [
      "\u001b[32m[I 2022-12-04 08:41:55,192]\u001b[0m Trial 57 finished with value: 0.6363636363636364 and parameters: {'n_estimators': 94, 'max_depth': 3, 'criterion': 'gini'}. Best is trial 35 with value: 0.754978354978355.\u001b[0m\n"
     ]
    },
    {
     "name": "stdout",
     "output_type": "stream",
     "text": [
      "train accuracy:0.9147465437788018\n",
      "test accuracy:0.880184331797235\n",
      "For Split 0\n",
      "train accuracy:0.9481566820276498\n",
      "test accuracy:0.9170506912442397\n",
      "For Split 1\n",
      "train accuracy:0.9550691244239631\n",
      "test accuracy:0.8663594470046083\n",
      "For Split 2\n",
      "train accuracy:0.9504608294930875\n",
      "test accuracy:0.8847926267281107\n",
      "For Split 3\n",
      "train accuracy:0.9447004608294931\n",
      "test accuracy:0.8663594470046083\n",
      "For Split 4\n"
     ]
    },
    {
     "name": "stderr",
     "output_type": "stream",
     "text": [
      "\u001b[32m[I 2022-12-04 08:41:57,994]\u001b[0m Trial 58 finished with value: 0.6822510822510822 and parameters: {'n_estimators': 77, 'max_depth': 4, 'criterion': 'gini'}. Best is trial 35 with value: 0.754978354978355.\u001b[0m\n"
     ]
    },
    {
     "name": "stdout",
     "output_type": "stream",
     "text": [
      "train accuracy:0.9481566820276498\n",
      "test accuracy:0.9170506912442397\n",
      "For Split 0\n",
      "train accuracy:0.8847926267281107\n",
      "test accuracy:0.8940092165898618\n",
      "For Split 1\n",
      "train accuracy:0.902073732718894\n",
      "test accuracy:0.8571428571428571\n",
      "For Split 2\n",
      "train accuracy:0.8894009216589862\n",
      "test accuracy:0.8571428571428571\n",
      "For Split 3\n",
      "train accuracy:0.902073732718894\n",
      "test accuracy:0.8294930875576036\n",
      "For Split 4\n"
     ]
    },
    {
     "name": "stderr",
     "output_type": "stream",
     "text": [
      "\u001b[32m[I 2022-12-04 08:41:59,420]\u001b[0m Trial 59 finished with value: 0.39567099567099573 and parameters: {'n_estimators': 53, 'max_depth': 2, 'criterion': 'entropy'}. Best is trial 35 with value: 0.754978354978355.\u001b[0m\n"
     ]
    },
    {
     "name": "stdout",
     "output_type": "stream",
     "text": [
      "train accuracy:0.8847926267281107\n",
      "test accuracy:0.8986175115207373\n",
      "For Split 0\n",
      "train accuracy:0.9896313364055299\n",
      "test accuracy:0.9308755760368663\n",
      "For Split 1\n",
      "train accuracy:0.9919354838709677\n",
      "test accuracy:0.880184331797235\n",
      "For Split 2\n",
      "train accuracy:0.9873271889400922\n",
      "test accuracy:0.8663594470046083\n",
      "For Split 3\n",
      "train accuracy:0.9861751152073732\n",
      "test accuracy:0.8755760368663594\n",
      "For Split 4\n"
     ]
    },
    {
     "name": "stderr",
     "output_type": "stream",
     "text": [
      "\u001b[32m[I 2022-12-04 08:42:03,352]\u001b[0m Trial 60 finished with value: 0.6805194805194806 and parameters: {'n_estimators': 88, 'max_depth': 6, 'criterion': 'gini'}. Best is trial 35 with value: 0.754978354978355.\u001b[0m\n"
     ]
    },
    {
     "name": "stdout",
     "output_type": "stream",
     "text": [
      "train accuracy:0.9873271889400922\n",
      "test accuracy:0.9124423963133641\n",
      "For Split 0\n",
      "train accuracy:0.9735023041474654\n",
      "test accuracy:0.9124423963133641\n",
      "For Split 1\n",
      "train accuracy:0.9758064516129032\n",
      "test accuracy:0.8709677419354839\n",
      "For Split 2\n",
      "train accuracy:0.9769585253456221\n",
      "test accuracy:0.880184331797235\n",
      "For Split 3\n",
      "train accuracy:0.9758064516129032\n",
      "test accuracy:0.8617511520737328\n",
      "For Split 4\n"
     ]
    },
    {
     "name": "stderr",
     "output_type": "stream",
     "text": [
      "\u001b[32m[I 2022-12-04 08:42:06,573]\u001b[0m Trial 61 finished with value: 0.7445887445887447 and parameters: {'n_estimators': 83, 'max_depth': 5, 'criterion': 'gini'}. Best is trial 35 with value: 0.754978354978355.\u001b[0m\n"
     ]
    },
    {
     "name": "stdout",
     "output_type": "stream",
     "text": [
      "train accuracy:0.9735023041474654\n",
      "test accuracy:0.9170506912442397\n",
      "For Split 0\n",
      "train accuracy:0.9758064516129032\n",
      "test accuracy:0.9124423963133641\n",
      "For Split 1\n",
      "train accuracy:0.9769585253456221\n",
      "test accuracy:0.8617511520737328\n",
      "For Split 2\n",
      "train accuracy:0.9769585253456221\n",
      "test accuracy:0.880184331797235\n",
      "For Split 3\n",
      "train accuracy:0.9758064516129032\n",
      "test accuracy:0.8617511520737328\n",
      "For Split 4\n"
     ]
    },
    {
     "name": "stderr",
     "output_type": "stream",
     "text": [
      "\u001b[32m[I 2022-12-04 08:42:09,950]\u001b[0m Trial 62 finished with value: 0.748917748917749 and parameters: {'n_estimators': 81, 'max_depth': 5, 'criterion': 'gini'}. Best is trial 35 with value: 0.754978354978355.\u001b[0m\n"
     ]
    },
    {
     "name": "stdout",
     "output_type": "stream",
     "text": [
      "train accuracy:0.9746543778801844\n",
      "test accuracy:0.9170506912442397\n",
      "For Split 0\n",
      "train accuracy:0.9758064516129032\n",
      "test accuracy:0.9124423963133641\n",
      "For Split 1\n",
      "train accuracy:0.9769585253456221\n",
      "test accuracy:0.8617511520737328\n",
      "For Split 2\n",
      "train accuracy:0.9769585253456221\n",
      "test accuracy:0.880184331797235\n",
      "For Split 3\n",
      "train accuracy:0.9758064516129032\n",
      "test accuracy:0.8617511520737328\n",
      "For Split 4\n"
     ]
    },
    {
     "name": "stderr",
     "output_type": "stream",
     "text": [
      "\u001b[32m[I 2022-12-04 08:42:13,158]\u001b[0m Trial 63 finished with value: 0.748917748917749 and parameters: {'n_estimators': 81, 'max_depth': 5, 'criterion': 'gini'}. Best is trial 35 with value: 0.754978354978355.\u001b[0m\n"
     ]
    },
    {
     "name": "stdout",
     "output_type": "stream",
     "text": [
      "train accuracy:0.9746543778801844\n",
      "test accuracy:0.9170506912442397\n",
      "For Split 0\n",
      "train accuracy:0.9735023041474654\n",
      "test accuracy:0.9216589861751152\n",
      "For Split 1\n",
      "train accuracy:0.9769585253456221\n",
      "test accuracy:0.8617511520737328\n",
      "For Split 2\n",
      "train accuracy:0.9769585253456221\n",
      "test accuracy:0.880184331797235\n",
      "For Split 3\n",
      "train accuracy:0.978110599078341\n",
      "test accuracy:0.8617511520737328\n",
      "For Split 4\n"
     ]
    },
    {
     "name": "stderr",
     "output_type": "stream",
     "text": [
      "\u001b[32m[I 2022-12-04 08:42:16,246]\u001b[0m Trial 64 finished with value: 0.7454545454545454 and parameters: {'n_estimators': 77, 'max_depth': 5, 'criterion': 'gini'}. Best is trial 35 with value: 0.754978354978355.\u001b[0m\n"
     ]
    },
    {
     "name": "stdout",
     "output_type": "stream",
     "text": [
      "train accuracy:0.9723502304147466\n",
      "test accuracy:0.9170506912442397\n",
      "For Split 0\n",
      "train accuracy:0.9447004608294931\n",
      "test accuracy:0.9170506912442397\n",
      "For Split 1\n",
      "train accuracy:0.9504608294930875\n",
      "test accuracy:0.8617511520737328\n",
      "For Split 2\n",
      "train accuracy:0.9527649769585254\n",
      "test accuracy:0.8847926267281107\n",
      "For Split 3\n",
      "train accuracy:0.9481566820276498\n",
      "test accuracy:0.8387096774193549\n",
      "For Split 4\n"
     ]
    },
    {
     "name": "stderr",
     "output_type": "stream",
     "text": [
      "\u001b[32m[I 2022-12-04 08:42:18,503]\u001b[0m Trial 65 finished with value: 0.6251082251082252 and parameters: {'n_estimators': 62, 'max_depth': 4, 'criterion': 'gini'}. Best is trial 35 with value: 0.754978354978355.\u001b[0m\n"
     ]
    },
    {
     "name": "stdout",
     "output_type": "stream",
     "text": [
      "train accuracy:0.9435483870967742\n",
      "test accuracy:0.9078341013824884\n",
      "For Split 0\n",
      "train accuracy:0.9746543778801844\n",
      "test accuracy:0.9170506912442397\n",
      "For Split 1\n",
      "train accuracy:0.9769585253456221\n",
      "test accuracy:0.8663594470046083\n",
      "For Split 2\n",
      "train accuracy:0.978110599078341\n",
      "test accuracy:0.880184331797235\n",
      "For Split 3\n",
      "train accuracy:0.9792626728110599\n",
      "test accuracy:0.8571428571428571\n",
      "For Split 4\n"
     ]
    },
    {
     "name": "stderr",
     "output_type": "stream",
     "text": [
      "\u001b[32m[I 2022-12-04 08:42:22,411]\u001b[0m Trial 66 finished with value: 0.7419913419913421 and parameters: {'n_estimators': 80, 'max_depth': 5, 'criterion': 'gini'}. Best is trial 35 with value: 0.754978354978355.\u001b[0m\n"
     ]
    },
    {
     "name": "stdout",
     "output_type": "stream",
     "text": [
      "train accuracy:0.9711981566820277\n",
      "test accuracy:0.9170506912442397\n",
      "For Split 0\n",
      "train accuracy:0.9758064516129032\n",
      "test accuracy:0.9124423963133641\n",
      "For Split 1\n",
      "train accuracy:0.9758064516129032\n",
      "test accuracy:0.8709677419354839\n",
      "For Split 2\n",
      "train accuracy:0.978110599078341\n",
      "test accuracy:0.880184331797235\n",
      "For Split 3\n",
      "train accuracy:0.9792626728110599\n",
      "test accuracy:0.8571428571428571\n",
      "For Split 4\n"
     ]
    },
    {
     "name": "stderr",
     "output_type": "stream",
     "text": [
      "\u001b[32m[I 2022-12-04 08:42:25,191]\u001b[0m Trial 67 finished with value: 0.7272727272727273 and parameters: {'n_estimators': 70, 'max_depth': 5, 'criterion': 'gini'}. Best is trial 35 with value: 0.754978354978355.\u001b[0m\n"
     ]
    },
    {
     "name": "stdout",
     "output_type": "stream",
     "text": [
      "train accuracy:0.9735023041474654\n",
      "test accuracy:0.9078341013824884\n",
      "For Split 0\n",
      "train accuracy:0.9746543778801844\n",
      "test accuracy:0.9078341013824884\n",
      "For Split 1\n",
      "train accuracy:0.9735023041474654\n",
      "test accuracy:0.8663594470046083\n",
      "For Split 2\n",
      "train accuracy:0.978110599078341\n",
      "test accuracy:0.880184331797235\n",
      "For Split 3\n",
      "train accuracy:0.9758064516129032\n",
      "test accuracy:0.8525345622119815\n",
      "For Split 4\n"
     ]
    },
    {
     "name": "stderr",
     "output_type": "stream",
     "text": [
      "\u001b[32m[I 2022-12-04 08:42:28,533]\u001b[0m Trial 68 finished with value: 0.7428571428571429 and parameters: {'n_estimators': 86, 'max_depth': 5, 'criterion': 'gini'}. Best is trial 35 with value: 0.754978354978355.\u001b[0m\n"
     ]
    },
    {
     "name": "stdout",
     "output_type": "stream",
     "text": [
      "train accuracy:0.9711981566820277\n",
      "test accuracy:0.9170506912442397\n",
      "For Split 0\n",
      "train accuracy:0.9896313364055299\n",
      "test accuracy:0.9308755760368663\n",
      "For Split 1\n",
      "train accuracy:0.9930875576036866\n",
      "test accuracy:0.880184331797235\n",
      "For Split 2\n",
      "train accuracy:0.9873271889400922\n",
      "test accuracy:0.8663594470046083\n",
      "For Split 3\n",
      "train accuracy:0.988479262672811\n",
      "test accuracy:0.8709677419354839\n",
      "For Split 4\n"
     ]
    },
    {
     "name": "stderr",
     "output_type": "stream",
     "text": [
      "\u001b[32m[I 2022-12-04 08:42:32,600]\u001b[0m Trial 69 finished with value: 0.6770562770562771 and parameters: {'n_estimators': 90, 'max_depth': 6, 'criterion': 'gini'}. Best is trial 35 with value: 0.754978354978355.\u001b[0m\n"
     ]
    },
    {
     "name": "stdout",
     "output_type": "stream",
     "text": [
      "train accuracy:0.988479262672811\n",
      "test accuracy:0.9124423963133641\n",
      "For Split 0\n",
      "train accuracy:0.9746543778801844\n",
      "test accuracy:0.9216589861751152\n",
      "For Split 1\n",
      "train accuracy:0.9758064516129032\n",
      "test accuracy:0.8709677419354839\n",
      "For Split 2\n",
      "train accuracy:0.9758064516129032\n",
      "test accuracy:0.880184331797235\n",
      "For Split 3\n",
      "train accuracy:0.9758064516129032\n",
      "test accuracy:0.847926267281106\n",
      "For Split 4\n"
     ]
    },
    {
     "name": "stderr",
     "output_type": "stream",
     "text": [
      "\u001b[32m[I 2022-12-04 08:42:35,192]\u001b[0m Trial 70 finished with value: 0.6978354978354978 and parameters: {'n_estimators': 65, 'max_depth': 5, 'criterion': 'gini'}. Best is trial 35 with value: 0.754978354978355.\u001b[0m\n"
     ]
    },
    {
     "name": "stdout",
     "output_type": "stream",
     "text": [
      "train accuracy:0.9700460829493087\n",
      "test accuracy:0.9124423963133641\n",
      "For Split 0\n",
      "train accuracy:0.9723502304147466\n",
      "test accuracy:0.9170506912442397\n",
      "For Split 1\n",
      "train accuracy:0.9758064516129032\n",
      "test accuracy:0.8663594470046083\n",
      "For Split 2\n",
      "train accuracy:0.978110599078341\n",
      "test accuracy:0.880184331797235\n",
      "For Split 3\n",
      "train accuracy:0.9769585253456221\n",
      "test accuracy:0.8617511520737328\n",
      "For Split 4\n"
     ]
    },
    {
     "name": "stderr",
     "output_type": "stream",
     "text": [
      "\u001b[32m[I 2022-12-04 08:42:38,148]\u001b[0m Trial 71 finished with value: 0.7445887445887446 and parameters: {'n_estimators': 76, 'max_depth': 5, 'criterion': 'gini'}. Best is trial 35 with value: 0.754978354978355.\u001b[0m\n"
     ]
    },
    {
     "name": "stdout",
     "output_type": "stream",
     "text": [
      "train accuracy:0.9711981566820277\n",
      "test accuracy:0.9124423963133641\n",
      "For Split 0\n",
      "train accuracy:0.9746543778801844\n",
      "test accuracy:0.9170506912442397\n",
      "For Split 1\n",
      "train accuracy:0.978110599078341\n",
      "test accuracy:0.8663594470046083\n",
      "For Split 2\n",
      "train accuracy:0.9758064516129032\n",
      "test accuracy:0.880184331797235\n",
      "For Split 3\n",
      "train accuracy:0.9769585253456221\n",
      "test accuracy:0.8617511520737328\n",
      "For Split 4\n"
     ]
    },
    {
     "name": "stderr",
     "output_type": "stream",
     "text": [
      "\u001b[32m[I 2022-12-04 08:42:41,402]\u001b[0m Trial 72 finished with value: 0.7445887445887446 and parameters: {'n_estimators': 78, 'max_depth': 5, 'criterion': 'gini'}. Best is trial 35 with value: 0.754978354978355.\u001b[0m\n"
     ]
    },
    {
     "name": "stdout",
     "output_type": "stream",
     "text": [
      "train accuracy:0.9735023041474654\n",
      "test accuracy:0.9170506912442397\n",
      "For Split 0\n",
      "train accuracy:0.9758064516129032\n",
      "test accuracy:0.9124423963133641\n",
      "For Split 1\n",
      "train accuracy:0.9769585253456221\n",
      "test accuracy:0.8617511520737328\n",
      "For Split 2\n",
      "train accuracy:0.9769585253456221\n",
      "test accuracy:0.880184331797235\n",
      "For Split 3\n",
      "train accuracy:0.9758064516129032\n",
      "test accuracy:0.8617511520737328\n",
      "For Split 4\n"
     ]
    },
    {
     "name": "stderr",
     "output_type": "stream",
     "text": [
      "\u001b[32m[I 2022-12-04 08:42:44,558]\u001b[0m Trial 73 finished with value: 0.748917748917749 and parameters: {'n_estimators': 81, 'max_depth': 5, 'criterion': 'gini'}. Best is trial 35 with value: 0.754978354978355.\u001b[0m\n"
     ]
    },
    {
     "name": "stdout",
     "output_type": "stream",
     "text": [
      "train accuracy:0.9746543778801844\n",
      "test accuracy:0.9170506912442397\n",
      "For Split 0\n",
      "train accuracy:0.9758064516129032\n",
      "test accuracy:0.9078341013824884\n",
      "For Split 1\n",
      "train accuracy:0.9758064516129032\n",
      "test accuracy:0.880184331797235\n",
      "For Split 2\n",
      "train accuracy:0.9758064516129032\n",
      "test accuracy:0.8755760368663594\n",
      "For Split 3\n",
      "train accuracy:0.9769585253456221\n",
      "test accuracy:0.8571428571428571\n",
      "For Split 4\n"
     ]
    },
    {
     "name": "stderr",
     "output_type": "stream",
     "text": [
      "\u001b[32m[I 2022-12-04 08:42:48,173]\u001b[0m Trial 74 finished with value: 0.7610389610389611 and parameters: {'n_estimators': 93, 'max_depth': 5, 'criterion': 'gini'}. Best is trial 74 with value: 0.7610389610389611.\u001b[0m\n"
     ]
    },
    {
     "name": "stdout",
     "output_type": "stream",
     "text": [
      "train accuracy:0.9746543778801844\n",
      "test accuracy:0.9170506912442397\n",
      "For Split 0\n",
      "train accuracy:0.9470046082949308\n",
      "test accuracy:0.9170506912442397\n",
      "For Split 1\n",
      "train accuracy:0.9516129032258065\n",
      "test accuracy:0.8709677419354839\n",
      "For Split 2\n",
      "train accuracy:0.956221198156682\n",
      "test accuracy:0.8940092165898618\n",
      "For Split 3\n",
      "train accuracy:0.9504608294930875\n",
      "test accuracy:0.8571428571428571\n",
      "For Split 4\n"
     ]
    },
    {
     "name": "stderr",
     "output_type": "stream",
     "text": [
      "\u001b[32m[I 2022-12-04 08:42:52,089]\u001b[0m Trial 75 finished with value: 0.6683982683982684 and parameters: {'n_estimators': 98, 'max_depth': 4, 'criterion': 'gini'}. Best is trial 74 with value: 0.7610389610389611.\u001b[0m\n"
     ]
    },
    {
     "name": "stdout",
     "output_type": "stream",
     "text": [
      "train accuracy:0.9573732718894009\n",
      "test accuracy:0.9170506912442397\n",
      "For Split 0\n",
      "train accuracy:0.9907834101382489\n",
      "test accuracy:0.9262672811059908\n",
      "For Split 1\n",
      "train accuracy:0.9919354838709677\n",
      "test accuracy:0.880184331797235\n",
      "For Split 2\n",
      "train accuracy:0.9873271889400922\n",
      "test accuracy:0.8617511520737328\n",
      "For Split 3\n",
      "train accuracy:0.9907834101382489\n",
      "test accuracy:0.8755760368663594\n",
      "For Split 4\n"
     ]
    },
    {
     "name": "stderr",
     "output_type": "stream",
     "text": [
      "\u001b[32m[I 2022-12-04 08:42:56,148]\u001b[0m Trial 76 finished with value: 0.6822510822510823 and parameters: {'n_estimators': 93, 'max_depth': 6, 'criterion': 'gini'}. Best is trial 74 with value: 0.7610389610389611.\u001b[0m\n"
     ]
    },
    {
     "name": "stdout",
     "output_type": "stream",
     "text": [
      "train accuracy:0.9873271889400922\n",
      "test accuracy:0.9032258064516129\n",
      "For Split 0\n",
      "train accuracy:0.9735023041474654\n",
      "test accuracy:0.9124423963133641\n",
      "For Split 1\n",
      "train accuracy:0.9758064516129032\n",
      "test accuracy:0.8709677419354839\n",
      "For Split 2\n",
      "train accuracy:0.978110599078341\n",
      "test accuracy:0.880184331797235\n",
      "For Split 3\n",
      "train accuracy:0.9769585253456221\n",
      "test accuracy:0.8525345622119815\n",
      "For Split 4\n"
     ]
    },
    {
     "name": "stderr",
     "output_type": "stream",
     "text": [
      "\u001b[32m[I 2022-12-04 08:42:59,581]\u001b[0m Trial 77 finished with value: 0.7454545454545455 and parameters: {'n_estimators': 89, 'max_depth': 5, 'criterion': 'gini'}. Best is trial 74 with value: 0.7610389610389611.\u001b[0m\n"
     ]
    },
    {
     "name": "stdout",
     "output_type": "stream",
     "text": [
      "train accuracy:0.9723502304147466\n",
      "test accuracy:0.9124423963133641\n",
      "For Split 0\n",
      "train accuracy:0.9493087557603687\n",
      "test accuracy:0.9170506912442397\n",
      "For Split 1\n",
      "train accuracy:0.9527649769585254\n",
      "test accuracy:0.8571428571428571\n",
      "For Split 2\n",
      "train accuracy:0.9493087557603687\n",
      "test accuracy:0.8663594470046083\n",
      "For Split 3\n",
      "train accuracy:0.9400921658986175\n",
      "test accuracy:0.8663594470046083\n",
      "For Split 4\n"
     ]
    },
    {
     "name": "stderr",
     "output_type": "stream",
     "text": [
      "\u001b[32m[I 2022-12-04 08:43:03,224]\u001b[0m Trial 78 finished with value: 0.6441558441558441 and parameters: {'n_estimators': 85, 'max_depth': 4, 'criterion': 'entropy'}. Best is trial 74 with value: 0.7610389610389611.\u001b[0m\n"
     ]
    },
    {
     "name": "stdout",
     "output_type": "stream",
     "text": [
      "train accuracy:0.9470046082949308\n",
      "test accuracy:0.9032258064516129\n",
      "For Split 0\n",
      "train accuracy:0.9758064516129032\n",
      "test accuracy:0.9124423963133641\n",
      "For Split 1\n",
      "train accuracy:0.9769585253456221\n",
      "test accuracy:0.8617511520737328\n",
      "For Split 2\n",
      "train accuracy:0.9769585253456221\n",
      "test accuracy:0.880184331797235\n",
      "For Split 3\n",
      "train accuracy:0.9758064516129032\n",
      "test accuracy:0.8617511520737328\n",
      "For Split 4\n"
     ]
    },
    {
     "name": "stderr",
     "output_type": "stream",
     "text": [
      "\u001b[32m[I 2022-12-04 08:43:06,428]\u001b[0m Trial 79 finished with value: 0.748917748917749 and parameters: {'n_estimators': 81, 'max_depth': 5, 'criterion': 'gini'}. Best is trial 74 with value: 0.7610389610389611.\u001b[0m\n"
     ]
    },
    {
     "name": "stdout",
     "output_type": "stream",
     "text": [
      "train accuracy:0.9746543778801844\n",
      "test accuracy:0.9170506912442397\n",
      "For Split 0\n",
      "train accuracy:0.9758064516129032\n",
      "test accuracy:0.9124423963133641\n",
      "For Split 1\n",
      "train accuracy:0.9769585253456221\n",
      "test accuracy:0.8617511520737328\n",
      "For Split 2\n",
      "train accuracy:0.9769585253456221\n",
      "test accuracy:0.880184331797235\n",
      "For Split 3\n",
      "train accuracy:0.9758064516129032\n",
      "test accuracy:0.8617511520737328\n",
      "For Split 4\n"
     ]
    },
    {
     "name": "stderr",
     "output_type": "stream",
     "text": [
      "\u001b[32m[I 2022-12-04 08:43:09,603]\u001b[0m Trial 80 finished with value: 0.748917748917749 and parameters: {'n_estimators': 81, 'max_depth': 5, 'criterion': 'gini'}. Best is trial 74 with value: 0.7610389610389611.\u001b[0m\n"
     ]
    },
    {
     "name": "stdout",
     "output_type": "stream",
     "text": [
      "train accuracy:0.9746543778801844\n",
      "test accuracy:0.9170506912442397\n",
      "For Split 0\n",
      "train accuracy:0.9758064516129032\n",
      "test accuracy:0.9124423963133641\n",
      "For Split 1\n",
      "train accuracy:0.9769585253456221\n",
      "test accuracy:0.8617511520737328\n",
      "For Split 2\n",
      "train accuracy:0.9769585253456221\n",
      "test accuracy:0.880184331797235\n",
      "For Split 3\n",
      "train accuracy:0.9758064516129032\n",
      "test accuracy:0.8617511520737328\n",
      "For Split 4\n"
     ]
    },
    {
     "name": "stderr",
     "output_type": "stream",
     "text": [
      "\u001b[32m[I 2022-12-04 08:43:12,830]\u001b[0m Trial 81 finished with value: 0.748917748917749 and parameters: {'n_estimators': 81, 'max_depth': 5, 'criterion': 'gini'}. Best is trial 74 with value: 0.7610389610389611.\u001b[0m\n"
     ]
    },
    {
     "name": "stdout",
     "output_type": "stream",
     "text": [
      "train accuracy:0.9746543778801844\n",
      "test accuracy:0.9170506912442397\n",
      "For Split 0\n",
      "train accuracy:0.9746543778801844\n",
      "test accuracy:0.9124423963133641\n",
      "For Split 1\n",
      "train accuracy:0.9769585253456221\n",
      "test accuracy:0.8709677419354839\n",
      "For Split 2\n",
      "train accuracy:0.978110599078341\n",
      "test accuracy:0.880184331797235\n",
      "For Split 3\n",
      "train accuracy:0.9758064516129032\n",
      "test accuracy:0.8617511520737328\n",
      "For Split 4\n"
     ]
    },
    {
     "name": "stderr",
     "output_type": "stream",
     "text": [
      "\u001b[32m[I 2022-12-04 08:43:16,339]\u001b[0m Trial 82 finished with value: 0.7445887445887447 and parameters: {'n_estimators': 82, 'max_depth': 5, 'criterion': 'gini'}. Best is trial 74 with value: 0.7610389610389611.\u001b[0m\n"
     ]
    },
    {
     "name": "stdout",
     "output_type": "stream",
     "text": [
      "train accuracy:0.9746543778801844\n",
      "test accuracy:0.9170506912442397\n",
      "For Split 0\n",
      "train accuracy:0.9735023041474654\n",
      "test accuracy:0.9170506912442397\n",
      "For Split 1\n",
      "train accuracy:0.9758064516129032\n",
      "test accuracy:0.8663594470046083\n",
      "For Split 2\n",
      "train accuracy:0.9769585253456221\n",
      "test accuracy:0.880184331797235\n",
      "For Split 3\n",
      "train accuracy:0.9769585253456221\n",
      "test accuracy:0.8525345622119815\n",
      "For Split 4\n"
     ]
    },
    {
     "name": "stderr",
     "output_type": "stream",
     "text": [
      "\u001b[32m[I 2022-12-04 08:43:19,238]\u001b[0m Trial 83 finished with value: 0.7393939393939395 and parameters: {'n_estimators': 74, 'max_depth': 5, 'criterion': 'gini'}. Best is trial 74 with value: 0.7610389610389611.\u001b[0m\n"
     ]
    },
    {
     "name": "stdout",
     "output_type": "stream",
     "text": [
      "train accuracy:0.9711981566820277\n",
      "test accuracy:0.9124423963133641\n",
      "For Split 0\n",
      "train accuracy:0.9758064516129032\n",
      "test accuracy:0.9124423963133641\n",
      "For Split 1\n",
      "train accuracy:0.9769585253456221\n",
      "test accuracy:0.8617511520737328\n",
      "For Split 2\n",
      "train accuracy:0.9769585253456221\n",
      "test accuracy:0.880184331797235\n",
      "For Split 3\n",
      "train accuracy:0.9758064516129032\n",
      "test accuracy:0.8617511520737328\n",
      "For Split 4\n"
     ]
    },
    {
     "name": "stderr",
     "output_type": "stream",
     "text": [
      "\u001b[32m[I 2022-12-04 08:43:22,906]\u001b[0m Trial 84 finished with value: 0.748917748917749 and parameters: {'n_estimators': 81, 'max_depth': 5, 'criterion': 'gini'}. Best is trial 74 with value: 0.7610389610389611.\u001b[0m\n"
     ]
    },
    {
     "name": "stdout",
     "output_type": "stream",
     "text": [
      "train accuracy:0.9746543778801844\n",
      "test accuracy:0.9170506912442397\n",
      "For Split 0\n",
      "train accuracy:0.9919354838709677\n",
      "test accuracy:0.9354838709677419\n",
      "For Split 1\n",
      "train accuracy:0.9907834101382489\n",
      "test accuracy:0.880184331797235\n",
      "For Split 2\n",
      "train accuracy:0.988479262672811\n",
      "test accuracy:0.8663594470046083\n",
      "For Split 3\n",
      "train accuracy:0.9850230414746544\n",
      "test accuracy:0.8709677419354839\n",
      "For Split 4\n"
     ]
    },
    {
     "name": "stderr",
     "output_type": "stream",
     "text": [
      "\u001b[32m[I 2022-12-04 08:43:26,896]\u001b[0m Trial 85 finished with value: 0.6857142857142857 and parameters: {'n_estimators': 85, 'max_depth': 6, 'criterion': 'gini'}. Best is trial 74 with value: 0.7610389610389611.\u001b[0m\n"
     ]
    },
    {
     "name": "stdout",
     "output_type": "stream",
     "text": [
      "train accuracy:0.9873271889400922\n",
      "test accuracy:0.9124423963133641\n",
      "For Split 0\n",
      "train accuracy:0.9735023041474654\n",
      "test accuracy:0.9170506912442397\n",
      "For Split 1\n",
      "train accuracy:0.9758064516129032\n",
      "test accuracy:0.8709677419354839\n",
      "For Split 2\n",
      "train accuracy:0.978110599078341\n",
      "test accuracy:0.880184331797235\n",
      "For Split 3\n",
      "train accuracy:0.9792626728110599\n",
      "test accuracy:0.8525345622119815\n",
      "For Split 4\n"
     ]
    },
    {
     "name": "stderr",
     "output_type": "stream",
     "text": [
      "\u001b[32m[I 2022-12-04 08:43:29,664]\u001b[0m Trial 86 finished with value: 0.7376623376623377 and parameters: {'n_estimators': 71, 'max_depth': 5, 'criterion': 'gini'}. Best is trial 74 with value: 0.7610389610389611.\u001b[0m\n"
     ]
    },
    {
     "name": "stdout",
     "output_type": "stream",
     "text": [
      "train accuracy:0.9723502304147466\n",
      "test accuracy:0.9124423963133641\n",
      "For Split 0\n",
      "train accuracy:0.9447004608294931\n",
      "test accuracy:0.9170506912442397\n",
      "For Split 1\n",
      "train accuracy:0.956221198156682\n",
      "test accuracy:0.8755760368663594\n",
      "For Split 2\n",
      "train accuracy:0.9539170506912442\n",
      "test accuracy:0.8894009216589862\n",
      "For Split 3\n",
      "train accuracy:0.9493087557603687\n",
      "test accuracy:0.8571428571428571\n",
      "For Split 4\n"
     ]
    },
    {
     "name": "stderr",
     "output_type": "stream",
     "text": [
      "\u001b[32m[I 2022-12-04 08:43:32,816]\u001b[0m Trial 87 finished with value: 0.6761904761904762 and parameters: {'n_estimators': 93, 'max_depth': 4, 'criterion': 'gini'}. Best is trial 74 with value: 0.7610389610389611.\u001b[0m\n"
     ]
    },
    {
     "name": "stdout",
     "output_type": "stream",
     "text": [
      "train accuracy:0.9550691244239631\n",
      "test accuracy:0.9124423963133641\n",
      "For Split 0\n",
      "train accuracy:0.9769585253456221\n",
      "test accuracy:0.9078341013824884\n",
      "For Split 1\n",
      "train accuracy:0.9746543778801844\n",
      "test accuracy:0.8709677419354839\n",
      "For Split 2\n",
      "train accuracy:0.978110599078341\n",
      "test accuracy:0.8755760368663594\n",
      "For Split 3\n",
      "train accuracy:0.978110599078341\n",
      "test accuracy:0.8617511520737328\n",
      "For Split 4\n"
     ]
    },
    {
     "name": "stderr",
     "output_type": "stream",
     "text": [
      "\u001b[32m[I 2022-12-04 08:43:36,812]\u001b[0m Trial 88 finished with value: 0.7333333333333333 and parameters: {'n_estimators': 97, 'max_depth': 5, 'criterion': 'gini'}. Best is trial 74 with value: 0.7610389610389611.\u001b[0m\n"
     ]
    },
    {
     "name": "stdout",
     "output_type": "stream",
     "text": [
      "train accuracy:0.9758064516129032\n",
      "test accuracy:0.9124423963133641\n",
      "For Split 0\n",
      "train accuracy:0.9746543778801844\n",
      "test accuracy:0.9078341013824884\n",
      "For Split 1\n",
      "train accuracy:0.9735023041474654\n",
      "test accuracy:0.8663594470046083\n",
      "For Split 2\n",
      "train accuracy:0.978110599078341\n",
      "test accuracy:0.880184331797235\n",
      "For Split 3\n",
      "train accuracy:0.9758064516129032\n",
      "test accuracy:0.8525345622119815\n",
      "For Split 4\n"
     ]
    },
    {
     "name": "stderr",
     "output_type": "stream",
     "text": [
      "\u001b[32m[I 2022-12-04 08:43:40,212]\u001b[0m Trial 89 finished with value: 0.7428571428571429 and parameters: {'n_estimators': 86, 'max_depth': 5, 'criterion': 'gini'}. Best is trial 74 with value: 0.7610389610389611.\u001b[0m\n"
     ]
    },
    {
     "name": "stdout",
     "output_type": "stream",
     "text": [
      "train accuracy:0.9711981566820277\n",
      "test accuracy:0.9170506912442397\n",
      "For Split 0\n",
      "train accuracy:0.9723502304147466\n",
      "test accuracy:0.9170506912442397\n",
      "For Split 1\n",
      "train accuracy:0.978110599078341\n",
      "test accuracy:0.8755760368663594\n",
      "For Split 2\n",
      "train accuracy:0.9769585253456221\n",
      "test accuracy:0.8709677419354839\n",
      "For Split 3\n",
      "train accuracy:0.966589861751152\n",
      "test accuracy:0.8663594470046083\n",
      "For Split 4\n"
     ]
    },
    {
     "name": "stderr",
     "output_type": "stream",
     "text": [
      "\u001b[32m[I 2022-12-04 08:43:44,902]\u001b[0m Trial 90 finished with value: 0.6536796536796536 and parameters: {'n_estimators': 101, 'max_depth': 5, 'criterion': 'entropy'}. Best is trial 74 with value: 0.7610389610389611.\u001b[0m\n"
     ]
    },
    {
     "name": "stdout",
     "output_type": "stream",
     "text": [
      "train accuracy:0.9711981566820277\n",
      "test accuracy:0.9078341013824884\n",
      "For Split 0\n",
      "train accuracy:0.9746543778801844\n",
      "test accuracy:0.9170506912442397\n",
      "For Split 1\n",
      "train accuracy:0.9769585253456221\n",
      "test accuracy:0.8663594470046083\n",
      "For Split 2\n",
      "train accuracy:0.978110599078341\n",
      "test accuracy:0.880184331797235\n",
      "For Split 3\n",
      "train accuracy:0.9792626728110599\n",
      "test accuracy:0.8571428571428571\n",
      "For Split 4\n"
     ]
    },
    {
     "name": "stderr",
     "output_type": "stream",
     "text": [
      "\u001b[32m[I 2022-12-04 08:43:48,242]\u001b[0m Trial 91 finished with value: 0.7419913419913421 and parameters: {'n_estimators': 80, 'max_depth': 5, 'criterion': 'gini'}. Best is trial 74 with value: 0.7610389610389611.\u001b[0m\n"
     ]
    },
    {
     "name": "stdout",
     "output_type": "stream",
     "text": [
      "train accuracy:0.9711981566820277\n",
      "test accuracy:0.9170506912442397\n",
      "For Split 0\n",
      "train accuracy:0.9758064516129032\n",
      "test accuracy:0.9124423963133641\n",
      "For Split 1\n",
      "train accuracy:0.9769585253456221\n",
      "test accuracy:0.8617511520737328\n",
      "For Split 2\n",
      "train accuracy:0.9769585253456221\n",
      "test accuracy:0.880184331797235\n",
      "For Split 3\n",
      "train accuracy:0.9758064516129032\n",
      "test accuracy:0.8617511520737328\n",
      "For Split 4\n"
     ]
    },
    {
     "name": "stderr",
     "output_type": "stream",
     "text": [
      "\u001b[32m[I 2022-12-04 08:43:51,439]\u001b[0m Trial 92 finished with value: 0.748917748917749 and parameters: {'n_estimators': 81, 'max_depth': 5, 'criterion': 'gini'}. Best is trial 74 with value: 0.7610389610389611.\u001b[0m\n"
     ]
    },
    {
     "name": "stdout",
     "output_type": "stream",
     "text": [
      "train accuracy:0.9746543778801844\n",
      "test accuracy:0.9170506912442397\n",
      "For Split 0\n",
      "train accuracy:0.967741935483871\n",
      "test accuracy:0.9308755760368663\n",
      "For Split 1\n",
      "train accuracy:0.9700460829493087\n",
      "test accuracy:0.880184331797235\n",
      "For Split 2\n",
      "train accuracy:0.9642857142857143\n",
      "test accuracy:0.8755760368663594\n",
      "For Split 3\n"
     ]
    },
    {
     "name": "stderr",
     "output_type": "stream",
     "text": [
      "\u001b[32m[I 2022-12-04 08:43:52,234]\u001b[0m Trial 93 finished with value: 0.5307359307359307 and parameters: {'n_estimators': 18, 'max_depth': 5, 'criterion': 'gini'}. Best is trial 74 with value: 0.7610389610389611.\u001b[0m\n"
     ]
    },
    {
     "name": "stdout",
     "output_type": "stream",
     "text": [
      "train accuracy:0.9631336405529954\n",
      "test accuracy:0.8663594470046083\n",
      "For Split 4\n",
      "train accuracy:0.9619815668202765\n",
      "test accuracy:0.8986175115207373\n",
      "For Split 0\n",
      "train accuracy:0.9735023041474654\n",
      "test accuracy:0.9170506912442397\n",
      "For Split 1\n",
      "train accuracy:0.9758064516129032\n",
      "test accuracy:0.8663594470046083\n",
      "For Split 2\n",
      "train accuracy:0.9769585253456221\n",
      "test accuracy:0.880184331797235\n",
      "For Split 3\n",
      "train accuracy:0.9769585253456221\n",
      "test accuracy:0.8525345622119815\n",
      "For Split 4\n"
     ]
    },
    {
     "name": "stderr",
     "output_type": "stream",
     "text": [
      "\u001b[32m[I 2022-12-04 08:43:55,634]\u001b[0m Trial 94 finished with value: 0.7393939393939395 and parameters: {'n_estimators': 74, 'max_depth': 5, 'criterion': 'gini'}. Best is trial 74 with value: 0.7610389610389611.\u001b[0m\n"
     ]
    },
    {
     "name": "stdout",
     "output_type": "stream",
     "text": [
      "train accuracy:0.9711981566820277\n",
      "test accuracy:0.9124423963133641\n",
      "For Split 0\n",
      "train accuracy:0.9758064516129032\n",
      "test accuracy:0.9032258064516129\n",
      "For Split 1\n",
      "train accuracy:0.978110599078341\n",
      "test accuracy:0.880184331797235\n",
      "For Split 2\n",
      "train accuracy:0.9758064516129032\n",
      "test accuracy:0.8755760368663594\n",
      "For Split 3\n",
      "train accuracy:0.9758064516129032\n",
      "test accuracy:0.8571428571428571\n",
      "For Split 4\n"
     ]
    },
    {
     "name": "stderr",
     "output_type": "stream",
     "text": [
      "\u001b[32m[I 2022-12-04 08:43:59,392]\u001b[0m Trial 95 finished with value: 0.754978354978355 and parameters: {'n_estimators': 92, 'max_depth': 5, 'criterion': 'gini'}. Best is trial 74 with value: 0.7610389610389611.\u001b[0m\n"
     ]
    },
    {
     "name": "stdout",
     "output_type": "stream",
     "text": [
      "train accuracy:0.9746543778801844\n",
      "test accuracy:0.9124423963133641\n",
      "For Split 0\n",
      "train accuracy:0.9735023041474654\n",
      "test accuracy:0.9032258064516129\n",
      "For Split 1\n",
      "train accuracy:0.9758064516129032\n",
      "test accuracy:0.8847926267281107\n",
      "For Split 2\n",
      "train accuracy:0.9758064516129032\n",
      "test accuracy:0.8755760368663594\n",
      "For Split 3\n",
      "train accuracy:0.9769585253456221\n",
      "test accuracy:0.8571428571428571\n",
      "For Split 4\n"
     ]
    },
    {
     "name": "stderr",
     "output_type": "stream",
     "text": [
      "\u001b[32m[I 2022-12-04 08:44:02,924]\u001b[0m Trial 96 finished with value: 0.7558441558441558 and parameters: {'n_estimators': 91, 'max_depth': 5, 'criterion': 'gini'}. Best is trial 74 with value: 0.7610389610389611.\u001b[0m\n"
     ]
    },
    {
     "name": "stdout",
     "output_type": "stream",
     "text": [
      "train accuracy:0.9746543778801844\n",
      "test accuracy:0.9124423963133641\n",
      "For Split 0\n",
      "train accuracy:0.8928571428571429\n",
      "test accuracy:0.880184331797235\n",
      "For Split 1\n",
      "train accuracy:0.9009216589861752\n",
      "test accuracy:0.847926267281106\n",
      "For Split 2\n",
      "train accuracy:0.8951612903225806\n",
      "test accuracy:0.847926267281106\n",
      "For Split 3\n",
      "train accuracy:0.8986175115207373\n",
      "test accuracy:0.8433179723502304\n",
      "For Split 4\n"
     ]
    },
    {
     "name": "stderr",
     "output_type": "stream",
     "text": [
      "\u001b[32m[I 2022-12-04 08:44:04,966]\u001b[0m Trial 97 finished with value: 0.5376623376623377 and parameters: {'n_estimators': 91, 'max_depth': 2, 'criterion': 'gini'}. Best is trial 74 with value: 0.7610389610389611.\u001b[0m\n"
     ]
    },
    {
     "name": "stdout",
     "output_type": "stream",
     "text": [
      "train accuracy:0.8928571428571429\n",
      "test accuracy:0.8940092165898618\n",
      "For Split 0\n",
      "train accuracy:0.9735023041474654\n",
      "test accuracy:0.9124423963133641\n",
      "For Split 1\n",
      "train accuracy:0.9758064516129032\n",
      "test accuracy:0.8709677419354839\n",
      "For Split 2\n",
      "train accuracy:0.978110599078341\n",
      "test accuracy:0.880184331797235\n",
      "For Split 3\n",
      "train accuracy:0.9769585253456221\n",
      "test accuracy:0.8617511520737328\n",
      "For Split 4\n"
     ]
    },
    {
     "name": "stderr",
     "output_type": "stream",
     "text": [
      "\u001b[32m[I 2022-12-04 08:44:08,517]\u001b[0m Trial 98 finished with value: 0.7541125541125541 and parameters: {'n_estimators': 87, 'max_depth': 5, 'criterion': 'gini'}. Best is trial 74 with value: 0.7610389610389611.\u001b[0m\n"
     ]
    },
    {
     "name": "stdout",
     "output_type": "stream",
     "text": [
      "train accuracy:0.9723502304147466\n",
      "test accuracy:0.9170506912442397\n",
      "For Split 0\n",
      "train accuracy:0.9447004608294931\n",
      "test accuracy:0.9170506912442397\n",
      "For Split 1\n",
      "train accuracy:0.9550691244239631\n",
      "test accuracy:0.8709677419354839\n",
      "For Split 2\n",
      "train accuracy:0.9527649769585254\n",
      "test accuracy:0.8894009216589862\n",
      "For Split 3\n",
      "train accuracy:0.9516129032258065\n",
      "test accuracy:0.8617511520737328\n",
      "For Split 4\n"
     ]
    },
    {
     "name": "stderr",
     "output_type": "stream",
     "text": [
      "\u001b[32m[I 2022-12-04 08:44:11,875]\u001b[0m Trial 99 finished with value: 0.6692640692640692 and parameters: {'n_estimators': 94, 'max_depth': 4, 'criterion': 'gini'}. Best is trial 74 with value: 0.7610389610389611.\u001b[0m\n"
     ]
    },
    {
     "name": "stdout",
     "output_type": "stream",
     "text": [
      "train accuracy:0.9550691244239631\n",
      "test accuracy:0.9124423963133641\n"
     ]
    }
   ],
   "source": [
    "study = optuna.create_study(direction='maximize',sampler=TPESampler(), study_name='Random_forset_optuna')\n",
    "study.optimize(objective, n_trials = 100)"
   ]
  },
  {
   "cell_type": "code",
   "execution_count": 20,
   "id": "fd5fa632",
   "metadata": {
    "execution": {
     "iopub.execute_input": "2022-12-04T08:44:11.963960Z",
     "iopub.status.busy": "2022-12-04T08:44:11.963674Z",
     "iopub.status.idle": "2022-12-04T08:44:11.979804Z",
     "shell.execute_reply": "2022-12-04T08:44:11.978918Z"
    },
    "papermill": {
     "duration": 0.056917,
     "end_time": "2022-12-04T08:44:11.981890",
     "exception": false,
     "start_time": "2022-12-04T08:44:11.924973",
     "status": "completed"
    },
    "tags": []
   },
   "outputs": [
    {
     "name": "stdout",
     "output_type": "stream",
     "text": [
      "Number of trails : 100\n",
      "Best parameters :\n",
      "{'n_estimators': 93, 'max_depth': 5, 'criterion': 'gini'}\n"
     ]
    }
   ],
   "source": [
    "print(\"Number of trails : {}\".format(len(study.trials)))\n",
    "print(\"Best parameters :\")\n",
    "print(study.best_params)\n",
    "params = study.best_params"
   ]
  },
  {
   "cell_type": "code",
   "execution_count": 21,
   "id": "72310806",
   "metadata": {
    "execution": {
     "iopub.execute_input": "2022-12-04T08:44:12.058628Z",
     "iopub.status.busy": "2022-12-04T08:44:12.058320Z",
     "iopub.status.idle": "2022-12-04T08:44:15.733810Z",
     "shell.execute_reply": "2022-12-04T08:44:15.732439Z"
    },
    "papermill": {
     "duration": 3.718485,
     "end_time": "2022-12-04T08:44:15.737624",
     "exception": false,
     "start_time": "2022-12-04T08:44:12.019139",
     "status": "completed"
    },
    "tags": []
   },
   "outputs": [
    {
     "name": "stdout",
     "output_type": "stream",
     "text": [
      "For Split 1\n",
      "train accuracy:0.9723502304147466\n",
      "test accuracy:0.8847926267281107\n",
      "For Split 2\n",
      "train accuracy:0.9758064516129032\n",
      "test accuracy:0.9032258064516129\n",
      "For Split 3\n",
      "train accuracy:0.9792626728110599\n",
      "test accuracy:0.8571428571428571\n",
      "For Split 4\n",
      "train accuracy:0.9804147465437788\n",
      "test accuracy:0.8940092165898618\n",
      "For Split 5\n",
      "train accuracy:0.9804147465437788\n",
      "test accuracy:0.8940092165898618\n",
      "0.8194285714285714\n",
      "0.6311688311688312\n",
      "0.9387835646803975\n",
      "0.7538903725933966\n"
     ]
    }
   ],
   "source": [
    "preds = []\n",
    "acc = 0\n",
    "prc = 0 \n",
    "rcf = 0 \n",
    "f1s = 0 \n",
    "fold = StratifiedKFold(n_splits=5,shuffle=True,random_state=42)\n",
    "i = 1\n",
    "for train_id,test_id in fold.split(frature_extractor,train_labels):\n",
    "        #training and testing data\n",
    "        print(\"For Split {}\".format(i))\n",
    "        xtrain ,xtest = frature_extractor[train_id],frature_extractor[test_id]\n",
    "        ytrain,ytest = train_labels[train_id],train_labels[test_id]\n",
    "        rc = RandomForestClassifier(**params)\n",
    "        rc.fit(xtrain,ytrain)\n",
    "        y_pred = rc.predict(xtrain)\n",
    "        print(\"train accuracy:{}\".format(accuracy_score(ytrain,y_pred)))\n",
    "        y_pred = rc.predict(xtest)\n",
    "        print(\"test accuracy:{}\".format(accuracy_score(ytest,y_pred)))\n",
    "        y_pred = rc.predict(frature_extractor_test)\n",
    "        preds.append(y_pred)\n",
    "        acc+=(accuracy_score(y_pred,test_labels))\n",
    "        prc+=(precision_score(y_pred,test_labels))\n",
    "        rcf+=(recall_score(y_pred,test_labels))\n",
    "        f1s+=(f1_score(y_pred,test_labels))\n",
    "        i+=1\n",
    "preds = np.mean(np.column_stack(preds), axis=1)\n",
    "new_preds = []\n",
    "for x in preds:\n",
    "    if x>=0.:\n",
    "        new_preds.append(1)\n",
    "    else:\n",
    "        new_preds.append(0)\n",
    "print(acc/5)\n",
    "print(prc/5)\n",
    "print(rcf/5)\n",
    "print(f1s/5)"
   ]
  },
  {
   "cell_type": "code",
   "execution_count": null,
   "id": "ef0c7e84",
   "metadata": {
    "papermill": {
     "duration": 0.039122,
     "end_time": "2022-12-04T08:44:15.817504",
     "exception": false,
     "start_time": "2022-12-04T08:44:15.778382",
     "status": "completed"
    },
    "tags": []
   },
   "outputs": [],
   "source": []
  }
 ],
 "metadata": {
  "kernelspec": {
   "display_name": "Python 3",
   "language": "python",
   "name": "python3"
  },
  "language_info": {
   "codemirror_mode": {
    "name": "ipython",
    "version": 3
   },
   "file_extension": ".py",
   "mimetype": "text/x-python",
   "name": "python",
   "nbconvert_exporter": "python",
   "pygments_lexer": "ipython3",
   "version": "3.7.12"
  },
  "papermill": {
   "default_parameters": {},
   "duration": 394.474836,
   "end_time": "2022-12-04T08:44:19.563004",
   "environment_variables": {},
   "exception": null,
   "input_path": "__notebook__.ipynb",
   "output_path": "__notebook__.ipynb",
   "parameters": {},
   "start_time": "2022-12-04T08:37:45.088168",
   "version": "2.3.4"
  }
 },
 "nbformat": 4,
 "nbformat_minor": 5
}
