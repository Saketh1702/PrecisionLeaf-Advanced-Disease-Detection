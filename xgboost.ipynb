{
 "cells": [
  {
   "cell_type": "code",
   "execution_count": 1,
   "id": "ef68ad0f",
   "metadata": {
    "_cell_guid": "b1076dfc-b9ad-4769-8c92-a6c4dae69d19",
    "_uuid": "8f2839f25d086af736a60e9eeb907d3b93b6e0e5",
    "execution": {
     "iopub.execute_input": "2022-12-03T10:33:51.464575Z",
     "iopub.status.busy": "2022-12-03T10:33:51.464007Z",
     "iopub.status.idle": "2022-12-03T10:33:56.487800Z",
     "shell.execute_reply": "2022-12-03T10:33:56.486801Z"
    },
    "papermill": {
     "duration": 5.036687,
     "end_time": "2022-12-03T10:33:56.490320",
     "exception": false,
     "start_time": "2022-12-03T10:33:51.453633",
     "status": "completed"
    },
    "tags": []
   },
   "outputs": [],
   "source": [
    "import numpy as np\n",
    "from glob import glob\n",
    "from PIL import Image\n",
    "import matplotlib.pyplot as plt\n",
    "from tensorflow.keras.models import Model\n",
    "from tensorflow.keras.models import Sequential\n",
    "from tensorflow.keras.models import load_model\n",
    "from tensorflow.keras.layers import MaxPooling2D\n",
    "from tensorflow.keras.preprocessing import image\n",
    "from tensorflow.keras.applications.vgg19 import VGG19\n",
    "from tensorflow.keras.applications.resnet50 import preprocess_input\n",
    "from tensorflow.keras.layers import Input, Lambda, Dense, Flatten,Conv2D\n",
    "from tensorflow.keras.preprocessing.image import ImageDataGenerator,load_img\n",
    "import warnings\n",
    "warnings.filterwarnings(\"ignore\")"
   ]
  },
  {
   "cell_type": "code",
   "execution_count": 2,
   "id": "cb64a9a6",
   "metadata": {
    "execution": {
     "iopub.execute_input": "2022-12-03T10:33:56.502263Z",
     "iopub.status.busy": "2022-12-03T10:33:56.501705Z",
     "iopub.status.idle": "2022-12-03T10:33:56.506666Z",
     "shell.execute_reply": "2022-12-03T10:33:56.505507Z"
    },
    "papermill": {
     "duration": 0.013343,
     "end_time": "2022-12-03T10:33:56.509150",
     "exception": false,
     "start_time": "2022-12-03T10:33:56.495807",
     "status": "completed"
    },
    "tags": []
   },
   "outputs": [],
   "source": [
    "# re-size all the images to this\n",
    "IMAGE_SIZE = [256, 256]\n",
    "\n",
    "train_path = '/kaggle/input/final-year-2/Data/train_f_images'\n",
    "valid_path = '/kaggle/input/final-year-2/Data/train_images'"
   ]
  },
  {
   "cell_type": "code",
   "execution_count": 3,
   "id": "ab925af3",
   "metadata": {
    "execution": {
     "iopub.execute_input": "2022-12-03T10:33:56.520618Z",
     "iopub.status.busy": "2022-12-03T10:33:56.519177Z",
     "iopub.status.idle": "2022-12-03T10:34:04.908175Z",
     "shell.execute_reply": "2022-12-03T10:34:04.906886Z"
    },
    "papermill": {
     "duration": 8.399628,
     "end_time": "2022-12-03T10:34:04.913284",
     "exception": false,
     "start_time": "2022-12-03T10:33:56.513656",
     "status": "completed"
    },
    "tags": []
   },
   "outputs": [
    {
     "name": "stderr",
     "output_type": "stream",
     "text": [
      "2022-12-03 10:33:56.620202: I tensorflow/stream_executor/cuda/cuda_gpu_executor.cc:937] successful NUMA node read from SysFS had negative value (-1), but there must be at least one NUMA node, so returning NUMA node zero\n",
      "2022-12-03 10:33:56.711258: I tensorflow/stream_executor/cuda/cuda_gpu_executor.cc:937] successful NUMA node read from SysFS had negative value (-1), but there must be at least one NUMA node, so returning NUMA node zero\n",
      "2022-12-03 10:33:56.712159: I tensorflow/stream_executor/cuda/cuda_gpu_executor.cc:937] successful NUMA node read from SysFS had negative value (-1), but there must be at least one NUMA node, so returning NUMA node zero\n",
      "2022-12-03 10:33:56.713943: I tensorflow/core/platform/cpu_feature_guard.cc:142] This TensorFlow binary is optimized with oneAPI Deep Neural Network Library (oneDNN) to use the following CPU instructions in performance-critical operations:  AVX2 AVX512F FMA\n",
      "To enable them in other operations, rebuild TensorFlow with the appropriate compiler flags.\n",
      "2022-12-03 10:33:56.718539: I tensorflow/stream_executor/cuda/cuda_gpu_executor.cc:937] successful NUMA node read from SysFS had negative value (-1), but there must be at least one NUMA node, so returning NUMA node zero\n",
      "2022-12-03 10:33:56.719319: I tensorflow/stream_executor/cuda/cuda_gpu_executor.cc:937] successful NUMA node read from SysFS had negative value (-1), but there must be at least one NUMA node, so returning NUMA node zero\n",
      "2022-12-03 10:33:56.720007: I tensorflow/stream_executor/cuda/cuda_gpu_executor.cc:937] successful NUMA node read from SysFS had negative value (-1), but there must be at least one NUMA node, so returning NUMA node zero\n",
      "2022-12-03 10:33:58.952082: I tensorflow/stream_executor/cuda/cuda_gpu_executor.cc:937] successful NUMA node read from SysFS had negative value (-1), but there must be at least one NUMA node, so returning NUMA node zero\n",
      "2022-12-03 10:33:58.952980: I tensorflow/stream_executor/cuda/cuda_gpu_executor.cc:937] successful NUMA node read from SysFS had negative value (-1), but there must be at least one NUMA node, so returning NUMA node zero\n",
      "2022-12-03 10:33:58.953819: I tensorflow/stream_executor/cuda/cuda_gpu_executor.cc:937] successful NUMA node read from SysFS had negative value (-1), but there must be at least one NUMA node, so returning NUMA node zero\n",
      "2022-12-03 10:33:58.954483: I tensorflow/core/common_runtime/gpu/gpu_device.cc:1510] Created device /job:localhost/replica:0/task:0/device:GPU:0 with 15401 MB memory:  -> device: 0, name: Tesla P100-PCIE-16GB, pci bus id: 0000:00:04.0, compute capability: 6.0\n"
     ]
    },
    {
     "name": "stdout",
     "output_type": "stream",
     "text": [
      "Downloading data from https://storage.googleapis.com/tensorflow/keras-applications/vgg16/vgg16_weights_tf_dim_ordering_tf_kernels_notop.h5\n",
      "58892288/58889256 [==============================] - 0s 0us/step\n",
      "58900480/58889256 [==============================] - 0s 0us/step\n",
      "Downloading data from https://storage.googleapis.com/tensorflow/keras-applications/vgg16/vgg16_weights_tf_dim_ordering_tf_kernels.h5\n",
      "553467904/553467096 [==============================] - 3s 0us/step\n",
      "553476096/553467096 [==============================] - 3s 0us/step\n"
     ]
    }
   ],
   "source": [
    "from keras.applications.vgg16 import VGG16\n",
    "SIZE = 224\n",
    "\n",
    "VGG = VGG16(weights='imagenet', include_top=False, input_shape=(SIZE, SIZE, 3))\n",
    "VGG_fc = VGG16(weights='imagenet', include_top=True, input_shape=(SIZE, SIZE, 3))\n",
    "\n",
    "VGG_model = Sequential()\n",
    "VGG_model_fc = Sequential()\n",
    "\n",
    "for layer in VGG.layers:\n",
    "    VGG_model.add(layer) \n",
    "    \n",
    "for layer in VGG_fc.layers[:-1]:\n",
    "    VGG_model_fc.add(layer) \n",
    "    \n",
    "# Freeze the layers    \n",
    "for layer in VGG_model.layers:\n",
    "    layer.trainable=False\n",
    "    \n",
    "for layer in VGG_model_fc.layers:\n",
    "    layer.trainable=False"
   ]
  },
  {
   "cell_type": "code",
   "execution_count": 4,
   "id": "5ecc3b9f",
   "metadata": {
    "execution": {
     "iopub.execute_input": "2022-12-03T10:34:04.936959Z",
     "iopub.status.busy": "2022-12-03T10:34:04.936647Z",
     "iopub.status.idle": "2022-12-03T10:34:04.943788Z",
     "shell.execute_reply": "2022-12-03T10:34:04.942849Z"
    },
    "papermill": {
     "duration": 0.018358,
     "end_time": "2022-12-03T10:34:04.946011",
     "exception": false,
     "start_time": "2022-12-03T10:34:04.927653",
     "status": "completed"
    },
    "tags": []
   },
   "outputs": [
    {
     "name": "stdout",
     "output_type": "stream",
     "text": [
      "Model: \"sequential_1\"\n",
      "_________________________________________________________________\n",
      "Layer (type)                 Output Shape              Param #   \n",
      "=================================================================\n",
      "block1_conv1 (Conv2D)        (None, 224, 224, 64)      1792      \n",
      "_________________________________________________________________\n",
      "block1_conv2 (Conv2D)        (None, 224, 224, 64)      36928     \n",
      "_________________________________________________________________\n",
      "block1_pool (MaxPooling2D)   (None, 112, 112, 64)      0         \n",
      "_________________________________________________________________\n",
      "block2_conv1 (Conv2D)        (None, 112, 112, 128)     73856     \n",
      "_________________________________________________________________\n",
      "block2_conv2 (Conv2D)        (None, 112, 112, 128)     147584    \n",
      "_________________________________________________________________\n",
      "block2_pool (MaxPooling2D)   (None, 56, 56, 128)       0         \n",
      "_________________________________________________________________\n",
      "block3_conv1 (Conv2D)        (None, 56, 56, 256)       295168    \n",
      "_________________________________________________________________\n",
      "block3_conv2 (Conv2D)        (None, 56, 56, 256)       590080    \n",
      "_________________________________________________________________\n",
      "block3_conv3 (Conv2D)        (None, 56, 56, 256)       590080    \n",
      "_________________________________________________________________\n",
      "block3_pool (MaxPooling2D)   (None, 28, 28, 256)       0         \n",
      "_________________________________________________________________\n",
      "block4_conv1 (Conv2D)        (None, 28, 28, 512)       1180160   \n",
      "_________________________________________________________________\n",
      "block4_conv2 (Conv2D)        (None, 28, 28, 512)       2359808   \n",
      "_________________________________________________________________\n",
      "block4_conv3 (Conv2D)        (None, 28, 28, 512)       2359808   \n",
      "_________________________________________________________________\n",
      "block4_pool (MaxPooling2D)   (None, 14, 14, 512)       0         \n",
      "_________________________________________________________________\n",
      "block5_conv1 (Conv2D)        (None, 14, 14, 512)       2359808   \n",
      "_________________________________________________________________\n",
      "block5_conv2 (Conv2D)        (None, 14, 14, 512)       2359808   \n",
      "_________________________________________________________________\n",
      "block5_conv3 (Conv2D)        (None, 14, 14, 512)       2359808   \n",
      "_________________________________________________________________\n",
      "block5_pool (MaxPooling2D)   (None, 7, 7, 512)         0         \n",
      "_________________________________________________________________\n",
      "flatten (Flatten)            (None, 25088)             0         \n",
      "_________________________________________________________________\n",
      "fc1 (Dense)                  (None, 4096)              102764544 \n",
      "_________________________________________________________________\n",
      "fc2 (Dense)                  (None, 4096)              16781312  \n",
      "=================================================================\n",
      "Total params: 134,260,544\n",
      "Trainable params: 0\n",
      "Non-trainable params: 134,260,544\n",
      "_________________________________________________________________\n"
     ]
    }
   ],
   "source": [
    "VGG_model_fc.summary()"
   ]
  },
  {
   "cell_type": "code",
   "execution_count": 5,
   "id": "e305b06e",
   "metadata": {
    "execution": {
     "iopub.execute_input": "2022-12-03T10:34:04.962418Z",
     "iopub.status.busy": "2022-12-03T10:34:04.962146Z",
     "iopub.status.idle": "2022-12-03T10:34:10.636705Z",
     "shell.execute_reply": "2022-12-03T10:34:10.635689Z"
    },
    "papermill": {
     "duration": 5.685837,
     "end_time": "2022-12-03T10:34:10.639527",
     "exception": false,
     "start_time": "2022-12-03T10:34:04.953690",
     "status": "completed"
    },
    "tags": []
   },
   "outputs": [],
   "source": [
    "import os\n",
    "import cv2\n",
    "import glob\n",
    "#training and labes numpy array conversion\n",
    "train_images=[]\n",
    "train_labels=[]\n",
    "\n",
    "for file in os.listdir('/kaggle/input/final-year-2/Data/train_f_images/diseased'):\n",
    "    if file[0] == 'd':\n",
    "        train_labels.append('diseased')\n",
    "    else:\n",
    "        train_labels.append('healthy')\n",
    "    img=cv2.imread(os.path.join('/kaggle/input/final-year-2/Data/train_f_images/diseased',file))\n",
    "    img=cv2.resize(img, (SIZE,SIZE))\n",
    "    train_images.append(img)\n",
    "    \n",
    "for file in os.listdir('/kaggle/input/final-year-2/Data/train_f_images/healthy'):\n",
    "    if file[0] == 'd':\n",
    "        train_labels.append('diseased')\n",
    "    else:\n",
    "        train_labels.append('healthy')\n",
    "    img=cv2.imread(os.path.join('/kaggle/input/final-year-2/Data/train_f_images/healthy',file))\n",
    "    img=cv2.resize(img, (SIZE,SIZE))\n",
    "    train_images.append(img)\n",
    "\n",
    "    \n",
    "train_images=np.array(train_images)\n",
    "train_labels=np.array(train_labels)"
   ]
  },
  {
   "cell_type": "code",
   "execution_count": 6,
   "id": "9e8149e1",
   "metadata": {
    "execution": {
     "iopub.execute_input": "2022-12-03T10:34:10.656627Z",
     "iopub.status.busy": "2022-12-03T10:34:10.656313Z",
     "iopub.status.idle": "2022-12-03T10:34:13.475284Z",
     "shell.execute_reply": "2022-12-03T10:34:13.474272Z"
    },
    "papermill": {
     "duration": 2.830201,
     "end_time": "2022-12-03T10:34:13.477719",
     "exception": false,
     "start_time": "2022-12-03T10:34:10.647518",
     "status": "completed"
    },
    "tags": []
   },
   "outputs": [],
   "source": [
    "#training and labes numpy array conversion\n",
    "test_images=[]\n",
    "test_labels=[]\n",
    "\n",
    "for file in os.listdir('/kaggle/input/final-year-2/Data/test_images/diseased'):\n",
    "    if file[0] == 'd':\n",
    "        test_labels.append('diseased')\n",
    "    else:\n",
    "        test_labels.append('healthy')\n",
    "    img=cv2.imread(os.path.join('/kaggle/input/final-year-2/Data/test_images/diseased',file))\n",
    "    img=cv2.resize(img, (SIZE,SIZE))\n",
    "    test_images.append(img)\n",
    "    \n",
    "for file in os.listdir('/kaggle/input/final-year-2/Data/test_images/healthy'):\n",
    "    if file[0] == 'd':\n",
    "        test_labels.append('diseased')\n",
    "    else:\n",
    "        test_labels.append('healthy')\n",
    "    img=cv2.imread(os.path.join('/kaggle/input/final-year-2/Data/test_images/healthy',file))\n",
    "    img=cv2.resize(img, (SIZE,SIZE))\n",
    "    test_images.append(img)\n",
    "\n",
    "    \n",
    "test_images=np.array(test_images)\n",
    "test_labels=np.array(test_labels)"
   ]
  },
  {
   "cell_type": "code",
   "execution_count": 7,
   "id": "3e539fef",
   "metadata": {
    "execution": {
     "iopub.execute_input": "2022-12-03T10:34:13.495089Z",
     "iopub.status.busy": "2022-12-03T10:34:13.494784Z",
     "iopub.status.idle": "2022-12-03T10:34:34.506127Z",
     "shell.execute_reply": "2022-12-03T10:34:34.505029Z"
    },
    "papermill": {
     "duration": 21.022746,
     "end_time": "2022-12-03T10:34:34.508648",
     "exception": false,
     "start_time": "2022-12-03T10:34:13.485902",
     "status": "completed"
    },
    "tags": []
   },
   "outputs": [
    {
     "name": "stderr",
     "output_type": "stream",
     "text": [
      "2022-12-03 10:34:13.862382: I tensorflow/compiler/mlir/mlir_graph_optimization_pass.cc:185] None of the MLIR Optimization Passes are enabled (registered 2)\n",
      "2022-12-03 10:34:14.933822: I tensorflow/stream_executor/cuda/cuda_dnn.cc:369] Loaded cuDNN version 8005\n"
     ]
    }
   ],
   "source": [
    "frature_extractor=VGG_model_fc.predict(train_images)"
   ]
  },
  {
   "cell_type": "code",
   "execution_count": 8,
   "id": "b3b170ea",
   "metadata": {
    "execution": {
     "iopub.execute_input": "2022-12-03T10:34:34.527379Z",
     "iopub.status.busy": "2022-12-03T10:34:34.525873Z",
     "iopub.status.idle": "2022-12-03T10:34:37.503656Z",
     "shell.execute_reply": "2022-12-03T10:34:37.502544Z"
    },
    "papermill": {
     "duration": 2.989338,
     "end_time": "2022-12-03T10:34:37.506323",
     "exception": false,
     "start_time": "2022-12-03T10:34:34.516985",
     "status": "completed"
    },
    "tags": []
   },
   "outputs": [],
   "source": [
    "from sklearn import preprocessing\n",
    "from sklearn.metrics import confusion_matrix, accuracy_score,classification_report,plot_confusion_matrix\n",
    "import keras.utils\n",
    "from tensorflow.keras.utils import to_categorical\n",
    "label_encoder = preprocessing.LabelEncoder()\n",
    "label_encoder.fit(train_labels)\n",
    "train_labels=label_encoder.transform(train_labels)\n",
    "frature_extractor_test=VGG_model_fc.predict(test_images)\n",
    "test_labels=label_encoder.transform(test_labels)"
   ]
  },
  {
   "cell_type": "code",
   "execution_count": 9,
   "id": "16ca09e9",
   "metadata": {
    "execution": {
     "iopub.execute_input": "2022-12-03T10:34:37.532262Z",
     "iopub.status.busy": "2022-12-03T10:34:37.531895Z",
     "iopub.status.idle": "2022-12-03T10:34:37.674414Z",
     "shell.execute_reply": "2022-12-03T10:34:37.673318Z"
    },
    "papermill": {
     "duration": 0.157004,
     "end_time": "2022-12-03T10:34:37.676520",
     "exception": false,
     "start_time": "2022-12-03T10:34:37.519516",
     "status": "completed"
    },
    "tags": []
   },
   "outputs": [
    {
     "name": "stdout",
     "output_type": "stream",
     "text": [
      "train accuracy:0.8506912442396314\n",
      "accuracy:0.7276190476190476\n"
     ]
    }
   ],
   "source": [
    "from sklearn.naive_bayes import GaussianNB\n",
    "gb = GaussianNB()\n",
    "gb.fit(frature_extractor,train_labels)\n",
    "y_pred = gb.predict(frature_extractor)\n",
    "print(\"train accuracy:{}\".format(accuracy_score(train_labels,y_pred)))\n",
    "y_pred = gb.predict(frature_extractor_test)\n",
    "print(\"accuracy:{}\".format(accuracy_score(test_labels,y_pred)))"
   ]
  },
  {
   "cell_type": "code",
   "execution_count": 10,
   "id": "0cfe5ca1",
   "metadata": {
    "execution": {
     "iopub.execute_input": "2022-12-03T10:34:37.700309Z",
     "iopub.status.busy": "2022-12-03T10:34:37.699923Z",
     "iopub.status.idle": "2022-12-03T10:34:39.650941Z",
     "shell.execute_reply": "2022-12-03T10:34:39.649134Z"
    },
    "papermill": {
     "duration": 1.965954,
     "end_time": "2022-12-03T10:34:39.653243",
     "exception": false,
     "start_time": "2022-12-03T10:34:37.687289",
     "status": "completed"
    },
    "tags": []
   },
   "outputs": [
    {
     "name": "stdout",
     "output_type": "stream",
     "text": [
      "train accuracy:1.0\n",
      "accuracy:0.6780952380952381\n"
     ]
    }
   ],
   "source": [
    "from sklearn.tree import DecisionTreeClassifier\n",
    "dc = DecisionTreeClassifier()\n",
    "dc.fit(frature_extractor,train_labels)\n",
    "y_pred = dc.predict(frature_extractor)\n",
    "print(\"train accuracy:{}\".format(accuracy_score(train_labels,y_pred)))\n",
    "y_pred = dc.predict(frature_extractor_test)\n",
    "print(\"accuracy:{}\".format(accuracy_score(test_labels,y_pred)))"
   ]
  },
  {
   "cell_type": "code",
   "execution_count": 11,
   "id": "a23709ec",
   "metadata": {
    "execution": {
     "iopub.execute_input": "2022-12-03T10:34:39.671647Z",
     "iopub.status.busy": "2022-12-03T10:34:39.671312Z",
     "iopub.status.idle": "2022-12-03T10:34:40.528768Z",
     "shell.execute_reply": "2022-12-03T10:34:40.526913Z"
    },
    "papermill": {
     "duration": 0.869355,
     "end_time": "2022-12-03T10:34:40.531035",
     "exception": false,
     "start_time": "2022-12-03T10:34:39.661680",
     "status": "completed"
    },
    "tags": []
   },
   "outputs": [
    {
     "name": "stdout",
     "output_type": "stream",
     "text": [
      "train accuracy:1.0\n",
      "accuracy:0.758095238095238\n"
     ]
    }
   ],
   "source": [
    "from sklearn.ensemble import RandomForestClassifier\n",
    "rc = RandomForestClassifier(n_estimators = 50)\n",
    "rc.fit(frature_extractor,train_labels)\n",
    "y_pred = rc.predict(frature_extractor)\n",
    "print(\"train accuracy:{}\".format(accuracy_score(train_labels,y_pred)))\n",
    "y_pred = rc.predict(frature_extractor_test)\n",
    "print(\"accuracy:{}\".format(accuracy_score(test_labels,y_pred)))"
   ]
  },
  {
   "cell_type": "code",
   "execution_count": 12,
   "id": "a7bf4736",
   "metadata": {
    "execution": {
     "iopub.execute_input": "2022-12-03T10:34:40.548515Z",
     "iopub.status.busy": "2022-12-03T10:34:40.548197Z",
     "iopub.status.idle": "2022-12-03T10:34:41.115930Z",
     "shell.execute_reply": "2022-12-03T10:34:41.114521Z"
    },
    "papermill": {
     "duration": 0.580219,
     "end_time": "2022-12-03T10:34:41.119421",
     "exception": false,
     "start_time": "2022-12-03T10:34:40.539202",
     "status": "completed"
    },
    "tags": []
   },
   "outputs": [
    {
     "name": "stdout",
     "output_type": "stream",
     "text": [
      "train accuracy:1.0\n",
      "accuracy:0.6704761904761904\n"
     ]
    }
   ],
   "source": [
    "from sklearn.linear_model import LogisticRegression\n",
    "lc = LogisticRegression()\n",
    "lc.fit(frature_extractor,train_labels)\n",
    "y_pred = lc.predict(frature_extractor)\n",
    "print(\"train accuracy:{}\".format(accuracy_score(train_labels,y_pred)))\n",
    "y_pred = lc.predict(frature_extractor_test)\n",
    "print(\"accuracy:{}\".format(accuracy_score(test_labels,y_pred)))"
   ]
  },
  {
   "cell_type": "code",
   "execution_count": 13,
   "id": "f7d35ef0",
   "metadata": {
    "execution": {
     "iopub.execute_input": "2022-12-03T10:34:41.164420Z",
     "iopub.status.busy": "2022-12-03T10:34:41.163820Z",
     "iopub.status.idle": "2022-12-03T10:35:07.647107Z",
     "shell.execute_reply": "2022-12-03T10:35:07.645785Z"
    },
    "papermill": {
     "duration": 26.509174,
     "end_time": "2022-12-03T10:35:07.650219",
     "exception": false,
     "start_time": "2022-12-03T10:34:41.141045",
     "status": "completed"
    },
    "tags": []
   },
   "outputs": [
    {
     "name": "stdout",
     "output_type": "stream",
     "text": [
      "train accuracy:0.9917050691244239\n",
      "test accuracy:0.8342857142857143\n"
     ]
    }
   ],
   "source": [
    "import xgboost\n",
    "xgb = xgboost.XGBRFClassifier()\n",
    "xgb.fit(frature_extractor,train_labels)\n",
    "y_pred = xgb.predict(frature_extractor)\n",
    "print(\"train accuracy:{}\".format(accuracy_score(train_labels,y_pred)))\n",
    "y_pred = xgb.predict(frature_extractor_test)\n",
    "print(\"test accuracy:{}\".format(accuracy_score(test_labels,y_pred)))"
   ]
  },
  {
   "cell_type": "code",
   "execution_count": 14,
   "id": "443e6a74",
   "metadata": {
    "execution": {
     "iopub.execute_input": "2022-12-03T10:35:07.669652Z",
     "iopub.status.busy": "2022-12-03T10:35:07.669353Z",
     "iopub.status.idle": "2022-12-03T10:35:07.674154Z",
     "shell.execute_reply": "2022-12-03T10:35:07.673158Z"
    },
    "papermill": {
     "duration": 0.015812,
     "end_time": "2022-12-03T10:35:07.676237",
     "exception": false,
     "start_time": "2022-12-03T10:35:07.660425",
     "status": "completed"
    },
    "tags": []
   },
   "outputs": [],
   "source": [
    "from sklearn.model_selection import KFold,StratifiedKFold\n",
    "kf = KFold(n_splits = 5, random_state = 1, shuffle = True)"
   ]
  },
  {
   "cell_type": "code",
   "execution_count": 15,
   "id": "8ae4c132",
   "metadata": {
    "execution": {
     "iopub.execute_input": "2022-12-03T10:35:07.693536Z",
     "iopub.status.busy": "2022-12-03T10:35:07.693251Z",
     "iopub.status.idle": "2022-12-03T10:35:13.749410Z",
     "shell.execute_reply": "2022-12-03T10:35:13.747307Z"
    },
    "papermill": {
     "duration": 6.067466,
     "end_time": "2022-12-03T10:35:13.751699",
     "exception": false,
     "start_time": "2022-12-03T10:35:07.684233",
     "status": "completed"
    },
    "tags": []
   },
   "outputs": [
    {
     "name": "stdout",
     "output_type": "stream",
     "text": [
      "For Split 1\n",
      "train accuracy:1.0\n",
      "test accuracy:0.8847926267281107\n",
      "For Split 2\n",
      "train accuracy:1.0\n",
      "test accuracy:0.9170506912442397\n",
      "For Split 3\n",
      "train accuracy:1.0\n",
      "test accuracy:0.8617511520737328\n",
      "For Split 4\n",
      "train accuracy:1.0\n",
      "test accuracy:0.8847926267281107\n",
      "For Split 5\n",
      "train accuracy:1.0\n",
      "test accuracy:0.880184331797235\n",
      "Total Test Accuracy:0.7657142857142857\n"
     ]
    }
   ],
   "source": [
    "preds = []\n",
    "fold = StratifiedKFold(n_splits=5,shuffle=True,random_state=42)\n",
    "i = 1\n",
    "for train_id,test_id in fold.split(frature_extractor,train_labels):\n",
    "        #training and testing data\n",
    "        print(\"For Split {}\".format(i))\n",
    "        xtrain ,xtest = frature_extractor[train_id],frature_extractor[test_id]\n",
    "        ytrain,ytest = train_labels[train_id],train_labels[test_id]\n",
    "        rc = RandomForestClassifier()\n",
    "        rc.fit(xtrain,ytrain)\n",
    "        y_pred = rc.predict(xtrain)\n",
    "        print(\"train accuracy:{}\".format(accuracy_score(ytrain,y_pred)))\n",
    "        y_pred = rc.predict(xtest)\n",
    "        print(\"test accuracy:{}\".format(accuracy_score(ytest,y_pred)))\n",
    "        y_pred = rc.predict(frature_extractor_test)\n",
    "        preds.append(y_pred)\n",
    "        i+=1\n",
    "preds = np.mean(np.column_stack(preds), axis=1)\n",
    "new_preds = []\n",
    "for x in preds:\n",
    "    if x>=0.5:\n",
    "        new_preds.append(1)\n",
    "    else:\n",
    "        new_preds.append(0)\n",
    "print(\"Total Test Accuracy:{}\".format(accuracy_score(new_preds,test_labels)))"
   ]
  },
  {
   "cell_type": "code",
   "execution_count": 16,
   "id": "a673bb58",
   "metadata": {
    "execution": {
     "iopub.execute_input": "2022-12-03T10:35:13.770089Z",
     "iopub.status.busy": "2022-12-03T10:35:13.769794Z",
     "iopub.status.idle": "2022-12-03T10:35:13.851151Z",
     "shell.execute_reply": "2022-12-03T10:35:13.850233Z"
    },
    "papermill": {
     "duration": 0.092943,
     "end_time": "2022-12-03T10:35:13.853353",
     "exception": false,
     "start_time": "2022-12-03T10:35:13.760410",
     "status": "completed"
    },
    "tags": []
   },
   "outputs": [],
   "source": [
    "models = 1\n",
    "import numpy as np\n",
    "import pandas as pd \n",
    "import optuna \n",
    "import sklearn\n",
    "from xgboost import XGBClassifier\n",
    "from sklearn.impute import SimpleImputer\n",
    "from sklearn.preprocessing import StandardScaler\n",
    "from sklearn.metrics import roc_auc_score\n",
    "from sklearn.model_selection import StratifiedKFold\n",
    "from optuna.samplers import TPESampler\n",
    "from optuna.visualization import plot_optimization_history,plot_param_importances"
   ]
  },
  {
   "cell_type": "code",
   "execution_count": 17,
   "id": "2f901578",
   "metadata": {
    "execution": {
     "iopub.execute_input": "2022-12-03T10:35:13.871629Z",
     "iopub.status.busy": "2022-12-03T10:35:13.871337Z",
     "iopub.status.idle": "2022-12-03T10:35:13.880717Z",
     "shell.execute_reply": "2022-12-03T10:35:13.879780Z"
    },
    "papermill": {
     "duration": 0.020532,
     "end_time": "2022-12-03T10:35:13.882593",
     "exception": false,
     "start_time": "2022-12-03T10:35:13.862061",
     "status": "completed"
    },
    "tags": []
   },
   "outputs": [],
   "source": [
    "\n",
    "def objective(trial):\n",
    "    #empty list for training and testing roc_scores\n",
    "#     print(\"model number : {}\".format(models))\n",
    "#     models+=1\n",
    "    test_score = []\n",
    "    \n",
    "    #optunas parameters suggestion\n",
    "\n",
    "    param_grid = {\n",
    "              'n_estimators': trial.suggest_int('n_estimators', 1,101),\n",
    "                'max_depth': trial.suggest_int('max_depth',1,6),\n",
    "              'random_state': 42,\n",
    "                'criterion':trial.suggest_categorical('criterion', ['gini','entropy'])\n",
    "                 }\n",
    "    #cross validation using StratifiedKfold\n",
    "    \n",
    "    fold = StratifiedKFold(n_splits=5,shuffle=True,random_state=69)\n",
    "    i = 0\n",
    "    for train_id,test_id in fold.split(frature_extractor,train_labels):\n",
    "        #training and testing data\n",
    "        print(\"For Split {}\".format(i))\n",
    "        xtrain ,xtest = frature_extractor[train_id],frature_extractor[test_id]\n",
    "        ytrain,ytest = train_labels[train_id],train_labels[test_id]\n",
    "        \n",
    "        rc = RandomForestClassifier(**param_grid)\n",
    "        \n",
    "        rc.fit(xtrain,ytrain)\n",
    "        \n",
    "        y_pred = rc.predict(xtrain)\n",
    "        print(\"train accuracy:{}\".format(accuracy_score(ytrain,y_pred)))\n",
    "        \n",
    "        y_pred = rc.predict(xtest)\n",
    "        print(\"test accuracy:{}\".format(accuracy_score(ytest,y_pred)))\n",
    "        \n",
    "        y_pred = rc.predict(frature_extractor_test)\n",
    "        i+=1\n",
    "        \n",
    "        test_score.append(accuracy_score(y_pred,test_labels))\n",
    "        \n",
    "        #returning mean score\n",
    "    return np.mean(test_score)"
   ]
  },
  {
   "cell_type": "code",
   "execution_count": 18,
   "id": "e53aabb6",
   "metadata": {
    "execution": {
     "iopub.execute_input": "2022-12-03T10:35:13.900324Z",
     "iopub.status.busy": "2022-12-03T10:35:13.900034Z",
     "iopub.status.idle": "2022-12-03T10:40:35.343945Z",
     "shell.execute_reply": "2022-12-03T10:40:35.342901Z"
    },
    "papermill": {
     "duration": 321.457393,
     "end_time": "2022-12-03T10:40:35.348272",
     "exception": false,
     "start_time": "2022-12-03T10:35:13.890879",
     "status": "completed"
    },
    "tags": []
   },
   "outputs": [
    {
     "name": "stderr",
     "output_type": "stream",
     "text": [
      "\u001b[32m[I 2022-12-03 10:35:13,903]\u001b[0m A new study created in memory with name: Random_forset_optuna\u001b[0m\n"
     ]
    },
    {
     "name": "stdout",
     "output_type": "stream",
     "text": [
      "For Split 0\n",
      "train accuracy:0.9170506912442397\n",
      "test accuracy:0.9032258064516129\n",
      "For Split 1\n",
      "train accuracy:0.9285714285714286\n",
      "test accuracy:0.847926267281106\n",
      "For Split 2\n",
      "train accuracy:0.9193548387096774\n",
      "test accuracy:0.8617511520737328\n",
      "For Split 3\n",
      "train accuracy:0.9182027649769585\n",
      "test accuracy:0.8387096774193549\n",
      "For Split 4\n"
     ]
    },
    {
     "name": "stderr",
     "output_type": "stream",
     "text": [
      "\u001b[32m[I 2022-12-03 10:35:16,043]\u001b[0m Trial 0 finished with value: 0.8232380952380952 and parameters: {'n_estimators': 75, 'max_depth': 3, 'criterion': 'gini'}. Best is trial 0 with value: 0.8232380952380952.\u001b[0m\n"
     ]
    },
    {
     "name": "stdout",
     "output_type": "stream",
     "text": [
      "train accuracy:0.913594470046083\n",
      "test accuracy:0.8847926267281107\n",
      "For Split 0\n",
      "train accuracy:0.9228110599078341\n",
      "test accuracy:0.9078341013824884\n",
      "For Split 1\n",
      "train accuracy:0.9297235023041475\n",
      "test accuracy:0.8663594470046083\n",
      "For Split 2\n",
      "train accuracy:0.9182027649769585\n",
      "test accuracy:0.8571428571428571\n",
      "For Split 3\n",
      "train accuracy:0.9170506912442397\n",
      "test accuracy:0.8433179723502304\n",
      "For Split 4\n"
     ]
    },
    {
     "name": "stderr",
     "output_type": "stream",
     "text": [
      "\u001b[32m[I 2022-12-03 10:35:18,850]\u001b[0m Trial 1 finished with value: 0.8110476190476191 and parameters: {'n_estimators': 85, 'max_depth': 3, 'criterion': 'gini'}. Best is trial 0 with value: 0.8232380952380952.\u001b[0m\n"
     ]
    },
    {
     "name": "stdout",
     "output_type": "stream",
     "text": [
      "train accuracy:0.9158986175115207\n",
      "test accuracy:0.8986175115207373\n",
      "For Split 0\n",
      "train accuracy:0.8410138248847926\n",
      "test accuracy:0.8525345622119815\n",
      "For Split 1\n",
      "train accuracy:0.8467741935483871\n",
      "test accuracy:0.8294930875576036\n",
      "For Split 2\n",
      "train accuracy:0.8456221198156681\n",
      "test accuracy:0.8202764976958525\n",
      "For Split 3\n",
      "train accuracy:0.8582949308755761\n",
      "test accuracy:0.7788018433179723\n",
      "For Split 4\n"
     ]
    },
    {
     "name": "stderr",
     "output_type": "stream",
     "text": [
      "\u001b[32m[I 2022-12-03 10:35:19,905]\u001b[0m Trial 2 finished with value: 0.6163809523809524 and parameters: {'n_estimators': 57, 'max_depth': 1, 'criterion': 'entropy'}. Best is trial 0 with value: 0.8232380952380952.\u001b[0m\n"
     ]
    },
    {
     "name": "stdout",
     "output_type": "stream",
     "text": [
      "train accuracy:0.8467741935483871\n",
      "test accuracy:0.8433179723502304\n",
      "For Split 0\n",
      "train accuracy:0.9504608294930875\n",
      "test accuracy:0.9124423963133641\n",
      "For Split 1\n",
      "train accuracy:0.9539170506912442\n",
      "test accuracy:0.8525345622119815\n",
      "For Split 2\n",
      "train accuracy:0.9516129032258065\n",
      "test accuracy:0.8663594470046083\n",
      "For Split 3\n",
      "train accuracy:0.9412442396313364\n",
      "test accuracy:0.8709677419354839\n",
      "For Split 4\n"
     ]
    },
    {
     "name": "stderr",
     "output_type": "stream",
     "text": [
      "\u001b[32m[I 2022-12-03 10:35:23,768]\u001b[0m Trial 3 finished with value: 0.8213333333333332 and parameters: {'n_estimators': 89, 'max_depth': 4, 'criterion': 'entropy'}. Best is trial 0 with value: 0.8232380952380952.\u001b[0m\n"
     ]
    },
    {
     "name": "stdout",
     "output_type": "stream",
     "text": [
      "train accuracy:0.9470046082949308\n",
      "test accuracy:0.9078341013824884\n",
      "For Split 0\n",
      "train accuracy:0.9158986175115207\n",
      "test accuracy:0.9124423963133641\n",
      "For Split 1\n",
      "train accuracy:0.9285714285714286\n",
      "test accuracy:0.8571428571428571\n",
      "For Split 2\n",
      "train accuracy:0.9182027649769585\n",
      "test accuracy:0.847926267281106\n",
      "For Split 3\n",
      "train accuracy:0.9262672811059908\n",
      "test accuracy:0.8387096774193549\n",
      "For Split 4\n"
     ]
    },
    {
     "name": "stderr",
     "output_type": "stream",
     "text": [
      "\u001b[32m[I 2022-12-03 10:35:26,858]\u001b[0m Trial 4 finished with value: 0.8057142857142857 and parameters: {'n_estimators': 91, 'max_depth': 3, 'criterion': 'entropy'}. Best is trial 0 with value: 0.8232380952380952.\u001b[0m\n"
     ]
    },
    {
     "name": "stdout",
     "output_type": "stream",
     "text": [
      "train accuracy:0.9124423963133641\n",
      "test accuracy:0.8940092165898618\n",
      "For Split 0\n",
      "train accuracy:0.9516129032258065\n",
      "test accuracy:0.9170506912442397\n",
      "For Split 1\n",
      "train accuracy:0.9550691244239631\n",
      "test accuracy:0.8571428571428571\n",
      "For Split 2\n",
      "train accuracy:0.9493087557603687\n",
      "test accuracy:0.8663594470046083\n",
      "For Split 3\n",
      "train accuracy:0.9423963133640553\n",
      "test accuracy:0.8663594470046083\n",
      "For Split 4\n"
     ]
    },
    {
     "name": "stderr",
     "output_type": "stream",
     "text": [
      "\u001b[32m[I 2022-12-03 10:35:30,306]\u001b[0m Trial 5 finished with value: 0.8201904761904762 and parameters: {'n_estimators': 84, 'max_depth': 4, 'criterion': 'entropy'}. Best is trial 0 with value: 0.8232380952380952.\u001b[0m\n"
     ]
    },
    {
     "name": "stdout",
     "output_type": "stream",
     "text": [
      "train accuracy:0.9447004608294931\n",
      "test accuracy:0.9032258064516129\n",
      "For Split 0\n",
      "train accuracy:0.9481566820276498\n",
      "test accuracy:0.9124423963133641\n",
      "For Split 1\n",
      "train accuracy:0.9527649769585254\n",
      "test accuracy:0.8525345622119815\n",
      "For Split 2\n",
      "train accuracy:0.9516129032258065\n",
      "test accuracy:0.8663594470046083\n",
      "For Split 3\n",
      "train accuracy:0.9400921658986175\n",
      "test accuracy:0.8709677419354839\n",
      "For Split 4\n"
     ]
    },
    {
     "name": "stderr",
     "output_type": "stream",
     "text": [
      "\u001b[32m[I 2022-12-03 10:35:34,184]\u001b[0m Trial 6 finished with value: 0.8213333333333332 and parameters: {'n_estimators': 88, 'max_depth': 4, 'criterion': 'entropy'}. Best is trial 0 with value: 0.8232380952380952.\u001b[0m\n"
     ]
    },
    {
     "name": "stdout",
     "output_type": "stream",
     "text": [
      "train accuracy:0.9447004608294931\n",
      "test accuracy:0.9078341013824884\n",
      "For Split 0\n",
      "train accuracy:0.9481566820276498\n",
      "test accuracy:0.9078341013824884\n",
      "For Split 1\n",
      "train accuracy:0.9470046082949308\n",
      "test accuracy:0.8571428571428571\n",
      "For Split 2\n",
      "train accuracy:0.9435483870967742\n",
      "test accuracy:0.8663594470046083\n",
      "For Split 3\n",
      "train accuracy:0.9400921658986175\n",
      "test accuracy:0.8755760368663594\n",
      "For Split 4\n"
     ]
    },
    {
     "name": "stderr",
     "output_type": "stream",
     "text": [
      "\u001b[32m[I 2022-12-03 10:35:36,933]\u001b[0m Trial 7 finished with value: 0.8030476190476191 and parameters: {'n_estimators': 66, 'max_depth': 4, 'criterion': 'entropy'}. Best is trial 0 with value: 0.8232380952380952.\u001b[0m\n"
     ]
    },
    {
     "name": "stdout",
     "output_type": "stream",
     "text": [
      "train accuracy:0.9412442396313364\n",
      "test accuracy:0.9170506912442397\n",
      "For Split 0\n",
      "train accuracy:0.9896313364055299\n",
      "test accuracy:0.9308755760368663\n",
      "For Split 1\n",
      "train accuracy:0.9907834101382489\n",
      "test accuracy:0.8663594470046083\n",
      "For Split 2\n",
      "train accuracy:0.988479262672811\n",
      "test accuracy:0.8709677419354839\n",
      "For Split 3\n",
      "train accuracy:0.9850230414746544\n",
      "test accuracy:0.8755760368663594\n",
      "For Split 4\n"
     ]
    },
    {
     "name": "stderr",
     "output_type": "stream",
     "text": [
      "\u001b[32m[I 2022-12-03 10:35:40,539]\u001b[0m Trial 8 finished with value: 0.8335238095238096 and parameters: {'n_estimators': 82, 'max_depth': 6, 'criterion': 'gini'}. Best is trial 8 with value: 0.8335238095238096.\u001b[0m\n"
     ]
    },
    {
     "name": "stdout",
     "output_type": "stream",
     "text": [
      "train accuracy:0.9873271889400922\n",
      "test accuracy:0.9124423963133641\n",
      "For Split 0\n",
      "train accuracy:0.9700460829493087\n",
      "test accuracy:0.9308755760368663\n",
      "For Split 1\n",
      "train accuracy:0.978110599078341\n",
      "test accuracy:0.8755760368663594\n",
      "For Split 2\n",
      "train accuracy:0.9758064516129032\n",
      "test accuracy:0.8709677419354839\n",
      "For Split 3\n",
      "train accuracy:0.9688940092165899\n",
      "test accuracy:0.8709677419354839\n",
      "For Split 4\n"
     ]
    },
    {
     "name": "stderr",
     "output_type": "stream",
     "text": [
      "\u001b[32m[I 2022-12-03 10:35:44,137]\u001b[0m Trial 9 finished with value: 0.8217142857142857 and parameters: {'n_estimators': 72, 'max_depth': 5, 'criterion': 'entropy'}. Best is trial 8 with value: 0.8335238095238096.\u001b[0m\n"
     ]
    },
    {
     "name": "stdout",
     "output_type": "stream",
     "text": [
      "train accuracy:0.9723502304147466\n",
      "test accuracy:0.8986175115207373\n",
      "For Split 0\n",
      "train accuracy:0.9746543778801844\n",
      "test accuracy:0.9124423963133641\n",
      "For Split 1\n",
      "train accuracy:0.9873271889400922\n",
      "test accuracy:0.8755760368663594\n",
      "For Split 2\n",
      "train accuracy:0.9896313364055299\n",
      "test accuracy:0.880184331797235\n",
      "For Split 3\n",
      "train accuracy:0.9827188940092166\n",
      "test accuracy:0.8663594470046083\n",
      "For Split 4\n"
     ]
    },
    {
     "name": "stderr",
     "output_type": "stream",
     "text": [
      "\u001b[32m[I 2022-12-03 10:35:45,445]\u001b[0m Trial 10 finished with value: 0.8186666666666668 and parameters: {'n_estimators': 28, 'max_depth': 6, 'criterion': 'gini'}. Best is trial 8 with value: 0.8335238095238096.\u001b[0m\n"
     ]
    },
    {
     "name": "stdout",
     "output_type": "stream",
     "text": [
      "train accuracy:0.9850230414746544\n",
      "test accuracy:0.8940092165898618\n",
      "For Split 0\n",
      "train accuracy:0.8836405529953917\n",
      "test accuracy:0.9078341013824884\n",
      "For Split 1\n",
      "train accuracy:0.8963133640552995\n",
      "test accuracy:0.8525345622119815\n",
      "For Split 2\n",
      "train accuracy:0.8882488479262672\n",
      "test accuracy:0.8433179723502304\n",
      "For Split 3\n"
     ]
    },
    {
     "name": "stderr",
     "output_type": "stream",
     "text": [
      "\u001b[32m[I 2022-12-03 10:35:46,312]\u001b[0m Trial 11 finished with value: 0.7413333333333334 and parameters: {'n_estimators': 37, 'max_depth': 2, 'criterion': 'gini'}. Best is trial 8 with value: 0.8335238095238096.\u001b[0m\n"
     ]
    },
    {
     "name": "stdout",
     "output_type": "stream",
     "text": [
      "train accuracy:0.8928571428571429\n",
      "test accuracy:0.8341013824884793\n",
      "For Split 4\n",
      "train accuracy:0.8894009216589862\n",
      "test accuracy:0.8847926267281107\n",
      "For Split 0\n",
      "train accuracy:0.9711981566820277\n",
      "test accuracy:0.9124423963133641\n",
      "For Split 1\n",
      "train accuracy:0.9792626728110599\n",
      "test accuracy:0.8847926267281107\n",
      "For Split 2\n",
      "train accuracy:0.9827188940092166\n",
      "test accuracy:0.8847926267281107\n",
      "For Split 3\n",
      "train accuracy:0.9769585253456221\n",
      "test accuracy:0.8433179723502304\n",
      "For Split 4\n"
     ]
    },
    {
     "name": "stderr",
     "output_type": "stream",
     "text": [
      "\u001b[32m[I 2022-12-03 10:35:46,954]\u001b[0m Trial 12 finished with value: 0.7405714285714285 and parameters: {'n_estimators': 13, 'max_depth': 6, 'criterion': 'gini'}. Best is trial 8 with value: 0.8335238095238096.\u001b[0m\n"
     ]
    },
    {
     "name": "stdout",
     "output_type": "stream",
     "text": [
      "train accuracy:0.9723502304147466\n",
      "test accuracy:0.8709677419354839\n",
      "For Split 0\n",
      "train accuracy:0.8917050691244239\n",
      "test accuracy:0.880184331797235\n",
      "For Split 1\n",
      "train accuracy:0.8997695852534562\n",
      "test accuracy:0.8525345622119815\n",
      "For Split 2\n",
      "train accuracy:0.902073732718894\n",
      "test accuracy:0.8709677419354839\n",
      "For Split 3\n",
      "train accuracy:0.8986175115207373\n",
      "test accuracy:0.8433179723502304\n",
      "For Split 4\n"
     ]
    },
    {
     "name": "stderr",
     "output_type": "stream",
     "text": [
      "\u001b[32m[I 2022-12-03 10:35:49,591]\u001b[0m Trial 13 finished with value: 0.7836190476190475 and parameters: {'n_estimators': 101, 'max_depth': 2, 'criterion': 'gini'}. Best is trial 8 with value: 0.8335238095238096.\u001b[0m\n"
     ]
    },
    {
     "name": "stdout",
     "output_type": "stream",
     "text": [
      "train accuracy:0.8974654377880185\n",
      "test accuracy:0.8940092165898618\n",
      "For Split 0\n",
      "train accuracy:0.9746543778801844\n",
      "test accuracy:0.9124423963133641\n",
      "For Split 1\n",
      "train accuracy:0.967741935483871\n",
      "test accuracy:0.8663594470046083\n",
      "For Split 2\n",
      "train accuracy:0.9746543778801844\n",
      "test accuracy:0.8847926267281107\n",
      "For Split 3\n",
      "train accuracy:0.9723502304147466\n",
      "test accuracy:0.8571428571428571\n",
      "For Split 4\n"
     ]
    },
    {
     "name": "stderr",
     "output_type": "stream",
     "text": [
      "\u001b[32m[I 2022-12-03 10:35:51,571]\u001b[0m Trial 14 finished with value: 0.8255238095238095 and parameters: {'n_estimators': 49, 'max_depth': 5, 'criterion': 'gini'}. Best is trial 8 with value: 0.8335238095238096.\u001b[0m\n"
     ]
    },
    {
     "name": "stdout",
     "output_type": "stream",
     "text": [
      "train accuracy:0.966589861751152\n",
      "test accuracy:0.9262672811059908\n",
      "For Split 0\n",
      "train accuracy:0.9723502304147466\n",
      "test accuracy:0.9216589861751152\n",
      "For Split 1\n",
      "train accuracy:0.967741935483871\n",
      "test accuracy:0.8709677419354839\n",
      "For Split 2\n",
      "train accuracy:0.9723502304147466\n",
      "test accuracy:0.8847926267281107\n",
      "For Split 3\n",
      "train accuracy:0.9700460829493087\n",
      "test accuracy:0.8663594470046083\n",
      "For Split 4\n"
     ]
    },
    {
     "name": "stderr",
     "output_type": "stream",
     "text": [
      "\u001b[32m[I 2022-12-03 10:35:53,318]\u001b[0m Trial 15 finished with value: 0.8266666666666665 and parameters: {'n_estimators': 43, 'max_depth': 5, 'criterion': 'gini'}. Best is trial 8 with value: 0.8335238095238096.\u001b[0m\n"
     ]
    },
    {
     "name": "stdout",
     "output_type": "stream",
     "text": [
      "train accuracy:0.9711981566820277\n",
      "test accuracy:0.9262672811059908\n",
      "For Split 0\n",
      "train accuracy:0.9735023041474654\n",
      "test accuracy:0.9262672811059908\n",
      "For Split 1\n",
      "train accuracy:0.967741935483871\n",
      "test accuracy:0.8709677419354839\n",
      "For Split 2\n",
      "train accuracy:0.9723502304147466\n",
      "test accuracy:0.8847926267281107\n",
      "For Split 3\n",
      "train accuracy:0.9700460829493087\n",
      "test accuracy:0.8709677419354839\n",
      "For Split 4\n"
     ]
    },
    {
     "name": "stderr",
     "output_type": "stream",
     "text": [
      "\u001b[32m[I 2022-12-03 10:35:55,271]\u001b[0m Trial 16 finished with value: 0.8205714285714286 and parameters: {'n_estimators': 42, 'max_depth': 5, 'criterion': 'gini'}. Best is trial 8 with value: 0.8335238095238096.\u001b[0m\n",
      "\u001b[32m[I 2022-12-03 10:35:55,439]\u001b[0m Trial 17 finished with value: 0.6312380952380952 and parameters: {'n_estimators': 2, 'max_depth': 6, 'criterion': 'gini'}. Best is trial 8 with value: 0.8335238095238096.\u001b[0m\n"
     ]
    },
    {
     "name": "stdout",
     "output_type": "stream",
     "text": [
      "train accuracy:0.9735023041474654\n",
      "test accuracy:0.9262672811059908\n",
      "For Split 0\n",
      "train accuracy:0.9078341013824884\n",
      "test accuracy:0.7603686635944701\n",
      "For Split 1\n",
      "train accuracy:0.8963133640552995\n",
      "test accuracy:0.7926267281105991\n",
      "For Split 2\n",
      "train accuracy:0.9043778801843319\n",
      "test accuracy:0.783410138248848\n",
      "For Split 3\n",
      "train accuracy:0.8974654377880185\n",
      "test accuracy:0.7188940092165899\n",
      "For Split 4\n",
      "train accuracy:0.9055299539170507\n",
      "test accuracy:0.7695852534562212\n",
      "For Split 0\n",
      "train accuracy:0.966589861751152\n",
      "test accuracy:0.9078341013824884\n",
      "For Split 1\n",
      "train accuracy:0.9700460829493087\n",
      "test accuracy:0.8663594470046083\n",
      "For Split 2\n",
      "train accuracy:0.9711981566820277\n",
      "test accuracy:0.880184331797235\n",
      "For Split 3\n",
      "train accuracy:0.9688940092165899\n",
      "test accuracy:0.8709677419354839\n",
      "For Split 4\n"
     ]
    },
    {
     "name": "stderr",
     "output_type": "stream",
     "text": [
      "\u001b[32m[I 2022-12-03 10:35:56,568]\u001b[0m Trial 18 finished with value: 0.8144761904761906 and parameters: {'n_estimators': 27, 'max_depth': 5, 'criterion': 'gini'}. Best is trial 8 with value: 0.8335238095238096.\u001b[0m\n"
     ]
    },
    {
     "name": "stdout",
     "output_type": "stream",
     "text": [
      "train accuracy:0.966589861751152\n",
      "test accuracy:0.9032258064516129\n",
      "For Split 0\n",
      "train accuracy:0.9896313364055299\n",
      "test accuracy:0.9262672811059908\n",
      "For Split 1\n",
      "train accuracy:0.9930875576036866\n",
      "test accuracy:0.8755760368663594\n",
      "For Split 2\n",
      "train accuracy:0.988479262672811\n",
      "test accuracy:0.880184331797235\n",
      "For Split 3\n",
      "train accuracy:0.988479262672811\n",
      "test accuracy:0.8755760368663594\n",
      "For Split 4\n"
     ]
    },
    {
     "name": "stderr",
     "output_type": "stream",
     "text": [
      "\u001b[32m[I 2022-12-03 10:35:59,293]\u001b[0m Trial 19 finished with value: 0.8266666666666668 and parameters: {'n_estimators': 60, 'max_depth': 6, 'criterion': 'gini'}. Best is trial 8 with value: 0.8335238095238096.\u001b[0m\n"
     ]
    },
    {
     "name": "stdout",
     "output_type": "stream",
     "text": [
      "train accuracy:0.9838709677419355\n",
      "test accuracy:0.9170506912442397\n",
      "For Split 0\n",
      "train accuracy:0.9896313364055299\n",
      "test accuracy:0.9170506912442397\n",
      "For Split 1\n",
      "train accuracy:0.9919354838709677\n",
      "test accuracy:0.8617511520737328\n",
      "For Split 2\n",
      "train accuracy:0.9896313364055299\n",
      "test accuracy:0.880184331797235\n",
      "For Split 3\n",
      "train accuracy:0.9896313364055299\n",
      "test accuracy:0.880184331797235\n",
      "For Split 4\n"
     ]
    },
    {
     "name": "stderr",
     "output_type": "stream",
     "text": [
      "\u001b[32m[I 2022-12-03 10:36:02,230]\u001b[0m Trial 20 finished with value: 0.8209523809523811 and parameters: {'n_estimators': 63, 'max_depth': 6, 'criterion': 'gini'}. Best is trial 8 with value: 0.8335238095238096.\u001b[0m\n"
     ]
    },
    {
     "name": "stdout",
     "output_type": "stream",
     "text": [
      "train accuracy:0.9861751152073732\n",
      "test accuracy:0.9078341013824884\n",
      "For Split 0\n",
      "train accuracy:0.9838709677419355\n",
      "test accuracy:0.9262672811059908\n",
      "For Split 1\n",
      "train accuracy:0.9873271889400922\n",
      "test accuracy:0.8663594470046083\n",
      "For Split 2\n",
      "train accuracy:0.988479262672811\n",
      "test accuracy:0.8847926267281107\n",
      "For Split 3\n",
      "train accuracy:0.988479262672811\n",
      "test accuracy:0.880184331797235\n",
      "For Split 4\n"
     ]
    },
    {
     "name": "stderr",
     "output_type": "stream",
     "text": [
      "\u001b[32m[I 2022-12-03 10:36:04,515]\u001b[0m Trial 21 finished with value: 0.8167619047619048 and parameters: {'n_estimators': 51, 'max_depth': 6, 'criterion': 'gini'}. Best is trial 8 with value: 0.8335238095238096.\u001b[0m\n"
     ]
    },
    {
     "name": "stdout",
     "output_type": "stream",
     "text": [
      "train accuracy:0.9861751152073732\n",
      "test accuracy:0.9216589861751152\n",
      "For Split 0\n",
      "train accuracy:0.9723502304147466\n",
      "test accuracy:0.9124423963133641\n",
      "For Split 1\n",
      "train accuracy:0.9711981566820277\n",
      "test accuracy:0.8709677419354839\n",
      "For Split 2\n",
      "train accuracy:0.978110599078341\n",
      "test accuracy:0.880184331797235\n",
      "For Split 3\n",
      "train accuracy:0.9758064516129032\n",
      "test accuracy:0.8525345622119815\n",
      "For Split 4\n"
     ]
    },
    {
     "name": "stderr",
     "output_type": "stream",
     "text": [
      "\u001b[32m[I 2022-12-03 10:36:07,085]\u001b[0m Trial 22 finished with value: 0.8377142857142857 and parameters: {'n_estimators': 60, 'max_depth': 5, 'criterion': 'gini'}. Best is trial 22 with value: 0.8377142857142857.\u001b[0m\n"
     ]
    },
    {
     "name": "stdout",
     "output_type": "stream",
     "text": [
      "train accuracy:0.967741935483871\n",
      "test accuracy:0.9078341013824884\n",
      "For Split 0\n",
      "train accuracy:0.9873271889400922\n",
      "test accuracy:0.9262672811059908\n",
      "For Split 1\n",
      "train accuracy:0.9919354838709677\n",
      "test accuracy:0.8617511520737328\n",
      "For Split 2\n",
      "train accuracy:0.9896313364055299\n",
      "test accuracy:0.880184331797235\n",
      "For Split 3\n",
      "train accuracy:0.988479262672811\n",
      "test accuracy:0.8755760368663594\n",
      "For Split 4\n"
     ]
    },
    {
     "name": "stderr",
     "output_type": "stream",
     "text": [
      "\u001b[32m[I 2022-12-03 10:36:10,388]\u001b[0m Trial 23 finished with value: 0.8262857142857143 and parameters: {'n_estimators': 74, 'max_depth': 6, 'criterion': 'gini'}. Best is trial 22 with value: 0.8377142857142857.\u001b[0m\n"
     ]
    },
    {
     "name": "stdout",
     "output_type": "stream",
     "text": [
      "train accuracy:0.9850230414746544\n",
      "test accuracy:0.8986175115207373\n",
      "For Split 0\n",
      "train accuracy:0.9723502304147466\n",
      "test accuracy:0.9124423963133641\n",
      "For Split 1\n",
      "train accuracy:0.9711981566820277\n",
      "test accuracy:0.8709677419354839\n",
      "For Split 2\n",
      "train accuracy:0.978110599078341\n",
      "test accuracy:0.880184331797235\n",
      "For Split 3\n",
      "train accuracy:0.9758064516129032\n",
      "test accuracy:0.8525345622119815\n",
      "For Split 4\n"
     ]
    },
    {
     "name": "stderr",
     "output_type": "stream",
     "text": [
      "\u001b[32m[I 2022-12-03 10:36:12,808]\u001b[0m Trial 24 finished with value: 0.8377142857142857 and parameters: {'n_estimators': 60, 'max_depth': 5, 'criterion': 'gini'}. Best is trial 22 with value: 0.8377142857142857.\u001b[0m\n"
     ]
    },
    {
     "name": "stdout",
     "output_type": "stream",
     "text": [
      "train accuracy:0.967741935483871\n",
      "test accuracy:0.9078341013824884\n",
      "For Split 0\n",
      "train accuracy:0.9769585253456221\n",
      "test accuracy:0.9124423963133641\n",
      "For Split 1\n",
      "train accuracy:0.9746543778801844\n",
      "test accuracy:0.8663594470046083\n",
      "For Split 2\n",
      "train accuracy:0.9769585253456221\n",
      "test accuracy:0.8755760368663594\n",
      "For Split 3\n",
      "train accuracy:0.978110599078341\n",
      "test accuracy:0.8663594470046083\n",
      "For Split 4\n"
     ]
    },
    {
     "name": "stderr",
     "output_type": "stream",
     "text": [
      "\u001b[32m[I 2022-12-03 10:36:16,932]\u001b[0m Trial 25 finished with value: 0.857904761904762 and parameters: {'n_estimators': 99, 'max_depth': 5, 'criterion': 'gini'}. Best is trial 25 with value: 0.857904761904762.\u001b[0m\n"
     ]
    },
    {
     "name": "stdout",
     "output_type": "stream",
     "text": [
      "train accuracy:0.9758064516129032\n",
      "test accuracy:0.9078341013824884\n",
      "For Split 0\n",
      "train accuracy:0.9711981566820277\n",
      "test accuracy:0.9124423963133641\n",
      "For Split 1\n",
      "train accuracy:0.9700460829493087\n",
      "test accuracy:0.8663594470046083\n",
      "For Split 2\n",
      "train accuracy:0.9700460829493087\n",
      "test accuracy:0.8847926267281107\n",
      "For Split 3\n",
      "train accuracy:0.9654377880184332\n",
      "test accuracy:0.8709677419354839\n",
      "For Split 4\n"
     ]
    },
    {
     "name": "stderr",
     "output_type": "stream",
     "text": [
      "\u001b[32m[I 2022-12-03 10:36:18,027]\u001b[0m Trial 26 finished with value: 0.8118095238095238 and parameters: {'n_estimators': 26, 'max_depth': 5, 'criterion': 'gini'}. Best is trial 25 with value: 0.857904761904762.\u001b[0m\n"
     ]
    },
    {
     "name": "stdout",
     "output_type": "stream",
     "text": [
      "train accuracy:0.967741935483871\n",
      "test accuracy:0.9078341013824884\n",
      "For Split 0\n",
      "train accuracy:0.9470046082949308\n",
      "test accuracy:0.9170506912442397\n",
      "For Split 1\n",
      "train accuracy:0.9516129032258065\n",
      "test accuracy:0.8709677419354839\n",
      "For Split 2\n",
      "train accuracy:0.956221198156682\n",
      "test accuracy:0.8940092165898618\n",
      "For Split 3\n",
      "train accuracy:0.9504608294930875\n",
      "test accuracy:0.8571428571428571\n",
      "For Split 4\n"
     ]
    },
    {
     "name": "stderr",
     "output_type": "stream",
     "text": [
      "\u001b[32m[I 2022-12-03 10:36:21,754]\u001b[0m Trial 27 finished with value: 0.8327619047619047 and parameters: {'n_estimators': 98, 'max_depth': 4, 'criterion': 'gini'}. Best is trial 25 with value: 0.857904761904762.\u001b[0m\n"
     ]
    },
    {
     "name": "stdout",
     "output_type": "stream",
     "text": [
      "train accuracy:0.9573732718894009\n",
      "test accuracy:0.9170506912442397\n",
      "For Split 0\n",
      "train accuracy:0.9746543778801844\n",
      "test accuracy:0.9170506912442397\n",
      "For Split 1\n",
      "train accuracy:0.966589861751152\n",
      "test accuracy:0.8663594470046083\n",
      "For Split 2\n",
      "train accuracy:0.9735023041474654\n",
      "test accuracy:0.880184331797235\n",
      "For Split 3\n",
      "train accuracy:0.9711981566820277\n",
      "test accuracy:0.8663594470046083\n",
      "For Split 4\n"
     ]
    },
    {
     "name": "stderr",
     "output_type": "stream",
     "text": [
      "\u001b[32m[I 2022-12-03 10:36:23,954]\u001b[0m Trial 28 finished with value: 0.8335238095238096 and parameters: {'n_estimators': 54, 'max_depth': 5, 'criterion': 'gini'}. Best is trial 25 with value: 0.857904761904762.\u001b[0m\n"
     ]
    },
    {
     "name": "stdout",
     "output_type": "stream",
     "text": [
      "train accuracy:0.9688940092165899\n",
      "test accuracy:0.9262672811059908\n",
      "For Split 0\n",
      "train accuracy:0.9205069124423964\n",
      "test accuracy:0.9078341013824884\n",
      "For Split 1\n",
      "train accuracy:0.9274193548387096\n",
      "test accuracy:0.847926267281106\n",
      "For Split 2\n",
      "train accuracy:0.9158986175115207\n",
      "test accuracy:0.8525345622119815\n",
      "For Split 3\n",
      "train accuracy:0.9193548387096774\n",
      "test accuracy:0.8387096774193549\n",
      "For Split 4\n"
     ]
    },
    {
     "name": "stderr",
     "output_type": "stream",
     "text": [
      "\u001b[32m[I 2022-12-03 10:36:25,894]\u001b[0m Trial 29 finished with value: 0.803047619047619 and parameters: {'n_estimators': 68, 'max_depth': 3, 'criterion': 'gini'}. Best is trial 25 with value: 0.857904761904762.\u001b[0m\n"
     ]
    },
    {
     "name": "stdout",
     "output_type": "stream",
     "text": [
      "train accuracy:0.9147465437788018\n",
      "test accuracy:0.880184331797235\n",
      "For Split 0\n",
      "train accuracy:0.9746543778801844\n",
      "test accuracy:0.9170506912442397\n",
      "For Split 1\n",
      "train accuracy:0.978110599078341\n",
      "test accuracy:0.8663594470046083\n",
      "For Split 2\n",
      "train accuracy:0.9758064516129032\n",
      "test accuracy:0.880184331797235\n",
      "For Split 3\n",
      "train accuracy:0.9769585253456221\n",
      "test accuracy:0.8617511520737328\n",
      "For Split 4\n"
     ]
    },
    {
     "name": "stderr",
     "output_type": "stream",
     "text": [
      "\u001b[32m[I 2022-12-03 10:36:29,189]\u001b[0m Trial 30 finished with value: 0.8563809523809525 and parameters: {'n_estimators': 78, 'max_depth': 5, 'criterion': 'gini'}. Best is trial 25 with value: 0.857904761904762.\u001b[0m\n"
     ]
    },
    {
     "name": "stdout",
     "output_type": "stream",
     "text": [
      "train accuracy:0.9735023041474654\n",
      "test accuracy:0.9170506912442397\n",
      "For Split 0\n",
      "train accuracy:0.9735023041474654\n",
      "test accuracy:0.9124423963133641\n",
      "For Split 1\n",
      "train accuracy:0.978110599078341\n",
      "test accuracy:0.8617511520737328\n",
      "For Split 2\n",
      "train accuracy:0.9758064516129032\n",
      "test accuracy:0.880184331797235\n",
      "For Split 3\n",
      "train accuracy:0.9769585253456221\n",
      "test accuracy:0.8571428571428571\n",
      "For Split 4\n"
     ]
    },
    {
     "name": "stderr",
     "output_type": "stream",
     "text": [
      "\u001b[32m[I 2022-12-03 10:36:32,347]\u001b[0m Trial 31 finished with value: 0.857904761904762 and parameters: {'n_estimators': 79, 'max_depth': 5, 'criterion': 'gini'}. Best is trial 25 with value: 0.857904761904762.\u001b[0m\n"
     ]
    },
    {
     "name": "stdout",
     "output_type": "stream",
     "text": [
      "train accuracy:0.9735023041474654\n",
      "test accuracy:0.9170506912442397\n",
      "For Split 0\n",
      "train accuracy:0.9504608294930875\n",
      "test accuracy:0.9170506912442397\n",
      "For Split 1\n",
      "train accuracy:0.9539170506912442\n",
      "test accuracy:0.8709677419354839\n",
      "For Split 2\n",
      "train accuracy:0.9516129032258065\n",
      "test accuracy:0.8847926267281107\n",
      "For Split 3\n",
      "train accuracy:0.9470046082949308\n",
      "test accuracy:0.8663594470046083\n",
      "For Split 4\n"
     ]
    },
    {
     "name": "stderr",
     "output_type": "stream",
     "text": [
      "\u001b[32m[I 2022-12-03 10:36:35,206]\u001b[0m Trial 32 finished with value: 0.8384761904761906 and parameters: {'n_estimators': 81, 'max_depth': 4, 'criterion': 'gini'}. Best is trial 25 with value: 0.857904761904762.\u001b[0m\n"
     ]
    },
    {
     "name": "stdout",
     "output_type": "stream",
     "text": [
      "train accuracy:0.9504608294930875\n",
      "test accuracy:0.9170506912442397\n",
      "For Split 0\n",
      "train accuracy:0.9470046082949308\n",
      "test accuracy:0.9216589861751152\n",
      "For Split 1\n",
      "train accuracy:0.9527649769585254\n",
      "test accuracy:0.8709677419354839\n",
      "For Split 2\n",
      "train accuracy:0.9527649769585254\n",
      "test accuracy:0.8940092165898618\n",
      "For Split 3\n",
      "train accuracy:0.9516129032258065\n",
      "test accuracy:0.8617511520737328\n",
      "For Split 4\n"
     ]
    },
    {
     "name": "stderr",
     "output_type": "stream",
     "text": [
      "\u001b[32m[I 2022-12-03 10:36:38,590]\u001b[0m Trial 33 finished with value: 0.8323809523809524 and parameters: {'n_estimators': 96, 'max_depth': 4, 'criterion': 'gini'}. Best is trial 25 with value: 0.857904761904762.\u001b[0m\n"
     ]
    },
    {
     "name": "stdout",
     "output_type": "stream",
     "text": [
      "train accuracy:0.9585253456221198\n",
      "test accuracy:0.9170506912442397\n",
      "For Split 0\n",
      "train accuracy:0.9481566820276498\n",
      "test accuracy:0.9170506912442397\n",
      "For Split 1\n",
      "train accuracy:0.9550691244239631\n",
      "test accuracy:0.8663594470046083\n",
      "For Split 2\n",
      "train accuracy:0.9504608294930875\n",
      "test accuracy:0.8847926267281107\n",
      "For Split 3\n",
      "train accuracy:0.945852534562212\n",
      "test accuracy:0.8663594470046083\n",
      "For Split 4\n"
     ]
    },
    {
     "name": "stderr",
     "output_type": "stream",
     "text": [
      "\u001b[32m[I 2022-12-03 10:36:41,428]\u001b[0m Trial 34 finished with value: 0.8354285714285714 and parameters: {'n_estimators': 79, 'max_depth': 4, 'criterion': 'gini'}. Best is trial 25 with value: 0.857904761904762.\u001b[0m\n"
     ]
    },
    {
     "name": "stdout",
     "output_type": "stream",
     "text": [
      "train accuracy:0.9493087557603687\n",
      "test accuracy:0.9170506912442397\n",
      "For Split 0\n",
      "train accuracy:0.9216589861751152\n",
      "test accuracy:0.9078341013824884\n",
      "For Split 1\n",
      "train accuracy:0.9308755760368663\n",
      "test accuracy:0.8663594470046083\n",
      "For Split 2\n",
      "train accuracy:0.9193548387096774\n",
      "test accuracy:0.8617511520737328\n",
      "For Split 3\n",
      "train accuracy:0.9262672811059908\n",
      "test accuracy:0.8387096774193549\n",
      "For Split 4\n"
     ]
    },
    {
     "name": "stderr",
     "output_type": "stream",
     "text": [
      "\u001b[32m[I 2022-12-03 10:36:44,069]\u001b[0m Trial 35 finished with value: 0.8217142857142857 and parameters: {'n_estimators': 92, 'max_depth': 3, 'criterion': 'gini'}. Best is trial 25 with value: 0.857904761904762.\u001b[0m\n"
     ]
    },
    {
     "name": "stdout",
     "output_type": "stream",
     "text": [
      "train accuracy:0.9147465437788018\n",
      "test accuracy:0.8847926267281107\n",
      "For Split 0\n",
      "train accuracy:0.9481566820276498\n",
      "test accuracy:0.9170506912442397\n",
      "For Split 1\n",
      "train accuracy:0.9550691244239631\n",
      "test accuracy:0.8663594470046083\n",
      "For Split 2\n",
      "train accuracy:0.9504608294930875\n",
      "test accuracy:0.8847926267281107\n",
      "For Split 3\n",
      "train accuracy:0.945852534562212\n",
      "test accuracy:0.8663594470046083\n",
      "For Split 4\n"
     ]
    },
    {
     "name": "stderr",
     "output_type": "stream",
     "text": [
      "\u001b[32m[I 2022-12-03 10:36:46,841]\u001b[0m Trial 36 finished with value: 0.8354285714285714 and parameters: {'n_estimators': 79, 'max_depth': 4, 'criterion': 'gini'}. Best is trial 25 with value: 0.857904761904762.\u001b[0m\n"
     ]
    },
    {
     "name": "stdout",
     "output_type": "stream",
     "text": [
      "train accuracy:0.9493087557603687\n",
      "test accuracy:0.9170506912442397\n",
      "For Split 0\n",
      "train accuracy:0.8502304147465438\n",
      "test accuracy:0.8755760368663594\n",
      "For Split 1\n",
      "train accuracy:0.8502304147465438\n",
      "test accuracy:0.8341013824884793\n",
      "For Split 2\n",
      "train accuracy:0.8467741935483871\n",
      "test accuracy:0.8248847926267281\n",
      "For Split 3\n",
      "train accuracy:0.8559907834101382\n",
      "test accuracy:0.783410138248848\n",
      "For Split 4\n"
     ]
    },
    {
     "name": "stderr",
     "output_type": "stream",
     "text": [
      "\u001b[32m[I 2022-12-03 10:36:48,413]\u001b[0m Trial 37 finished with value: 0.6518095238095238 and parameters: {'n_estimators': 86, 'max_depth': 1, 'criterion': 'entropy'}. Best is trial 25 with value: 0.857904761904762.\u001b[0m\n"
     ]
    },
    {
     "name": "stdout",
     "output_type": "stream",
     "text": [
      "train accuracy:0.8594470046082949\n",
      "test accuracy:0.8433179723502304\n",
      "For Split 0\n",
      "train accuracy:0.9539170506912442\n",
      "test accuracy:0.9124423963133641\n",
      "For Split 1\n",
      "train accuracy:0.9527649769585254\n",
      "test accuracy:0.8525345622119815\n",
      "For Split 2\n",
      "train accuracy:0.9550691244239631\n",
      "test accuracy:0.8617511520737328\n",
      "For Split 3\n",
      "train accuracy:0.9435483870967742\n",
      "test accuracy:0.8709677419354839\n",
      "For Split 4\n"
     ]
    },
    {
     "name": "stderr",
     "output_type": "stream",
     "text": [
      "\u001b[32m[I 2022-12-03 10:36:52,963]\u001b[0m Trial 38 finished with value: 0.8255238095238095 and parameters: {'n_estimators': 94, 'max_depth': 4, 'criterion': 'entropy'}. Best is trial 25 with value: 0.857904761904762.\u001b[0m\n"
     ]
    },
    {
     "name": "stdout",
     "output_type": "stream",
     "text": [
      "train accuracy:0.945852534562212\n",
      "test accuracy:0.9078341013824884\n",
      "For Split 0\n",
      "train accuracy:0.9758064516129032\n",
      "test accuracy:0.9124423963133641\n",
      "For Split 1\n",
      "train accuracy:0.9758064516129032\n",
      "test accuracy:0.8709677419354839\n",
      "For Split 2\n",
      "train accuracy:0.978110599078341\n",
      "test accuracy:0.880184331797235\n",
      "For Split 3\n",
      "train accuracy:0.9792626728110599\n",
      "test accuracy:0.8571428571428571\n",
      "For Split 4\n"
     ]
    },
    {
     "name": "stderr",
     "output_type": "stream",
     "text": [
      "\u001b[32m[I 2022-12-03 10:36:55,762]\u001b[0m Trial 39 finished with value: 0.8491428571428571 and parameters: {'n_estimators': 70, 'max_depth': 5, 'criterion': 'gini'}. Best is trial 25 with value: 0.857904761904762.\u001b[0m\n"
     ]
    },
    {
     "name": "stdout",
     "output_type": "stream",
     "text": [
      "train accuracy:0.9735023041474654\n",
      "test accuracy:0.9078341013824884\n",
      "For Split 0\n",
      "train accuracy:0.9711981566820277\n",
      "test accuracy:0.9308755760368663\n",
      "For Split 1\n",
      "train accuracy:0.978110599078341\n",
      "test accuracy:0.8709677419354839\n",
      "For Split 2\n",
      "train accuracy:0.978110599078341\n",
      "test accuracy:0.8709677419354839\n",
      "For Split 3\n",
      "train accuracy:0.9688940092165899\n",
      "test accuracy:0.8709677419354839\n",
      "For Split 4\n"
     ]
    },
    {
     "name": "stderr",
     "output_type": "stream",
     "text": [
      "\u001b[32m[I 2022-12-03 10:36:59,098]\u001b[0m Trial 40 finished with value: 0.8186666666666668 and parameters: {'n_estimators': 71, 'max_depth': 5, 'criterion': 'entropy'}. Best is trial 25 with value: 0.857904761904762.\u001b[0m\n"
     ]
    },
    {
     "name": "stdout",
     "output_type": "stream",
     "text": [
      "train accuracy:0.9735023041474654\n",
      "test accuracy:0.8986175115207373\n",
      "For Split 0\n",
      "train accuracy:0.9723502304147466\n",
      "test accuracy:0.9170506912442397\n",
      "For Split 1\n",
      "train accuracy:0.9758064516129032\n",
      "test accuracy:0.8663594470046083\n",
      "For Split 2\n",
      "train accuracy:0.978110599078341\n",
      "test accuracy:0.880184331797235\n",
      "For Split 3\n",
      "train accuracy:0.9769585253456221\n",
      "test accuracy:0.8617511520737328\n",
      "For Split 4\n"
     ]
    },
    {
     "name": "stderr",
     "output_type": "stream",
     "text": [
      "\u001b[32m[I 2022-12-03 10:37:02,308]\u001b[0m Trial 41 finished with value: 0.8552380952380952 and parameters: {'n_estimators': 76, 'max_depth': 5, 'criterion': 'gini'}. Best is trial 25 with value: 0.857904761904762.\u001b[0m\n"
     ]
    },
    {
     "name": "stdout",
     "output_type": "stream",
     "text": [
      "train accuracy:0.9711981566820277\n",
      "test accuracy:0.9124423963133641\n",
      "For Split 0\n",
      "train accuracy:0.9746543778801844\n",
      "test accuracy:0.9170506912442397\n",
      "For Split 1\n",
      "train accuracy:0.978110599078341\n",
      "test accuracy:0.8663594470046083\n",
      "For Split 2\n",
      "train accuracy:0.9758064516129032\n",
      "test accuracy:0.880184331797235\n",
      "For Split 3\n",
      "train accuracy:0.9769585253456221\n",
      "test accuracy:0.8617511520737328\n",
      "For Split 4\n"
     ]
    },
    {
     "name": "stderr",
     "output_type": "stream",
     "text": [
      "\u001b[32m[I 2022-12-03 10:37:05,489]\u001b[0m Trial 42 finished with value: 0.8563809523809525 and parameters: {'n_estimators': 78, 'max_depth': 5, 'criterion': 'gini'}. Best is trial 25 with value: 0.857904761904762.\u001b[0m\n"
     ]
    },
    {
     "name": "stdout",
     "output_type": "stream",
     "text": [
      "train accuracy:0.9735023041474654\n",
      "test accuracy:0.9170506912442397\n",
      "For Split 0\n",
      "train accuracy:0.9723502304147466\n",
      "test accuracy:0.9170506912442397\n",
      "For Split 1\n",
      "train accuracy:0.9758064516129032\n",
      "test accuracy:0.8663594470046083\n",
      "For Split 2\n",
      "train accuracy:0.978110599078341\n",
      "test accuracy:0.880184331797235\n",
      "For Split 3\n",
      "train accuracy:0.9769585253456221\n",
      "test accuracy:0.8617511520737328\n",
      "For Split 4\n"
     ]
    },
    {
     "name": "stderr",
     "output_type": "stream",
     "text": [
      "\u001b[32m[I 2022-12-03 10:37:08,577]\u001b[0m Trial 43 finished with value: 0.8552380952380952 and parameters: {'n_estimators': 76, 'max_depth': 5, 'criterion': 'gini'}. Best is trial 25 with value: 0.857904761904762.\u001b[0m\n"
     ]
    },
    {
     "name": "stdout",
     "output_type": "stream",
     "text": [
      "train accuracy:0.9711981566820277\n",
      "test accuracy:0.9124423963133641\n",
      "For Split 0\n",
      "train accuracy:0.9735023041474654\n",
      "test accuracy:0.9078341013824884\n",
      "For Split 1\n",
      "train accuracy:0.9746543778801844\n",
      "test accuracy:0.8755760368663594\n",
      "For Split 2\n",
      "train accuracy:0.978110599078341\n",
      "test accuracy:0.880184331797235\n",
      "For Split 3\n",
      "train accuracy:0.9758064516129032\n",
      "test accuracy:0.847926267281106\n",
      "For Split 4\n"
     ]
    },
    {
     "name": "stderr",
     "output_type": "stream",
     "text": [
      "\u001b[32m[I 2022-12-03 10:37:12,267]\u001b[0m Trial 44 finished with value: 0.8579047619047617 and parameters: {'n_estimators': 88, 'max_depth': 5, 'criterion': 'gini'}. Best is trial 25 with value: 0.857904761904762.\u001b[0m\n"
     ]
    },
    {
     "name": "stdout",
     "output_type": "stream",
     "text": [
      "train accuracy:0.9711981566820277\n",
      "test accuracy:0.9170506912442397\n",
      "For Split 0\n",
      "train accuracy:0.9735023041474654\n",
      "test accuracy:0.9078341013824884\n",
      "For Split 1\n",
      "train accuracy:0.9746543778801844\n",
      "test accuracy:0.8755760368663594\n",
      "For Split 2\n",
      "train accuracy:0.978110599078341\n",
      "test accuracy:0.880184331797235\n",
      "For Split 3\n",
      "train accuracy:0.9758064516129032\n",
      "test accuracy:0.847926267281106\n",
      "For Split 4\n"
     ]
    },
    {
     "name": "stderr",
     "output_type": "stream",
     "text": [
      "\u001b[32m[I 2022-12-03 10:37:15,732]\u001b[0m Trial 45 finished with value: 0.8579047619047617 and parameters: {'n_estimators': 88, 'max_depth': 5, 'criterion': 'gini'}. Best is trial 25 with value: 0.857904761904762.\u001b[0m\n"
     ]
    },
    {
     "name": "stdout",
     "output_type": "stream",
     "text": [
      "train accuracy:0.9711981566820277\n",
      "test accuracy:0.9170506912442397\n",
      "For Split 0\n",
      "train accuracy:0.9896313364055299\n",
      "test accuracy:0.9308755760368663\n",
      "For Split 1\n",
      "train accuracy:0.9919354838709677\n",
      "test accuracy:0.880184331797235\n",
      "For Split 2\n",
      "train accuracy:0.9873271889400922\n",
      "test accuracy:0.8663594470046083\n",
      "For Split 3\n",
      "train accuracy:0.9861751152073732\n",
      "test accuracy:0.8755760368663594\n",
      "For Split 4\n"
     ]
    },
    {
     "name": "stderr",
     "output_type": "stream",
     "text": [
      "\u001b[32m[I 2022-12-03 10:37:19,592]\u001b[0m Trial 46 finished with value: 0.8346666666666666 and parameters: {'n_estimators': 88, 'max_depth': 6, 'criterion': 'gini'}. Best is trial 25 with value: 0.857904761904762.\u001b[0m\n"
     ]
    },
    {
     "name": "stdout",
     "output_type": "stream",
     "text": [
      "train accuracy:0.9873271889400922\n",
      "test accuracy:0.9124423963133641\n",
      "For Split 0\n",
      "train accuracy:0.9516129032258065\n",
      "test accuracy:0.9170506912442397\n",
      "For Split 1\n",
      "train accuracy:0.9550691244239631\n",
      "test accuracy:0.8571428571428571\n",
      "For Split 2\n",
      "train accuracy:0.9493087557603687\n",
      "test accuracy:0.8663594470046083\n",
      "For Split 3\n",
      "train accuracy:0.9423963133640553\n",
      "test accuracy:0.8663594470046083\n",
      "For Split 4\n"
     ]
    },
    {
     "name": "stderr",
     "output_type": "stream",
     "text": [
      "\u001b[32m[I 2022-12-03 10:37:23,876]\u001b[0m Trial 47 finished with value: 0.8201904761904762 and parameters: {'n_estimators': 84, 'max_depth': 4, 'criterion': 'entropy'}. Best is trial 25 with value: 0.857904761904762.\u001b[0m\n"
     ]
    },
    {
     "name": "stdout",
     "output_type": "stream",
     "text": [
      "train accuracy:0.9447004608294931\n",
      "test accuracy:0.9032258064516129\n",
      "For Split 0\n",
      "train accuracy:0.978110599078341\n",
      "test accuracy:0.9078341013824884\n",
      "For Split 1\n",
      "train accuracy:0.9746543778801844\n",
      "test accuracy:0.8755760368663594\n",
      "For Split 2\n",
      "train accuracy:0.9758064516129032\n",
      "test accuracy:0.8755760368663594\n",
      "For Split 3\n",
      "train accuracy:0.9769585253456221\n",
      "test accuracy:0.8617511520737328\n",
      "For Split 4\n"
     ]
    },
    {
     "name": "stderr",
     "output_type": "stream",
     "text": [
      "\u001b[32m[I 2022-12-03 10:37:27,787]\u001b[0m Trial 48 finished with value: 0.8598095238095238 and parameters: {'n_estimators': 100, 'max_depth': 5, 'criterion': 'gini'}. Best is trial 48 with value: 0.8598095238095238.\u001b[0m\n"
     ]
    },
    {
     "name": "stdout",
     "output_type": "stream",
     "text": [
      "train accuracy:0.9758064516129032\n",
      "test accuracy:0.9078341013824884\n",
      "For Split 0\n",
      "train accuracy:0.9919354838709677\n",
      "test accuracy:0.9262672811059908\n",
      "For Split 1\n",
      "train accuracy:0.9919354838709677\n",
      "test accuracy:0.8894009216589862\n",
      "For Split 2\n",
      "train accuracy:0.988479262672811\n",
      "test accuracy:0.8709677419354839\n",
      "For Split 3\n",
      "train accuracy:0.9930875576036866\n",
      "test accuracy:0.8847926267281107\n",
      "For Split 4\n"
     ]
    },
    {
     "name": "stderr",
     "output_type": "stream",
     "text": [
      "\u001b[32m[I 2022-12-03 10:37:32,171]\u001b[0m Trial 49 finished with value: 0.8312380952380952 and parameters: {'n_estimators': 100, 'max_depth': 6, 'criterion': 'gini'}. Best is trial 48 with value: 0.8598095238095238.\u001b[0m\n"
     ]
    },
    {
     "name": "stdout",
     "output_type": "stream",
     "text": [
      "train accuracy:0.9873271889400922\n",
      "test accuracy:0.9032258064516129\n",
      "For Split 0\n",
      "train accuracy:0.9447004608294931\n",
      "test accuracy:0.9170506912442397\n",
      "For Split 1\n",
      "train accuracy:0.956221198156682\n",
      "test accuracy:0.8755760368663594\n",
      "For Split 2\n",
      "train accuracy:0.9539170506912442\n",
      "test accuracy:0.8894009216589862\n",
      "For Split 3\n",
      "train accuracy:0.9493087557603687\n",
      "test accuracy:0.8571428571428571\n",
      "For Split 4\n"
     ]
    },
    {
     "name": "stderr",
     "output_type": "stream",
     "text": [
      "\u001b[32m[I 2022-12-03 10:37:35,580]\u001b[0m Trial 50 finished with value: 0.8361904761904763 and parameters: {'n_estimators': 93, 'max_depth': 4, 'criterion': 'gini'}. Best is trial 48 with value: 0.8598095238095238.\u001b[0m\n"
     ]
    },
    {
     "name": "stdout",
     "output_type": "stream",
     "text": [
      "train accuracy:0.9550691244239631\n",
      "test accuracy:0.9124423963133641\n",
      "For Split 0\n",
      "train accuracy:0.9735023041474654\n",
      "test accuracy:0.9124423963133641\n",
      "For Split 1\n",
      "train accuracy:0.9758064516129032\n",
      "test accuracy:0.8709677419354839\n",
      "For Split 2\n",
      "train accuracy:0.978110599078341\n",
      "test accuracy:0.880184331797235\n",
      "For Split 3\n",
      "train accuracy:0.9769585253456221\n",
      "test accuracy:0.8525345622119815\n",
      "For Split 4\n"
     ]
    },
    {
     "name": "stderr",
     "output_type": "stream",
     "text": [
      "\u001b[32m[I 2022-12-03 10:37:39,155]\u001b[0m Trial 51 finished with value: 0.8571428571428571 and parameters: {'n_estimators': 89, 'max_depth': 5, 'criterion': 'gini'}. Best is trial 48 with value: 0.8598095238095238.\u001b[0m\n"
     ]
    },
    {
     "name": "stdout",
     "output_type": "stream",
     "text": [
      "train accuracy:0.9723502304147466\n",
      "test accuracy:0.9124423963133641\n",
      "For Split 0\n",
      "train accuracy:0.9746543778801844\n",
      "test accuracy:0.9078341013824884\n",
      "For Split 1\n",
      "train accuracy:0.9746543778801844\n",
      "test accuracy:0.880184331797235\n",
      "For Split 2\n",
      "train accuracy:0.9769585253456221\n",
      "test accuracy:0.8755760368663594\n",
      "For Split 3\n",
      "train accuracy:0.9769585253456221\n",
      "test accuracy:0.8525345622119815\n",
      "For Split 4\n"
     ]
    },
    {
     "name": "stderr",
     "output_type": "stream",
     "text": [
      "\u001b[32m[I 2022-12-03 10:37:42,853]\u001b[0m Trial 52 finished with value: 0.8586666666666666 and parameters: {'n_estimators': 90, 'max_depth': 5, 'criterion': 'gini'}. Best is trial 48 with value: 0.8598095238095238.\u001b[0m\n"
     ]
    },
    {
     "name": "stdout",
     "output_type": "stream",
     "text": [
      "train accuracy:0.9735023041474654\n",
      "test accuracy:0.9124423963133641\n",
      "For Split 0\n",
      "train accuracy:0.978110599078341\n",
      "test accuracy:0.9078341013824884\n",
      "For Split 1\n",
      "train accuracy:0.9758064516129032\n",
      "test accuracy:0.8663594470046083\n",
      "For Split 2\n",
      "train accuracy:0.9769585253456221\n",
      "test accuracy:0.880184331797235\n",
      "For Split 3\n",
      "train accuracy:0.978110599078341\n",
      "test accuracy:0.8663594470046083\n",
      "For Split 4\n"
     ]
    },
    {
     "name": "stderr",
     "output_type": "stream",
     "text": [
      "\u001b[32m[I 2022-12-03 10:37:47,129]\u001b[0m Trial 53 finished with value: 0.857904761904762 and parameters: {'n_estimators': 101, 'max_depth': 5, 'criterion': 'gini'}. Best is trial 48 with value: 0.8598095238095238.\u001b[0m\n"
     ]
    },
    {
     "name": "stdout",
     "output_type": "stream",
     "text": [
      "train accuracy:0.9758064516129032\n",
      "test accuracy:0.9078341013824884\n",
      "For Split 0\n",
      "train accuracy:0.978110599078341\n",
      "test accuracy:0.9078341013824884\n",
      "For Split 1\n",
      "train accuracy:0.9758064516129032\n",
      "test accuracy:0.8663594470046083\n",
      "For Split 2\n",
      "train accuracy:0.9769585253456221\n",
      "test accuracy:0.880184331797235\n",
      "For Split 3\n",
      "train accuracy:0.978110599078341\n",
      "test accuracy:0.8663594470046083\n",
      "For Split 4\n"
     ]
    },
    {
     "name": "stderr",
     "output_type": "stream",
     "text": [
      "\u001b[32m[I 2022-12-03 10:37:51,146]\u001b[0m Trial 54 finished with value: 0.857904761904762 and parameters: {'n_estimators': 101, 'max_depth': 5, 'criterion': 'gini'}. Best is trial 48 with value: 0.8598095238095238.\u001b[0m\n"
     ]
    },
    {
     "name": "stdout",
     "output_type": "stream",
     "text": [
      "train accuracy:0.9758064516129032\n",
      "test accuracy:0.9078341013824884\n",
      "For Split 0\n",
      "train accuracy:0.9919354838709677\n",
      "test accuracy:0.9262672811059908\n",
      "For Split 1\n",
      "train accuracy:0.9930875576036866\n",
      "test accuracy:0.8894009216589862\n",
      "For Split 2\n",
      "train accuracy:0.988479262672811\n",
      "test accuracy:0.8709677419354839\n",
      "For Split 3\n",
      "train accuracy:0.9930875576036866\n",
      "test accuracy:0.8894009216589862\n",
      "For Split 4\n"
     ]
    },
    {
     "name": "stderr",
     "output_type": "stream",
     "text": [
      "\u001b[32m[I 2022-12-03 10:37:56,314]\u001b[0m Trial 55 finished with value: 0.8316190476190476 and parameters: {'n_estimators': 101, 'max_depth': 6, 'criterion': 'gini'}. Best is trial 48 with value: 0.8598095238095238.\u001b[0m\n"
     ]
    },
    {
     "name": "stdout",
     "output_type": "stream",
     "text": [
      "train accuracy:0.9873271889400922\n",
      "test accuracy:0.9078341013824884\n",
      "For Split 0\n",
      "train accuracy:0.9769585253456221\n",
      "test accuracy:0.9078341013824884\n",
      "For Split 1\n",
      "train accuracy:0.9746543778801844\n",
      "test accuracy:0.8755760368663594\n",
      "For Split 2\n",
      "train accuracy:0.9769585253456221\n",
      "test accuracy:0.8755760368663594\n",
      "For Split 3\n",
      "train accuracy:0.978110599078341\n",
      "test accuracy:0.8617511520737328\n",
      "For Split 4\n"
     ]
    },
    {
     "name": "stderr",
     "output_type": "stream",
     "text": [
      "\u001b[32m[I 2022-12-03 10:38:00,274]\u001b[0m Trial 56 finished with value: 0.8556190476190476 and parameters: {'n_estimators': 96, 'max_depth': 5, 'criterion': 'gini'}. Best is trial 48 with value: 0.8598095238095238.\u001b[0m\n"
     ]
    },
    {
     "name": "stdout",
     "output_type": "stream",
     "text": [
      "train accuracy:0.9769585253456221\n",
      "test accuracy:0.9032258064516129\n",
      "For Split 0\n",
      "train accuracy:0.9919354838709677\n",
      "test accuracy:0.9262672811059908\n",
      "For Split 1\n",
      "train accuracy:0.9919354838709677\n",
      "test accuracy:0.8847926267281107\n",
      "For Split 2\n",
      "train accuracy:0.9873271889400922\n",
      "test accuracy:0.8617511520737328\n",
      "For Split 3\n",
      "train accuracy:0.9919354838709677\n",
      "test accuracy:0.880184331797235\n",
      "For Split 4\n"
     ]
    },
    {
     "name": "stderr",
     "output_type": "stream",
     "text": [
      "\u001b[32m[I 2022-12-03 10:38:04,882]\u001b[0m Trial 57 finished with value: 0.8358095238095238 and parameters: {'n_estimators': 97, 'max_depth': 6, 'criterion': 'gini'}. Best is trial 48 with value: 0.8598095238095238.\u001b[0m\n"
     ]
    },
    {
     "name": "stdout",
     "output_type": "stream",
     "text": [
      "train accuracy:0.9873271889400922\n",
      "test accuracy:0.9032258064516129\n",
      "For Split 0\n",
      "train accuracy:0.8905529953917051\n",
      "test accuracy:0.8894009216589862\n",
      "For Split 1\n",
      "train accuracy:0.9043778801843319\n",
      "test accuracy:0.847926267281106\n",
      "For Split 2\n",
      "train accuracy:0.8951612903225806\n",
      "test accuracy:0.8387096774193549\n",
      "For Split 3\n",
      "train accuracy:0.9032258064516129\n",
      "test accuracy:0.8341013824884793\n",
      "For Split 4\n"
     ]
    },
    {
     "name": "stderr",
     "output_type": "stream",
     "text": [
      "\u001b[32m[I 2022-12-03 10:38:07,658]\u001b[0m Trial 58 finished with value: 0.7603809523809523 and parameters: {'n_estimators': 92, 'max_depth': 2, 'criterion': 'entropy'}. Best is trial 48 with value: 0.8598095238095238.\u001b[0m\n"
     ]
    },
    {
     "name": "stdout",
     "output_type": "stream",
     "text": [
      "train accuracy:0.8905529953917051\n",
      "test accuracy:0.8940092165898618\n",
      "For Split 0\n",
      "train accuracy:0.978110599078341\n",
      "test accuracy:0.9078341013824884\n",
      "For Split 1\n",
      "train accuracy:0.9746543778801844\n",
      "test accuracy:0.8755760368663594\n",
      "For Split 2\n",
      "train accuracy:0.9758064516129032\n",
      "test accuracy:0.8755760368663594\n",
      "For Split 3\n",
      "train accuracy:0.9769585253456221\n",
      "test accuracy:0.8617511520737328\n",
      "For Split 4\n"
     ]
    },
    {
     "name": "stderr",
     "output_type": "stream",
     "text": [
      "\u001b[32m[I 2022-12-03 10:38:11,745]\u001b[0m Trial 59 finished with value: 0.8598095238095238 and parameters: {'n_estimators': 100, 'max_depth': 5, 'criterion': 'gini'}. Best is trial 48 with value: 0.8598095238095238.\u001b[0m\n"
     ]
    },
    {
     "name": "stdout",
     "output_type": "stream",
     "text": [
      "train accuracy:0.9758064516129032\n",
      "test accuracy:0.9078341013824884\n",
      "For Split 0\n",
      "train accuracy:0.9481566820276498\n",
      "test accuracy:0.9216589861751152\n",
      "For Split 1\n",
      "train accuracy:0.9527649769585254\n",
      "test accuracy:0.8755760368663594\n",
      "For Split 2\n",
      "train accuracy:0.9527649769585254\n",
      "test accuracy:0.8847926267281107\n",
      "For Split 3\n",
      "train accuracy:0.9493087557603687\n",
      "test accuracy:0.8663594470046083\n",
      "For Split 4\n"
     ]
    },
    {
     "name": "stderr",
     "output_type": "stream",
     "text": [
      "\u001b[32m[I 2022-12-03 10:38:15,256]\u001b[0m Trial 60 finished with value: 0.8331428571428573 and parameters: {'n_estimators': 101, 'max_depth': 4, 'criterion': 'gini'}. Best is trial 48 with value: 0.8598095238095238.\u001b[0m\n"
     ]
    },
    {
     "name": "stdout",
     "output_type": "stream",
     "text": [
      "train accuracy:0.9550691244239631\n",
      "test accuracy:0.9216589861751152\n",
      "For Split 0\n",
      "train accuracy:0.9769585253456221\n",
      "test accuracy:0.9078341013824884\n",
      "For Split 1\n",
      "train accuracy:0.9758064516129032\n",
      "test accuracy:0.8755760368663594\n",
      "For Split 2\n",
      "train accuracy:0.9769585253456221\n",
      "test accuracy:0.8755760368663594\n",
      "For Split 3\n",
      "train accuracy:0.9769585253456221\n",
      "test accuracy:0.8617511520737328\n",
      "For Split 4\n"
     ]
    },
    {
     "name": "stderr",
     "output_type": "stream",
     "text": [
      "\u001b[32m[I 2022-12-03 10:38:19,457]\u001b[0m Trial 61 finished with value: 0.8567619047619047 and parameters: {'n_estimators': 98, 'max_depth': 5, 'criterion': 'gini'}. Best is trial 48 with value: 0.8598095238095238.\u001b[0m\n"
     ]
    },
    {
     "name": "stdout",
     "output_type": "stream",
     "text": [
      "train accuracy:0.9746543778801844\n",
      "test accuracy:0.8986175115207373\n",
      "For Split 0\n",
      "train accuracy:0.9769585253456221\n",
      "test accuracy:0.9078341013824884\n",
      "For Split 1\n",
      "train accuracy:0.9758064516129032\n",
      "test accuracy:0.8709677419354839\n",
      "For Split 2\n",
      "train accuracy:0.9769585253456221\n",
      "test accuracy:0.8755760368663594\n",
      "For Split 3\n",
      "train accuracy:0.978110599078341\n",
      "test accuracy:0.8571428571428571\n",
      "For Split 4\n"
     ]
    },
    {
     "name": "stderr",
     "output_type": "stream",
     "text": [
      "\u001b[32m[I 2022-12-03 10:38:23,308]\u001b[0m Trial 62 finished with value: 0.8613333333333333 and parameters: {'n_estimators': 95, 'max_depth': 5, 'criterion': 'gini'}. Best is trial 62 with value: 0.8613333333333333.\u001b[0m\n"
     ]
    },
    {
     "name": "stdout",
     "output_type": "stream",
     "text": [
      "train accuracy:0.9758064516129032\n",
      "test accuracy:0.9124423963133641\n",
      "For Split 0\n",
      "train accuracy:0.9758064516129032\n",
      "test accuracy:0.9078341013824884\n",
      "For Split 1\n",
      "train accuracy:0.9746543778801844\n",
      "test accuracy:0.8755760368663594\n",
      "For Split 2\n",
      "train accuracy:0.9758064516129032\n",
      "test accuracy:0.8755760368663594\n",
      "For Split 3\n",
      "train accuracy:0.9769585253456221\n",
      "test accuracy:0.8525345622119815\n",
      "For Split 4\n"
     ]
    },
    {
     "name": "stderr",
     "output_type": "stream",
     "text": [
      "\u001b[32m[I 2022-12-03 10:38:27,863]\u001b[0m Trial 63 finished with value: 0.8617142857142858 and parameters: {'n_estimators': 94, 'max_depth': 5, 'criterion': 'gini'}. Best is trial 63 with value: 0.8617142857142858.\u001b[0m\n"
     ]
    },
    {
     "name": "stdout",
     "output_type": "stream",
     "text": [
      "train accuracy:0.9758064516129032\n",
      "test accuracy:0.9078341013824884\n",
      "For Split 0\n",
      "train accuracy:0.9758064516129032\n",
      "test accuracy:0.9078341013824884\n",
      "For Split 1\n",
      "train accuracy:0.9758064516129032\n",
      "test accuracy:0.880184331797235\n",
      "For Split 2\n",
      "train accuracy:0.9758064516129032\n",
      "test accuracy:0.8755760368663594\n",
      "For Split 3\n",
      "train accuracy:0.9769585253456221\n",
      "test accuracy:0.8571428571428571\n",
      "For Split 4\n"
     ]
    },
    {
     "name": "stderr",
     "output_type": "stream",
     "text": [
      "\u001b[32m[I 2022-12-03 10:38:32,072]\u001b[0m Trial 64 finished with value: 0.8651428571428571 and parameters: {'n_estimators': 93, 'max_depth': 5, 'criterion': 'gini'}. Best is trial 64 with value: 0.8651428571428571.\u001b[0m\n"
     ]
    },
    {
     "name": "stdout",
     "output_type": "stream",
     "text": [
      "train accuracy:0.9746543778801844\n",
      "test accuracy:0.9170506912442397\n",
      "For Split 0\n",
      "train accuracy:0.9896313364055299\n",
      "test accuracy:0.9262672811059908\n",
      "For Split 1\n",
      "train accuracy:0.9919354838709677\n",
      "test accuracy:0.880184331797235\n",
      "For Split 2\n",
      "train accuracy:0.9873271889400922\n",
      "test accuracy:0.8617511520737328\n",
      "For Split 3\n",
      "train accuracy:0.9919354838709677\n",
      "test accuracy:0.8755760368663594\n",
      "For Split 4\n"
     ]
    },
    {
     "name": "stderr",
     "output_type": "stream",
     "text": [
      "\u001b[32m[I 2022-12-03 10:38:36,373]\u001b[0m Trial 65 finished with value: 0.8369523809523809 and parameters: {'n_estimators': 94, 'max_depth': 6, 'criterion': 'gini'}. Best is trial 64 with value: 0.8651428571428571.\u001b[0m\n"
     ]
    },
    {
     "name": "stdout",
     "output_type": "stream",
     "text": [
      "train accuracy:0.9861751152073732\n",
      "test accuracy:0.9032258064516129\n",
      "For Split 0\n",
      "train accuracy:0.9735023041474654\n",
      "test accuracy:0.9124423963133641\n",
      "For Split 1\n",
      "train accuracy:0.9758064516129032\n",
      "test accuracy:0.8709677419354839\n",
      "For Split 2\n",
      "train accuracy:0.9769585253456221\n",
      "test accuracy:0.880184331797235\n",
      "For Split 3\n",
      "train accuracy:0.9758064516129032\n",
      "test accuracy:0.8617511520737328\n",
      "For Split 4\n"
     ]
    },
    {
     "name": "stderr",
     "output_type": "stream",
     "text": [
      "\u001b[32m[I 2022-12-03 10:38:39,846]\u001b[0m Trial 66 finished with value: 0.8571428571428571 and parameters: {'n_estimators': 83, 'max_depth': 5, 'criterion': 'gini'}. Best is trial 64 with value: 0.8651428571428571.\u001b[0m\n"
     ]
    },
    {
     "name": "stdout",
     "output_type": "stream",
     "text": [
      "train accuracy:0.9735023041474654\n",
      "test accuracy:0.9170506912442397\n",
      "For Split 0\n",
      "train accuracy:0.9746543778801844\n",
      "test accuracy:0.9078341013824884\n",
      "For Split 1\n",
      "train accuracy:0.9746543778801844\n",
      "test accuracy:0.880184331797235\n",
      "For Split 2\n",
      "train accuracy:0.9769585253456221\n",
      "test accuracy:0.8755760368663594\n",
      "For Split 3\n",
      "train accuracy:0.9769585253456221\n",
      "test accuracy:0.8525345622119815\n",
      "For Split 4\n"
     ]
    },
    {
     "name": "stderr",
     "output_type": "stream",
     "text": [
      "\u001b[32m[I 2022-12-03 10:38:43,505]\u001b[0m Trial 67 finished with value: 0.8586666666666666 and parameters: {'n_estimators': 90, 'max_depth': 5, 'criterion': 'gini'}. Best is trial 64 with value: 0.8651428571428571.\u001b[0m\n"
     ]
    },
    {
     "name": "stdout",
     "output_type": "stream",
     "text": [
      "train accuracy:0.9735023041474654\n",
      "test accuracy:0.9124423963133641\n",
      "For Split 0\n",
      "train accuracy:0.9746543778801844\n",
      "test accuracy:0.9078341013824884\n",
      "For Split 1\n",
      "train accuracy:0.9746543778801844\n",
      "test accuracy:0.880184331797235\n",
      "For Split 2\n",
      "train accuracy:0.9769585253456221\n",
      "test accuracy:0.8755760368663594\n",
      "For Split 3\n",
      "train accuracy:0.9769585253456221\n",
      "test accuracy:0.8525345622119815\n",
      "For Split 4\n"
     ]
    },
    {
     "name": "stderr",
     "output_type": "stream",
     "text": [
      "\u001b[32m[I 2022-12-03 10:38:47,114]\u001b[0m Trial 68 finished with value: 0.8586666666666666 and parameters: {'n_estimators': 90, 'max_depth': 5, 'criterion': 'gini'}. Best is trial 64 with value: 0.8651428571428571.\u001b[0m\n"
     ]
    },
    {
     "name": "stdout",
     "output_type": "stream",
     "text": [
      "train accuracy:0.9735023041474654\n",
      "test accuracy:0.9124423963133641\n",
      "For Split 0\n",
      "train accuracy:0.945852534562212\n",
      "test accuracy:0.9216589861751152\n",
      "For Split 1\n",
      "train accuracy:0.9539170506912442\n",
      "test accuracy:0.8709677419354839\n",
      "For Split 2\n",
      "train accuracy:0.9516129032258065\n",
      "test accuracy:0.8894009216589862\n",
      "For Split 3\n",
      "train accuracy:0.945852534562212\n",
      "test accuracy:0.8663594470046083\n",
      "For Split 4\n"
     ]
    },
    {
     "name": "stderr",
     "output_type": "stream",
     "text": [
      "\u001b[32m[I 2022-12-03 10:38:50,419]\u001b[0m Trial 69 finished with value: 0.836190476190476 and parameters: {'n_estimators': 86, 'max_depth': 4, 'criterion': 'gini'}. Best is trial 64 with value: 0.8651428571428571.\u001b[0m\n"
     ]
    },
    {
     "name": "stdout",
     "output_type": "stream",
     "text": [
      "train accuracy:0.9527649769585254\n",
      "test accuracy:0.9124423963133641\n",
      "For Split 0\n",
      "train accuracy:0.9907834101382489\n",
      "test accuracy:0.9308755760368663\n",
      "For Split 1\n",
      "train accuracy:0.9907834101382489\n",
      "test accuracy:0.8847926267281107\n",
      "For Split 2\n",
      "train accuracy:0.9873271889400922\n",
      "test accuracy:0.8571428571428571\n",
      "For Split 3\n",
      "train accuracy:0.9930875576036866\n",
      "test accuracy:0.8755760368663594\n",
      "For Split 4\n"
     ]
    },
    {
     "name": "stderr",
     "output_type": "stream",
     "text": [
      "\u001b[32m[I 2022-12-03 10:38:54,957]\u001b[0m Trial 70 finished with value: 0.8380952380952381 and parameters: {'n_estimators': 95, 'max_depth': 6, 'criterion': 'gini'}. Best is trial 64 with value: 0.8651428571428571.\u001b[0m\n"
     ]
    },
    {
     "name": "stdout",
     "output_type": "stream",
     "text": [
      "train accuracy:0.988479262672811\n",
      "test accuracy:0.9078341013824884\n",
      "For Split 0\n",
      "train accuracy:0.9735023041474654\n",
      "test accuracy:0.9032258064516129\n",
      "For Split 1\n",
      "train accuracy:0.9758064516129032\n",
      "test accuracy:0.8847926267281107\n",
      "For Split 2\n",
      "train accuracy:0.9758064516129032\n",
      "test accuracy:0.8755760368663594\n",
      "For Split 3\n",
      "train accuracy:0.9769585253456221\n",
      "test accuracy:0.8571428571428571\n",
      "For Split 4\n"
     ]
    },
    {
     "name": "stderr",
     "output_type": "stream",
     "text": [
      "\u001b[32m[I 2022-12-03 10:38:59,180]\u001b[0m Trial 71 finished with value: 0.8624761904761904 and parameters: {'n_estimators': 91, 'max_depth': 5, 'criterion': 'gini'}. Best is trial 64 with value: 0.8651428571428571.\u001b[0m\n"
     ]
    },
    {
     "name": "stdout",
     "output_type": "stream",
     "text": [
      "train accuracy:0.9746543778801844\n",
      "test accuracy:0.9124423963133641\n",
      "For Split 0\n",
      "train accuracy:0.9735023041474654\n",
      "test accuracy:0.9032258064516129\n",
      "For Split 1\n",
      "train accuracy:0.9758064516129032\n",
      "test accuracy:0.8847926267281107\n",
      "For Split 2\n",
      "train accuracy:0.9758064516129032\n",
      "test accuracy:0.8755760368663594\n",
      "For Split 3\n",
      "train accuracy:0.9769585253456221\n",
      "test accuracy:0.8571428571428571\n",
      "For Split 4\n"
     ]
    },
    {
     "name": "stderr",
     "output_type": "stream",
     "text": [
      "\u001b[32m[I 2022-12-03 10:39:03,229]\u001b[0m Trial 72 finished with value: 0.8624761904761904 and parameters: {'n_estimators': 91, 'max_depth': 5, 'criterion': 'gini'}. Best is trial 64 with value: 0.8651428571428571.\u001b[0m\n"
     ]
    },
    {
     "name": "stdout",
     "output_type": "stream",
     "text": [
      "train accuracy:0.9746543778801844\n",
      "test accuracy:0.9124423963133641\n",
      "For Split 0\n",
      "train accuracy:0.9758064516129032\n",
      "test accuracy:0.9032258064516129\n",
      "For Split 1\n",
      "train accuracy:0.978110599078341\n",
      "test accuracy:0.880184331797235\n",
      "For Split 2\n",
      "train accuracy:0.9758064516129032\n",
      "test accuracy:0.8755760368663594\n",
      "For Split 3\n",
      "train accuracy:0.9758064516129032\n",
      "test accuracy:0.8571428571428571\n",
      "For Split 4\n"
     ]
    },
    {
     "name": "stderr",
     "output_type": "stream",
     "text": [
      "\u001b[32m[I 2022-12-03 10:39:06,989]\u001b[0m Trial 73 finished with value: 0.8617142857142858 and parameters: {'n_estimators': 92, 'max_depth': 5, 'criterion': 'gini'}. Best is trial 64 with value: 0.8651428571428571.\u001b[0m\n"
     ]
    },
    {
     "name": "stdout",
     "output_type": "stream",
     "text": [
      "train accuracy:0.9746543778801844\n",
      "test accuracy:0.9124423963133641\n",
      "For Split 0\n",
      "train accuracy:0.9769585253456221\n",
      "test accuracy:0.9078341013824884\n",
      "For Split 1\n",
      "train accuracy:0.9746543778801844\n",
      "test accuracy:0.8755760368663594\n",
      "For Split 2\n",
      "train accuracy:0.9769585253456221\n",
      "test accuracy:0.8755760368663594\n",
      "For Split 3\n",
      "train accuracy:0.978110599078341\n",
      "test accuracy:0.8617511520737328\n",
      "For Split 4\n"
     ]
    },
    {
     "name": "stderr",
     "output_type": "stream",
     "text": [
      "\u001b[32m[I 2022-12-03 10:39:10,899]\u001b[0m Trial 74 finished with value: 0.8556190476190476 and parameters: {'n_estimators': 96, 'max_depth': 5, 'criterion': 'gini'}. Best is trial 64 with value: 0.8651428571428571.\u001b[0m\n"
     ]
    },
    {
     "name": "stdout",
     "output_type": "stream",
     "text": [
      "train accuracy:0.9769585253456221\n",
      "test accuracy:0.9032258064516129\n",
      "For Split 0\n",
      "train accuracy:0.9758064516129032\n",
      "test accuracy:0.9078341013824884\n",
      "For Split 1\n",
      "train accuracy:0.9758064516129032\n",
      "test accuracy:0.880184331797235\n",
      "For Split 2\n",
      "train accuracy:0.9758064516129032\n",
      "test accuracy:0.8755760368663594\n",
      "For Split 3\n",
      "train accuracy:0.9769585253456221\n",
      "test accuracy:0.8571428571428571\n",
      "For Split 4\n"
     ]
    },
    {
     "name": "stderr",
     "output_type": "stream",
     "text": [
      "\u001b[32m[I 2022-12-03 10:39:14,876]\u001b[0m Trial 75 finished with value: 0.8651428571428571 and parameters: {'n_estimators': 93, 'max_depth': 5, 'criterion': 'gini'}. Best is trial 64 with value: 0.8651428571428571.\u001b[0m\n"
     ]
    },
    {
     "name": "stdout",
     "output_type": "stream",
     "text": [
      "train accuracy:0.9746543778801844\n",
      "test accuracy:0.9170506912442397\n",
      "For Split 0\n",
      "train accuracy:0.9493087557603687\n",
      "test accuracy:0.9216589861751152\n",
      "For Split 1\n",
      "train accuracy:0.9539170506912442\n",
      "test accuracy:0.8709677419354839\n",
      "For Split 2\n",
      "train accuracy:0.9527649769585254\n",
      "test accuracy:0.8847926267281107\n",
      "For Split 3\n",
      "train accuracy:0.9447004608294931\n",
      "test accuracy:0.8663594470046083\n",
      "For Split 4\n"
     ]
    },
    {
     "name": "stderr",
     "output_type": "stream",
     "text": [
      "\u001b[32m[I 2022-12-03 10:39:17,920]\u001b[0m Trial 76 finished with value: 0.8281904761904763 and parameters: {'n_estimators': 85, 'max_depth': 4, 'criterion': 'gini'}. Best is trial 64 with value: 0.8651428571428571.\u001b[0m\n"
     ]
    },
    {
     "name": "stdout",
     "output_type": "stream",
     "text": [
      "train accuracy:0.9527649769585254\n",
      "test accuracy:0.9170506912442397\n",
      "For Split 0\n",
      "train accuracy:0.9758064516129032\n",
      "test accuracy:0.9078341013824884\n",
      "For Split 1\n",
      "train accuracy:0.9758064516129032\n",
      "test accuracy:0.880184331797235\n",
      "For Split 2\n",
      "train accuracy:0.9758064516129032\n",
      "test accuracy:0.8755760368663594\n",
      "For Split 3\n",
      "train accuracy:0.9769585253456221\n",
      "test accuracy:0.8571428571428571\n",
      "For Split 4\n"
     ]
    },
    {
     "name": "stderr",
     "output_type": "stream",
     "text": [
      "\u001b[32m[I 2022-12-03 10:39:21,714]\u001b[0m Trial 77 finished with value: 0.8651428571428571 and parameters: {'n_estimators': 93, 'max_depth': 5, 'criterion': 'gini'}. Best is trial 64 with value: 0.8651428571428571.\u001b[0m\n"
     ]
    },
    {
     "name": "stdout",
     "output_type": "stream",
     "text": [
      "train accuracy:0.9746543778801844\n",
      "test accuracy:0.9170506912442397\n",
      "For Split 0\n",
      "train accuracy:0.9746543778801844\n",
      "test accuracy:0.9262672811059908\n",
      "For Split 1\n",
      "train accuracy:0.9758064516129032\n",
      "test accuracy:0.8709677419354839\n",
      "For Split 2\n",
      "train accuracy:0.9792626728110599\n",
      "test accuracy:0.8755760368663594\n",
      "For Split 3\n",
      "train accuracy:0.966589861751152\n",
      "test accuracy:0.8709677419354839\n",
      "For Split 4\n"
     ]
    },
    {
     "name": "stderr",
     "output_type": "stream",
     "text": [
      "\u001b[32m[I 2022-12-03 10:39:25,853]\u001b[0m Trial 78 finished with value: 0.8293333333333333 and parameters: {'n_estimators': 81, 'max_depth': 5, 'criterion': 'entropy'}. Best is trial 64 with value: 0.8651428571428571.\u001b[0m\n"
     ]
    },
    {
     "name": "stdout",
     "output_type": "stream",
     "text": [
      "train accuracy:0.9711981566820277\n",
      "test accuracy:0.9078341013824884\n",
      "For Split 0\n",
      "train accuracy:0.9896313364055299\n",
      "test accuracy:0.9262672811059908\n",
      "For Split 1\n",
      "train accuracy:0.9919354838709677\n",
      "test accuracy:0.880184331797235\n",
      "For Split 2\n",
      "train accuracy:0.9873271889400922\n",
      "test accuracy:0.8617511520737328\n",
      "For Split 3\n",
      "train accuracy:0.9896313364055299\n",
      "test accuracy:0.880184331797235\n",
      "For Split 4\n"
     ]
    },
    {
     "name": "stderr",
     "output_type": "stream",
     "text": [
      "\u001b[32m[I 2022-12-03 10:39:30,503]\u001b[0m Trial 79 finished with value: 0.8346666666666668 and parameters: {'n_estimators': 92, 'max_depth': 6, 'criterion': 'gini'}. Best is trial 64 with value: 0.8651428571428571.\u001b[0m\n"
     ]
    },
    {
     "name": "stdout",
     "output_type": "stream",
     "text": [
      "train accuracy:0.9861751152073732\n",
      "test accuracy:0.9078341013824884\n",
      "For Split 0\n",
      "train accuracy:0.9746543778801844\n",
      "test accuracy:0.9078341013824884\n",
      "For Split 1\n",
      "train accuracy:0.9735023041474654\n",
      "test accuracy:0.8663594470046083\n",
      "For Split 2\n",
      "train accuracy:0.978110599078341\n",
      "test accuracy:0.880184331797235\n",
      "For Split 3\n",
      "train accuracy:0.9758064516129032\n",
      "test accuracy:0.8525345622119815\n",
      "For Split 4\n"
     ]
    },
    {
     "name": "stderr",
     "output_type": "stream",
     "text": [
      "\u001b[32m[I 2022-12-03 10:39:34,110]\u001b[0m Trial 80 finished with value: 0.8594285714285714 and parameters: {'n_estimators': 86, 'max_depth': 5, 'criterion': 'gini'}. Best is trial 64 with value: 0.8651428571428571.\u001b[0m\n"
     ]
    },
    {
     "name": "stdout",
     "output_type": "stream",
     "text": [
      "train accuracy:0.9711981566820277\n",
      "test accuracy:0.9170506912442397\n",
      "For Split 0\n",
      "train accuracy:0.9758064516129032\n",
      "test accuracy:0.9078341013824884\n",
      "For Split 1\n",
      "train accuracy:0.9746543778801844\n",
      "test accuracy:0.8755760368663594\n",
      "For Split 2\n",
      "train accuracy:0.9758064516129032\n",
      "test accuracy:0.8755760368663594\n",
      "For Split 3\n",
      "train accuracy:0.9769585253456221\n",
      "test accuracy:0.8525345622119815\n",
      "For Split 4\n"
     ]
    },
    {
     "name": "stderr",
     "output_type": "stream",
     "text": [
      "\u001b[32m[I 2022-12-03 10:39:38,179]\u001b[0m Trial 81 finished with value: 0.8617142857142858 and parameters: {'n_estimators': 94, 'max_depth': 5, 'criterion': 'gini'}. Best is trial 64 with value: 0.8651428571428571.\u001b[0m\n"
     ]
    },
    {
     "name": "stdout",
     "output_type": "stream",
     "text": [
      "train accuracy:0.9758064516129032\n",
      "test accuracy:0.9078341013824884\n",
      "For Split 0\n",
      "train accuracy:0.9758064516129032\n",
      "test accuracy:0.9078341013824884\n",
      "For Split 1\n",
      "train accuracy:0.9746543778801844\n",
      "test accuracy:0.8755760368663594\n",
      "For Split 2\n",
      "train accuracy:0.9758064516129032\n",
      "test accuracy:0.8755760368663594\n",
      "For Split 3\n",
      "train accuracy:0.9769585253456221\n",
      "test accuracy:0.8525345622119815\n",
      "For Split 4\n"
     ]
    },
    {
     "name": "stderr",
     "output_type": "stream",
     "text": [
      "\u001b[32m[I 2022-12-03 10:39:42,039]\u001b[0m Trial 82 finished with value: 0.8617142857142858 and parameters: {'n_estimators': 94, 'max_depth': 5, 'criterion': 'gini'}. Best is trial 64 with value: 0.8651428571428571.\u001b[0m\n"
     ]
    },
    {
     "name": "stdout",
     "output_type": "stream",
     "text": [
      "train accuracy:0.9758064516129032\n",
      "test accuracy:0.9078341013824884\n",
      "For Split 0\n",
      "train accuracy:0.9688940092165899\n",
      "test accuracy:0.9170506912442397\n",
      "For Split 1\n",
      "train accuracy:0.9723502304147466\n",
      "test accuracy:0.8847926267281107\n",
      "For Split 2\n",
      "train accuracy:0.9735023041474654\n",
      "test accuracy:0.8847926267281107\n",
      "For Split 3\n",
      "train accuracy:0.9688940092165899\n",
      "test accuracy:0.8709677419354839\n",
      "For Split 4\n"
     ]
    },
    {
     "name": "stderr",
     "output_type": "stream",
     "text": [
      "\u001b[32m[I 2022-12-03 10:39:43,411]\u001b[0m Trial 83 finished with value: 0.819047619047619 and parameters: {'n_estimators': 32, 'max_depth': 5, 'criterion': 'gini'}. Best is trial 64 with value: 0.8651428571428571.\u001b[0m\n"
     ]
    },
    {
     "name": "stdout",
     "output_type": "stream",
     "text": [
      "train accuracy:0.9688940092165899\n",
      "test accuracy:0.9124423963133641\n",
      "For Split 0\n",
      "train accuracy:0.967741935483871\n",
      "test accuracy:0.9170506912442397\n",
      "For Split 1\n",
      "train accuracy:0.9735023041474654\n",
      "test accuracy:0.8847926267281107\n",
      "For Split 2\n",
      "train accuracy:0.966589861751152\n",
      "test accuracy:0.880184331797235\n",
      "For Split 3\n"
     ]
    },
    {
     "name": "stderr",
     "output_type": "stream",
     "text": [
      "\u001b[32m[I 2022-12-03 10:39:44,249]\u001b[0m Trial 84 finished with value: 0.7603809523809524 and parameters: {'n_estimators': 19, 'max_depth': 5, 'criterion': 'gini'}. Best is trial 64 with value: 0.8651428571428571.\u001b[0m\n"
     ]
    },
    {
     "name": "stdout",
     "output_type": "stream",
     "text": [
      "train accuracy:0.9642857142857143\n",
      "test accuracy:0.8709677419354839\n",
      "For Split 4\n",
      "train accuracy:0.9619815668202765\n",
      "test accuracy:0.9170506912442397\n",
      "For Split 0\n",
      "train accuracy:0.9735023041474654\n",
      "test accuracy:0.9032258064516129\n",
      "For Split 1\n",
      "train accuracy:0.9758064516129032\n",
      "test accuracy:0.8847926267281107\n",
      "For Split 2\n",
      "train accuracy:0.9758064516129032\n",
      "test accuracy:0.8755760368663594\n",
      "For Split 3\n",
      "train accuracy:0.9769585253456221\n",
      "test accuracy:0.8571428571428571\n",
      "For Split 4\n"
     ]
    },
    {
     "name": "stderr",
     "output_type": "stream",
     "text": [
      "\u001b[32m[I 2022-12-03 10:39:48,146]\u001b[0m Trial 85 finished with value: 0.8624761904761904 and parameters: {'n_estimators': 91, 'max_depth': 5, 'criterion': 'gini'}. Best is trial 64 with value: 0.8651428571428571.\u001b[0m\n"
     ]
    },
    {
     "name": "stdout",
     "output_type": "stream",
     "text": [
      "train accuracy:0.9746543778801844\n",
      "test accuracy:0.9124423963133641\n",
      "For Split 0\n",
      "train accuracy:0.9447004608294931\n",
      "test accuracy:0.9170506912442397\n",
      "For Split 1\n",
      "train accuracy:0.9527649769585254\n",
      "test accuracy:0.8709677419354839\n",
      "For Split 2\n",
      "train accuracy:0.9516129032258065\n",
      "test accuracy:0.8894009216589862\n",
      "For Split 3\n",
      "train accuracy:0.9481566820276498\n",
      "test accuracy:0.8571428571428571\n",
      "For Split 4\n"
     ]
    },
    {
     "name": "stderr",
     "output_type": "stream",
     "text": [
      "\u001b[32m[I 2022-12-03 10:39:51,305]\u001b[0m Trial 86 finished with value: 0.8358095238095238 and parameters: {'n_estimators': 91, 'max_depth': 4, 'criterion': 'gini'}. Best is trial 64 with value: 0.8651428571428571.\u001b[0m\n"
     ]
    },
    {
     "name": "stdout",
     "output_type": "stream",
     "text": [
      "train accuracy:0.9550691244239631\n",
      "test accuracy:0.9124423963133641\n",
      "For Split 0\n",
      "train accuracy:0.9746543778801844\n",
      "test accuracy:0.9124423963133641\n",
      "For Split 1\n",
      "train accuracy:0.9769585253456221\n",
      "test accuracy:0.8709677419354839\n",
      "For Split 2\n",
      "train accuracy:0.978110599078341\n",
      "test accuracy:0.880184331797235\n",
      "For Split 3\n",
      "train accuracy:0.9758064516129032\n",
      "test accuracy:0.8617511520737328\n",
      "For Split 4\n"
     ]
    },
    {
     "name": "stderr",
     "output_type": "stream",
     "text": [
      "\u001b[32m[I 2022-12-03 10:39:54,633]\u001b[0m Trial 87 finished with value: 0.8586666666666666 and parameters: {'n_estimators': 82, 'max_depth': 5, 'criterion': 'gini'}. Best is trial 64 with value: 0.8651428571428571.\u001b[0m\n"
     ]
    },
    {
     "name": "stdout",
     "output_type": "stream",
     "text": [
      "train accuracy:0.9746543778801844\n",
      "test accuracy:0.9170506912442397\n",
      "For Split 0\n",
      "train accuracy:0.9735023041474654\n",
      "test accuracy:0.9124423963133641\n",
      "For Split 1\n",
      "train accuracy:0.9758064516129032\n",
      "test accuracy:0.8709677419354839\n",
      "For Split 2\n",
      "train accuracy:0.978110599078341\n",
      "test accuracy:0.880184331797235\n",
      "For Split 3\n",
      "train accuracy:0.9769585253456221\n",
      "test accuracy:0.8617511520737328\n",
      "For Split 4\n"
     ]
    },
    {
     "name": "stderr",
     "output_type": "stream",
     "text": [
      "\u001b[32m[I 2022-12-03 10:39:58,318]\u001b[0m Trial 88 finished with value: 0.8624761904761904 and parameters: {'n_estimators': 87, 'max_depth': 5, 'criterion': 'gini'}. Best is trial 64 with value: 0.8651428571428571.\u001b[0m\n"
     ]
    },
    {
     "name": "stdout",
     "output_type": "stream",
     "text": [
      "train accuracy:0.9723502304147466\n",
      "test accuracy:0.9170506912442397\n",
      "For Split 0\n",
      "train accuracy:0.9919354838709677\n",
      "test accuracy:0.9308755760368663\n",
      "For Split 1\n",
      "train accuracy:0.9907834101382489\n",
      "test accuracy:0.880184331797235\n",
      "For Split 2\n",
      "train accuracy:0.9873271889400922\n",
      "test accuracy:0.8709677419354839\n",
      "For Split 3\n",
      "train accuracy:0.9873271889400922\n",
      "test accuracy:0.8755760368663594\n",
      "For Split 4\n"
     ]
    },
    {
     "name": "stderr",
     "output_type": "stream",
     "text": [
      "\u001b[32m[I 2022-12-03 10:40:02,560]\u001b[0m Trial 89 finished with value: 0.8396190476190476 and parameters: {'n_estimators': 86, 'max_depth': 6, 'criterion': 'gini'}. Best is trial 64 with value: 0.8651428571428571.\u001b[0m\n"
     ]
    },
    {
     "name": "stdout",
     "output_type": "stream",
     "text": [
      "train accuracy:0.988479262672811\n",
      "test accuracy:0.9124423963133641\n",
      "For Split 0\n",
      "train accuracy:0.9769585253456221\n",
      "test accuracy:0.9078341013824884\n",
      "For Split 1\n",
      "train accuracy:0.9758064516129032\n",
      "test accuracy:0.8755760368663594\n",
      "For Split 2\n",
      "train accuracy:0.9769585253456221\n",
      "test accuracy:0.8755760368663594\n",
      "For Split 3\n",
      "train accuracy:0.9769585253456221\n",
      "test accuracy:0.8617511520737328\n",
      "For Split 4\n"
     ]
    },
    {
     "name": "stderr",
     "output_type": "stream",
     "text": [
      "\u001b[32m[I 2022-12-03 10:40:06,462]\u001b[0m Trial 90 finished with value: 0.8567619047619047 and parameters: {'n_estimators': 98, 'max_depth': 5, 'criterion': 'gini'}. Best is trial 64 with value: 0.8651428571428571.\u001b[0m\n"
     ]
    },
    {
     "name": "stdout",
     "output_type": "stream",
     "text": [
      "train accuracy:0.9746543778801844\n",
      "test accuracy:0.8986175115207373\n",
      "For Split 0\n",
      "train accuracy:0.9758064516129032\n",
      "test accuracy:0.9032258064516129\n",
      "For Split 1\n",
      "train accuracy:0.978110599078341\n",
      "test accuracy:0.880184331797235\n",
      "For Split 2\n",
      "train accuracy:0.9758064516129032\n",
      "test accuracy:0.8755760368663594\n",
      "For Split 3\n",
      "train accuracy:0.9758064516129032\n",
      "test accuracy:0.8571428571428571\n",
      "For Split 4\n"
     ]
    },
    {
     "name": "stderr",
     "output_type": "stream",
     "text": [
      "\u001b[32m[I 2022-12-03 10:40:10,430]\u001b[0m Trial 91 finished with value: 0.8617142857142858 and parameters: {'n_estimators': 92, 'max_depth': 5, 'criterion': 'gini'}. Best is trial 64 with value: 0.8651428571428571.\u001b[0m\n"
     ]
    },
    {
     "name": "stdout",
     "output_type": "stream",
     "text": [
      "train accuracy:0.9746543778801844\n",
      "test accuracy:0.9124423963133641\n",
      "For Split 0\n",
      "train accuracy:0.9735023041474654\n",
      "test accuracy:0.9078341013824884\n",
      "For Split 1\n",
      "train accuracy:0.9746543778801844\n",
      "test accuracy:0.8755760368663594\n",
      "For Split 2\n",
      "train accuracy:0.978110599078341\n",
      "test accuracy:0.880184331797235\n",
      "For Split 3\n",
      "train accuracy:0.9758064516129032\n",
      "test accuracy:0.847926267281106\n",
      "For Split 4\n"
     ]
    },
    {
     "name": "stderr",
     "output_type": "stream",
     "text": [
      "\u001b[32m[I 2022-12-03 10:40:13,939]\u001b[0m Trial 92 finished with value: 0.8579047619047617 and parameters: {'n_estimators': 88, 'max_depth': 5, 'criterion': 'gini'}. Best is trial 64 with value: 0.8651428571428571.\u001b[0m\n"
     ]
    },
    {
     "name": "stdout",
     "output_type": "stream",
     "text": [
      "train accuracy:0.9711981566820277\n",
      "test accuracy:0.9170506912442397\n",
      "For Split 0\n",
      "train accuracy:0.9758064516129032\n",
      "test accuracy:0.9078341013824884\n",
      "For Split 1\n",
      "train accuracy:0.9758064516129032\n",
      "test accuracy:0.880184331797235\n",
      "For Split 2\n",
      "train accuracy:0.9758064516129032\n",
      "test accuracy:0.8755760368663594\n",
      "For Split 3\n",
      "train accuracy:0.9769585253456221\n",
      "test accuracy:0.8571428571428571\n",
      "For Split 4\n"
     ]
    },
    {
     "name": "stderr",
     "output_type": "stream",
     "text": [
      "\u001b[32m[I 2022-12-03 10:40:17,753]\u001b[0m Trial 93 finished with value: 0.8651428571428571 and parameters: {'n_estimators': 93, 'max_depth': 5, 'criterion': 'gini'}. Best is trial 64 with value: 0.8651428571428571.\u001b[0m\n"
     ]
    },
    {
     "name": "stdout",
     "output_type": "stream",
     "text": [
      "train accuracy:0.9746543778801844\n",
      "test accuracy:0.9170506912442397\n",
      "For Split 0\n",
      "train accuracy:0.9746543778801844\n",
      "test accuracy:0.9170506912442397\n",
      "For Split 1\n",
      "train accuracy:0.9700460829493087\n",
      "test accuracy:0.8663594470046083\n",
      "For Split 2\n",
      "train accuracy:0.9711981566820277\n",
      "test accuracy:0.8847926267281107\n",
      "For Split 3\n",
      "train accuracy:0.9723502304147466\n",
      "test accuracy:0.8663594470046083\n",
      "For Split 4\n"
     ]
    },
    {
     "name": "stderr",
     "output_type": "stream",
     "text": [
      "\u001b[32m[I 2022-12-03 10:40:19,958]\u001b[0m Trial 94 finished with value: 0.8209523809523809 and parameters: {'n_estimators': 47, 'max_depth': 5, 'criterion': 'gini'}. Best is trial 64 with value: 0.8651428571428571.\u001b[0m\n"
     ]
    },
    {
     "name": "stdout",
     "output_type": "stream",
     "text": [
      "train accuracy:0.9723502304147466\n",
      "test accuracy:0.9262672811059908\n",
      "For Split 0\n",
      "train accuracy:0.9723502304147466\n",
      "test accuracy:0.9216589861751152\n",
      "For Split 1\n",
      "train accuracy:0.9769585253456221\n",
      "test accuracy:0.8709677419354839\n",
      "For Split 2\n",
      "train accuracy:0.9769585253456221\n",
      "test accuracy:0.8755760368663594\n",
      "For Split 3\n",
      "train accuracy:0.966589861751152\n",
      "test accuracy:0.8663594470046083\n",
      "For Split 4\n"
     ]
    },
    {
     "name": "stderr",
     "output_type": "stream",
     "text": [
      "\u001b[32m[I 2022-12-03 10:40:24,240]\u001b[0m Trial 95 finished with value: 0.835047619047619 and parameters: {'n_estimators': 91, 'max_depth': 5, 'criterion': 'entropy'}. Best is trial 64 with value: 0.8651428571428571.\u001b[0m\n"
     ]
    },
    {
     "name": "stdout",
     "output_type": "stream",
     "text": [
      "train accuracy:0.9700460829493087\n",
      "test accuracy:0.9078341013824884\n",
      "For Split 0\n",
      "train accuracy:0.9735023041474654\n",
      "test accuracy:0.9124423963133641\n",
      "For Split 1\n",
      "train accuracy:0.9758064516129032\n",
      "test accuracy:0.8709677419354839\n",
      "For Split 2\n",
      "train accuracy:0.9769585253456221\n",
      "test accuracy:0.880184331797235\n",
      "For Split 3\n",
      "train accuracy:0.9758064516129032\n",
      "test accuracy:0.8617511520737328\n",
      "For Split 4\n"
     ]
    },
    {
     "name": "stderr",
     "output_type": "stream",
     "text": [
      "\u001b[32m[I 2022-12-03 10:40:27,525]\u001b[0m Trial 96 finished with value: 0.8571428571428571 and parameters: {'n_estimators': 83, 'max_depth': 5, 'criterion': 'gini'}. Best is trial 64 with value: 0.8651428571428571.\u001b[0m\n"
     ]
    },
    {
     "name": "stdout",
     "output_type": "stream",
     "text": [
      "train accuracy:0.9735023041474654\n",
      "test accuracy:0.9170506912442397\n",
      "For Split 0\n",
      "train accuracy:0.9481566820276498\n",
      "test accuracy:0.9170506912442397\n",
      "For Split 1\n",
      "train accuracy:0.9516129032258065\n",
      "test accuracy:0.8709677419354839\n",
      "For Split 2\n",
      "train accuracy:0.9539170506912442\n",
      "test accuracy:0.8847926267281107\n",
      "For Split 3\n",
      "train accuracy:0.9493087557603687\n",
      "test accuracy:0.8617511520737328\n",
      "For Split 4\n"
     ]
    },
    {
     "name": "stderr",
     "output_type": "stream",
     "text": [
      "\u001b[32m[I 2022-12-03 10:40:31,074]\u001b[0m Trial 97 finished with value: 0.8331428571428573 and parameters: {'n_estimators': 97, 'max_depth': 4, 'criterion': 'gini'}. Best is trial 64 with value: 0.8651428571428571.\u001b[0m\n"
     ]
    },
    {
     "name": "stdout",
     "output_type": "stream",
     "text": [
      "train accuracy:0.956221198156682\n",
      "test accuracy:0.9170506912442397\n",
      "For Split 0\n",
      "train accuracy:0.9735023041474654\n",
      "test accuracy:0.9078341013824884\n",
      "For Split 1\n",
      "train accuracy:0.9746543778801844\n",
      "test accuracy:0.8755760368663594\n",
      "For Split 2\n",
      "train accuracy:0.978110599078341\n",
      "test accuracy:0.880184331797235\n",
      "For Split 3\n",
      "train accuracy:0.9758064516129032\n",
      "test accuracy:0.847926267281106\n",
      "For Split 4\n"
     ]
    },
    {
     "name": "stderr",
     "output_type": "stream",
     "text": [
      "\u001b[32m[I 2022-12-03 10:40:34,976]\u001b[0m Trial 98 finished with value: 0.8579047619047617 and parameters: {'n_estimators': 88, 'max_depth': 5, 'criterion': 'gini'}. Best is trial 64 with value: 0.8651428571428571.\u001b[0m\n"
     ]
    },
    {
     "name": "stdout",
     "output_type": "stream",
     "text": [
      "train accuracy:0.9711981566820277\n",
      "test accuracy:0.9170506912442397\n",
      "For Split 0\n",
      "train accuracy:0.9389400921658986\n",
      "test accuracy:0.9078341013824884\n",
      "For Split 1\n",
      "train accuracy:0.9481566820276498\n",
      "test accuracy:0.8525345622119815\n",
      "For Split 2\n"
     ]
    },
    {
     "name": "stderr",
     "output_type": "stream",
     "text": [
      "\u001b[32m[I 2022-12-03 10:40:35,339]\u001b[0m Trial 99 finished with value: 0.7066666666666667 and parameters: {'n_estimators': 7, 'max_depth': 5, 'criterion': 'gini'}. Best is trial 64 with value: 0.8651428571428571.\u001b[0m\n"
     ]
    },
    {
     "name": "stdout",
     "output_type": "stream",
     "text": [
      "train accuracy:0.9470046082949308\n",
      "test accuracy:0.8709677419354839\n",
      "For Split 3\n",
      "train accuracy:0.9412442396313364\n",
      "test accuracy:0.8110599078341014\n",
      "For Split 4\n",
      "train accuracy:0.9493087557603687\n",
      "test accuracy:0.8755760368663594\n"
     ]
    }
   ],
   "source": [
    "study = optuna.create_study(direction='maximize',sampler=TPESampler(), study_name='Random_forset_optuna')\n",
    "study.optimize(objective, n_trials = 100)"
   ]
  },
  {
   "cell_type": "code",
   "execution_count": 19,
   "id": "31d0817f",
   "metadata": {
    "execution": {
     "iopub.execute_input": "2022-12-03T10:40:35.426078Z",
     "iopub.status.busy": "2022-12-03T10:40:35.425141Z",
     "iopub.status.idle": "2022-12-03T10:40:35.440304Z",
     "shell.execute_reply": "2022-12-03T10:40:35.439242Z"
    },
    "papermill": {
     "duration": 0.056424,
     "end_time": "2022-12-03T10:40:35.443288",
     "exception": false,
     "start_time": "2022-12-03T10:40:35.386864",
     "status": "completed"
    },
    "tags": []
   },
   "outputs": [
    {
     "name": "stdout",
     "output_type": "stream",
     "text": [
      "Number of trails : 100\n",
      "Best parameters :\n",
      "{'n_estimators': 93, 'max_depth': 5, 'criterion': 'gini'}\n"
     ]
    }
   ],
   "source": [
    "print(\"Number of trails : {}\".format(len(study.trials)))\n",
    "print(\"Best parameters :\")\n",
    "print(study.best_params)\n",
    "params = study.best_params"
   ]
  },
  {
   "cell_type": "code",
   "execution_count": 20,
   "id": "1848468d",
   "metadata": {
    "execution": {
     "iopub.execute_input": "2022-12-03T10:40:35.519357Z",
     "iopub.status.busy": "2022-12-03T10:40:35.519010Z",
     "iopub.status.idle": "2022-12-03T10:40:39.317875Z",
     "shell.execute_reply": "2022-12-03T10:40:39.316657Z"
    },
    "papermill": {
     "duration": 3.840378,
     "end_time": "2022-12-03T10:40:39.320718",
     "exception": false,
     "start_time": "2022-12-03T10:40:35.480340",
     "status": "completed"
    },
    "tags": []
   },
   "outputs": [
    {
     "name": "stdout",
     "output_type": "stream",
     "text": [
      "For Split 1\n",
      "train accuracy:0.9758064516129032\n",
      "test accuracy:0.8847926267281107\n",
      "For Split 2\n",
      "train accuracy:0.9746543778801844\n",
      "test accuracy:0.9032258064516129\n",
      "For Split 3\n",
      "train accuracy:0.9735023041474654\n",
      "test accuracy:0.8663594470046083\n",
      "For Split 4\n",
      "train accuracy:0.978110599078341\n",
      "test accuracy:0.8755760368663594\n",
      "For Split 5\n",
      "train accuracy:0.9758064516129032\n",
      "test accuracy:0.8986175115207373\n",
      "Total Test Accuracy:0.44\n"
     ]
    }
   ],
   "source": [
    "preds = []\n",
    "fold = StratifiedKFold(n_splits=5,shuffle=True,random_state=42)\n",
    "i = 1\n",
    "for train_id,test_id in fold.split(frature_extractor,train_labels):\n",
    "        #training and testing data\n",
    "        print(\"For Split {}\".format(i))\n",
    "        xtrain ,xtest = frature_extractor[train_id],frature_extractor[test_id]\n",
    "        ytrain,ytest = train_labels[train_id],train_labels[test_id]\n",
    "        rc = RandomForestClassifier(**params)\n",
    "        rc.fit(xtrain,ytrain)\n",
    "        y_pred = rc.predict(xtrain)\n",
    "        print(\"train accuracy:{}\".format(accuracy_score(ytrain,y_pred)))\n",
    "        y_pred = rc.predict(xtest)\n",
    "        print(\"test accuracy:{}\".format(accuracy_score(ytest,y_pred)))\n",
    "        y_pred = rc.predict(frature_extractor_test)\n",
    "        preds.append(y_pred)\n",
    "        i+=1\n",
    "preds = np.mean(np.column_stack(preds), axis=1)\n",
    "new_preds = []\n",
    "for x in preds:\n",
    "    if x>=0.:\n",
    "        new_preds.append(1)\n",
    "    else:\n",
    "        new_preds.append(0)\n",
    "print(\"Total Test Accuracy:{}\".format(accuracy_score(new_preds,test_labels)))"
   ]
  }
 ],
 "metadata": {
  "kernelspec": {
   "display_name": "Python 3",
   "language": "python",
   "name": "python3"
  },
  "language_info": {
   "codemirror_mode": {
    "name": "ipython",
    "version": 3
   },
   "file_extension": ".py",
   "mimetype": "text/x-python",
   "name": "python",
   "nbconvert_exporter": "python",
   "pygments_lexer": "ipython3",
   "version": "3.7.12"
  },
  "papermill": {
   "default_parameters": {},
   "duration": 418.558778,
   "end_time": "2022-12-03T10:40:42.284689",
   "environment_variables": {},
   "exception": null,
   "input_path": "__notebook__.ipynb",
   "output_path": "__notebook__.ipynb",
   "parameters": {},
   "start_time": "2022-12-03T10:33:43.725911",
   "version": "2.3.4"
  }
 },
 "nbformat": 4,
 "nbformat_minor": 5
}
